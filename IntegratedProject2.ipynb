{
 "cells": [
  {
   "cell_type": "markdown",
   "metadata": {},
   "source": [
    "# Investigating User Behaviour\n",
    "\n",
    "This project involves investigating user behavior within a food product startup's app. Firstly, the sales funnel will be analyzed to determine how users progress towards making a purchase, identifying where users may drop off. Secondly, an A/A/B test will be conducted to assess the impact of changing the app's fonts on user behavior. By comparing two control groups with the old fonts against one test group with new fonts, the study aims to determine which set of fonts yields better results. This approach allows for a thorough analysis of user engagement and provides insights into potential design changes without disrupting user experience."
   ]
  },
  {
   "cell_type": "markdown",
   "metadata": {},
   "source": [
    "# Table of Contents"
   ]
  },
  {
   "cell_type": "markdown",
   "metadata": {},
   "source": [
    "- [Description of the Data](#description) <br>\n",
    "- [Data Inspection](#inspect)<br>\n",
    "- [Data Preprocessing](#processing)<br>\n",
    "- [Event Funnel Study](#funnel)<br>\n",
    "- [Experiment Results Study](#results)<br>"
   ]
  },
  {
   "cell_type": "markdown",
   "metadata": {},
   "source": [
    "## Description of the Data <br>\n",
    "<div id='description' ></div>\n",
    "\n",
    "logs:\n",
    "- EventName — event name\n",
    "- DeviceIDHash — unique user identifier\n",
    "- EventTimestamp — event time\n",
    "- ExpId — experiment number: 246 and 247 are the control groups, 248 is the test group"
   ]
  },
  {
   "cell_type": "code",
   "execution_count": 1,
   "metadata": {},
   "outputs": [],
   "source": [
    "#importing libraries\n",
    "import pandas as pd\n",
    "import numpy as np\n",
    "from scipy import stats as st\n",
    "from scipy.stats import chi2_contingency\n",
    "import matplotlib.pyplot as plt\n",
    "import seaborn as sns\n",
    "import math\n",
    "import datetime as dt"
   ]
  },
  {
   "cell_type": "code",
   "execution_count": 2,
   "metadata": {},
   "outputs": [],
   "source": [
    "#importing data\n",
    "try:\n",
    "    logs = pd.read_csv(m)\n",
    "except:\n",
    "    logs = pd.read_csv('/datasets/logs_exp_us.csv',sep='\\t')"
   ]
  },
  {
   "cell_type": "markdown",
   "metadata": {},
   "source": [
    "## Data Inspection <br>\n",
    "<div id='inspect'></div>"
   ]
  },
  {
   "cell_type": "code",
   "execution_count": 3,
   "metadata": {},
   "outputs": [
    {
     "name": "stdout",
     "output_type": "stream",
     "text": [
      "<class 'pandas.core.frame.DataFrame'>\n",
      "RangeIndex: 244126 entries, 0 to 244125\n",
      "Data columns (total 4 columns):\n",
      " #   Column          Non-Null Count   Dtype \n",
      "---  ------          --------------   ----- \n",
      " 0   EventName       244126 non-null  object\n",
      " 1   DeviceIDHash    244126 non-null  int64 \n",
      " 2   EventTimestamp  244126 non-null  int64 \n",
      " 3   ExpId           244126 non-null  int64 \n",
      "dtypes: int64(3), object(1)\n",
      "memory usage: 7.5+ MB\n",
      "Missing values in logs table EventName         0\n",
      "DeviceIDHash      0\n",
      "EventTimestamp    0\n",
      "ExpId             0\n",
      "dtype: int64\n",
      "Duplicated values in logs table 413\n"
     ]
    },
    {
     "data": {
      "text/html": [
       "<div>\n",
       "<style scoped>\n",
       "    .dataframe tbody tr th:only-of-type {\n",
       "        vertical-align: middle;\n",
       "    }\n",
       "\n",
       "    .dataframe tbody tr th {\n",
       "        vertical-align: top;\n",
       "    }\n",
       "\n",
       "    .dataframe thead th {\n",
       "        text-align: right;\n",
       "    }\n",
       "</style>\n",
       "<table border=\"1\" class=\"dataframe\">\n",
       "  <thead>\n",
       "    <tr style=\"text-align: right;\">\n",
       "      <th></th>\n",
       "      <th>EventName</th>\n",
       "      <th>DeviceIDHash</th>\n",
       "      <th>EventTimestamp</th>\n",
       "      <th>ExpId</th>\n",
       "    </tr>\n",
       "  </thead>\n",
       "  <tbody>\n",
       "    <tr>\n",
       "      <th>0</th>\n",
       "      <td>MainScreenAppear</td>\n",
       "      <td>4575588528974610257</td>\n",
       "      <td>1564029816</td>\n",
       "      <td>246</td>\n",
       "    </tr>\n",
       "    <tr>\n",
       "      <th>1</th>\n",
       "      <td>MainScreenAppear</td>\n",
       "      <td>7416695313311560658</td>\n",
       "      <td>1564053102</td>\n",
       "      <td>246</td>\n",
       "    </tr>\n",
       "    <tr>\n",
       "      <th>2</th>\n",
       "      <td>PaymentScreenSuccessful</td>\n",
       "      <td>3518123091307005509</td>\n",
       "      <td>1564054127</td>\n",
       "      <td>248</td>\n",
       "    </tr>\n",
       "    <tr>\n",
       "      <th>3</th>\n",
       "      <td>CartScreenAppear</td>\n",
       "      <td>3518123091307005509</td>\n",
       "      <td>1564054127</td>\n",
       "      <td>248</td>\n",
       "    </tr>\n",
       "    <tr>\n",
       "      <th>4</th>\n",
       "      <td>PaymentScreenSuccessful</td>\n",
       "      <td>6217807653094995999</td>\n",
       "      <td>1564055322</td>\n",
       "      <td>248</td>\n",
       "    </tr>\n",
       "  </tbody>\n",
       "</table>\n",
       "</div>"
      ],
      "text/plain": [
       "                 EventName         DeviceIDHash  EventTimestamp  ExpId\n",
       "0         MainScreenAppear  4575588528974610257      1564029816    246\n",
       "1         MainScreenAppear  7416695313311560658      1564053102    246\n",
       "2  PaymentScreenSuccessful  3518123091307005509      1564054127    248\n",
       "3         CartScreenAppear  3518123091307005509      1564054127    248\n",
       "4  PaymentScreenSuccessful  6217807653094995999      1564055322    248"
      ]
     },
     "execution_count": 3,
     "metadata": {},
     "output_type": "execute_result"
    }
   ],
   "source": [
    "#inspecting logs table\n",
    "logs.info()\n",
    "print(f'Missing values in logs table {logs.isna().sum()}')\n",
    "print(f'Duplicated values in logs table {logs.duplicated().sum()}')\n",
    "logs.head()"
   ]
  },
  {
   "cell_type": "code",
   "execution_count": 4,
   "metadata": {},
   "outputs": [
    {
     "data": {
      "text/html": [
       "<div>\n",
       "<style scoped>\n",
       "    .dataframe tbody tr th:only-of-type {\n",
       "        vertical-align: middle;\n",
       "    }\n",
       "\n",
       "    .dataframe tbody tr th {\n",
       "        vertical-align: top;\n",
       "    }\n",
       "\n",
       "    .dataframe thead th {\n",
       "        text-align: right;\n",
       "    }\n",
       "</style>\n",
       "<table border=\"1\" class=\"dataframe\">\n",
       "  <thead>\n",
       "    <tr style=\"text-align: right;\">\n",
       "      <th></th>\n",
       "      <th>EventName</th>\n",
       "      <th>DeviceIDHash</th>\n",
       "      <th>EventTimestamp</th>\n",
       "      <th>ExpId</th>\n",
       "    </tr>\n",
       "  </thead>\n",
       "  <tbody>\n",
       "    <tr>\n",
       "      <th>0</th>\n",
       "      <td>MainScreenAppear</td>\n",
       "      <td>4575588528974610257</td>\n",
       "      <td>2019-07-25 04:43:36</td>\n",
       "      <td>246</td>\n",
       "    </tr>\n",
       "    <tr>\n",
       "      <th>1</th>\n",
       "      <td>MainScreenAppear</td>\n",
       "      <td>7416695313311560658</td>\n",
       "      <td>2019-07-25 11:11:42</td>\n",
       "      <td>246</td>\n",
       "    </tr>\n",
       "    <tr>\n",
       "      <th>2</th>\n",
       "      <td>PaymentScreenSuccessful</td>\n",
       "      <td>3518123091307005509</td>\n",
       "      <td>2019-07-25 11:28:47</td>\n",
       "      <td>248</td>\n",
       "    </tr>\n",
       "    <tr>\n",
       "      <th>3</th>\n",
       "      <td>CartScreenAppear</td>\n",
       "      <td>3518123091307005509</td>\n",
       "      <td>2019-07-25 11:28:47</td>\n",
       "      <td>248</td>\n",
       "    </tr>\n",
       "    <tr>\n",
       "      <th>4</th>\n",
       "      <td>PaymentScreenSuccessful</td>\n",
       "      <td>6217807653094995999</td>\n",
       "      <td>2019-07-25 11:48:42</td>\n",
       "      <td>248</td>\n",
       "    </tr>\n",
       "  </tbody>\n",
       "</table>\n",
       "</div>"
      ],
      "text/plain": [
       "                 EventName         DeviceIDHash      EventTimestamp  ExpId\n",
       "0         MainScreenAppear  4575588528974610257 2019-07-25 04:43:36    246\n",
       "1         MainScreenAppear  7416695313311560658 2019-07-25 11:11:42    246\n",
       "2  PaymentScreenSuccessful  3518123091307005509 2019-07-25 11:28:47    248\n",
       "3         CartScreenAppear  3518123091307005509 2019-07-25 11:28:47    248\n",
       "4  PaymentScreenSuccessful  6217807653094995999 2019-07-25 11:48:42    248"
      ]
     },
     "execution_count": 4,
     "metadata": {},
     "output_type": "execute_result"
    }
   ],
   "source": [
    "#Converting EventTimestamp column to datetime type\n",
    "logs['EventTimestamp'] = pd.to_datetime(logs['EventTimestamp'], unit='s')\n",
    "logs.head(5)"
   ]
  },
  {
   "cell_type": "code",
   "execution_count": 5,
   "metadata": {},
   "outputs": [
    {
     "data": {
      "text/html": [
       "<div>\n",
       "<style scoped>\n",
       "    .dataframe tbody tr th:only-of-type {\n",
       "        vertical-align: middle;\n",
       "    }\n",
       "\n",
       "    .dataframe tbody tr th {\n",
       "        vertical-align: top;\n",
       "    }\n",
       "\n",
       "    .dataframe thead th {\n",
       "        text-align: right;\n",
       "    }\n",
       "</style>\n",
       "<table border=\"1\" class=\"dataframe\">\n",
       "  <thead>\n",
       "    <tr style=\"text-align: right;\">\n",
       "      <th></th>\n",
       "      <th>eventname</th>\n",
       "      <th>deviceid</th>\n",
       "      <th>eventtime</th>\n",
       "      <th>expid</th>\n",
       "    </tr>\n",
       "  </thead>\n",
       "  <tbody>\n",
       "    <tr>\n",
       "      <th>0</th>\n",
       "      <td>MainScreenAppear</td>\n",
       "      <td>4575588528974610257</td>\n",
       "      <td>2019-07-25 04:43:36</td>\n",
       "      <td>246</td>\n",
       "    </tr>\n",
       "    <tr>\n",
       "      <th>1</th>\n",
       "      <td>MainScreenAppear</td>\n",
       "      <td>7416695313311560658</td>\n",
       "      <td>2019-07-25 11:11:42</td>\n",
       "      <td>246</td>\n",
       "    </tr>\n",
       "    <tr>\n",
       "      <th>2</th>\n",
       "      <td>PaymentScreenSuccessful</td>\n",
       "      <td>3518123091307005509</td>\n",
       "      <td>2019-07-25 11:28:47</td>\n",
       "      <td>248</td>\n",
       "    </tr>\n",
       "    <tr>\n",
       "      <th>3</th>\n",
       "      <td>CartScreenAppear</td>\n",
       "      <td>3518123091307005509</td>\n",
       "      <td>2019-07-25 11:28:47</td>\n",
       "      <td>248</td>\n",
       "    </tr>\n",
       "    <tr>\n",
       "      <th>4</th>\n",
       "      <td>PaymentScreenSuccessful</td>\n",
       "      <td>6217807653094995999</td>\n",
       "      <td>2019-07-25 11:48:42</td>\n",
       "      <td>248</td>\n",
       "    </tr>\n",
       "    <tr>\n",
       "      <th>...</th>\n",
       "      <td>...</td>\n",
       "      <td>...</td>\n",
       "      <td>...</td>\n",
       "      <td>...</td>\n",
       "    </tr>\n",
       "    <tr>\n",
       "      <th>244121</th>\n",
       "      <td>MainScreenAppear</td>\n",
       "      <td>4599628364049201812</td>\n",
       "      <td>2019-08-07 21:12:25</td>\n",
       "      <td>247</td>\n",
       "    </tr>\n",
       "    <tr>\n",
       "      <th>244122</th>\n",
       "      <td>MainScreenAppear</td>\n",
       "      <td>5849806612437486590</td>\n",
       "      <td>2019-08-07 21:13:59</td>\n",
       "      <td>246</td>\n",
       "    </tr>\n",
       "    <tr>\n",
       "      <th>244123</th>\n",
       "      <td>MainScreenAppear</td>\n",
       "      <td>5746969938801999050</td>\n",
       "      <td>2019-08-07 21:14:43</td>\n",
       "      <td>246</td>\n",
       "    </tr>\n",
       "    <tr>\n",
       "      <th>244124</th>\n",
       "      <td>MainScreenAppear</td>\n",
       "      <td>5746969938801999050</td>\n",
       "      <td>2019-08-07 21:14:58</td>\n",
       "      <td>246</td>\n",
       "    </tr>\n",
       "    <tr>\n",
       "      <th>244125</th>\n",
       "      <td>OffersScreenAppear</td>\n",
       "      <td>5746969938801999050</td>\n",
       "      <td>2019-08-07 21:15:17</td>\n",
       "      <td>246</td>\n",
       "    </tr>\n",
       "  </tbody>\n",
       "</table>\n",
       "<p>244126 rows × 4 columns</p>\n",
       "</div>"
      ],
      "text/plain": [
       "                      eventname             deviceid           eventtime  \\\n",
       "0              MainScreenAppear  4575588528974610257 2019-07-25 04:43:36   \n",
       "1              MainScreenAppear  7416695313311560658 2019-07-25 11:11:42   \n",
       "2       PaymentScreenSuccessful  3518123091307005509 2019-07-25 11:28:47   \n",
       "3              CartScreenAppear  3518123091307005509 2019-07-25 11:28:47   \n",
       "4       PaymentScreenSuccessful  6217807653094995999 2019-07-25 11:48:42   \n",
       "...                         ...                  ...                 ...   \n",
       "244121         MainScreenAppear  4599628364049201812 2019-08-07 21:12:25   \n",
       "244122         MainScreenAppear  5849806612437486590 2019-08-07 21:13:59   \n",
       "244123         MainScreenAppear  5746969938801999050 2019-08-07 21:14:43   \n",
       "244124         MainScreenAppear  5746969938801999050 2019-08-07 21:14:58   \n",
       "244125       OffersScreenAppear  5746969938801999050 2019-08-07 21:15:17   \n",
       "\n",
       "        expid  \n",
       "0         246  \n",
       "1         246  \n",
       "2         248  \n",
       "3         248  \n",
       "4         248  \n",
       "...       ...  \n",
       "244121    247  \n",
       "244122    246  \n",
       "244123    246  \n",
       "244124    246  \n",
       "244125    246  \n",
       "\n",
       "[244126 rows x 4 columns]"
      ]
     },
     "execution_count": 5,
     "metadata": {},
     "output_type": "execute_result"
    }
   ],
   "source": [
    "#changing column names to lower case\n",
    "logs.rename(columns={'EventName':'eventname','DeviceIDHash':'deviceid','EventTimestamp':'eventtime','ExpId':'expid'},inplace=True)\n",
    "logs"
   ]
  },
  {
   "cell_type": "code",
   "execution_count": 6,
   "metadata": {},
   "outputs": [
    {
     "data": {
      "text/html": [
       "<div>\n",
       "<style scoped>\n",
       "    .dataframe tbody tr th:only-of-type {\n",
       "        vertical-align: middle;\n",
       "    }\n",
       "\n",
       "    .dataframe tbody tr th {\n",
       "        vertical-align: top;\n",
       "    }\n",
       "\n",
       "    .dataframe thead th {\n",
       "        text-align: right;\n",
       "    }\n",
       "</style>\n",
       "<table border=\"1\" class=\"dataframe\">\n",
       "  <thead>\n",
       "    <tr style=\"text-align: right;\">\n",
       "      <th></th>\n",
       "      <th>eventname</th>\n",
       "      <th>deviceid</th>\n",
       "      <th>eventtime</th>\n",
       "      <th>expid</th>\n",
       "      <th>date</th>\n",
       "      <th>time</th>\n",
       "    </tr>\n",
       "  </thead>\n",
       "  <tbody>\n",
       "    <tr>\n",
       "      <th>0</th>\n",
       "      <td>MainScreenAppear</td>\n",
       "      <td>4575588528974610257</td>\n",
       "      <td>2019-07-25 04:43:36</td>\n",
       "      <td>246</td>\n",
       "      <td>2019-07-25</td>\n",
       "      <td>04:43:36</td>\n",
       "    </tr>\n",
       "    <tr>\n",
       "      <th>1</th>\n",
       "      <td>MainScreenAppear</td>\n",
       "      <td>7416695313311560658</td>\n",
       "      <td>2019-07-25 11:11:42</td>\n",
       "      <td>246</td>\n",
       "      <td>2019-07-25</td>\n",
       "      <td>11:11:42</td>\n",
       "    </tr>\n",
       "    <tr>\n",
       "      <th>2</th>\n",
       "      <td>PaymentScreenSuccessful</td>\n",
       "      <td>3518123091307005509</td>\n",
       "      <td>2019-07-25 11:28:47</td>\n",
       "      <td>248</td>\n",
       "      <td>2019-07-25</td>\n",
       "      <td>11:28:47</td>\n",
       "    </tr>\n",
       "    <tr>\n",
       "      <th>3</th>\n",
       "      <td>CartScreenAppear</td>\n",
       "      <td>3518123091307005509</td>\n",
       "      <td>2019-07-25 11:28:47</td>\n",
       "      <td>248</td>\n",
       "      <td>2019-07-25</td>\n",
       "      <td>11:28:47</td>\n",
       "    </tr>\n",
       "    <tr>\n",
       "      <th>4</th>\n",
       "      <td>PaymentScreenSuccessful</td>\n",
       "      <td>6217807653094995999</td>\n",
       "      <td>2019-07-25 11:48:42</td>\n",
       "      <td>248</td>\n",
       "      <td>2019-07-25</td>\n",
       "      <td>11:48:42</td>\n",
       "    </tr>\n",
       "  </tbody>\n",
       "</table>\n",
       "</div>"
      ],
      "text/plain": [
       "                 eventname             deviceid           eventtime  expid  \\\n",
       "0         MainScreenAppear  4575588528974610257 2019-07-25 04:43:36    246   \n",
       "1         MainScreenAppear  7416695313311560658 2019-07-25 11:11:42    246   \n",
       "2  PaymentScreenSuccessful  3518123091307005509 2019-07-25 11:28:47    248   \n",
       "3         CartScreenAppear  3518123091307005509 2019-07-25 11:28:47    248   \n",
       "4  PaymentScreenSuccessful  6217807653094995999 2019-07-25 11:48:42    248   \n",
       "\n",
       "        date      time  \n",
       "0 2019-07-25  04:43:36  \n",
       "1 2019-07-25  11:11:42  \n",
       "2 2019-07-25  11:28:47  \n",
       "3 2019-07-25  11:28:47  \n",
       "4 2019-07-25  11:48:42  "
      ]
     },
     "execution_count": 6,
     "metadata": {},
     "output_type": "execute_result"
    }
   ],
   "source": [
    "#creating date and time columns\n",
    "logs['date'] = pd.to_datetime(logs['eventtime']).dt.date\n",
    "logs['date'] = pd.to_datetime(logs['date'],format='%Y-%m-%d')\n",
    "logs['time'] = pd.to_datetime(logs['eventtime']).dt.time\n",
    "logs.head(5)"
   ]
  },
  {
   "cell_type": "code",
   "execution_count": 7,
   "metadata": {},
   "outputs": [
    {
     "data": {
      "text/html": [
       "<div>\n",
       "<style scoped>\n",
       "    .dataframe tbody tr th:only-of-type {\n",
       "        vertical-align: middle;\n",
       "    }\n",
       "\n",
       "    .dataframe tbody tr th {\n",
       "        vertical-align: top;\n",
       "    }\n",
       "\n",
       "    .dataframe thead th {\n",
       "        text-align: right;\n",
       "    }\n",
       "</style>\n",
       "<table border=\"1\" class=\"dataframe\">\n",
       "  <thead>\n",
       "    <tr style=\"text-align: right;\">\n",
       "      <th></th>\n",
       "      <th>eventname</th>\n",
       "      <th>deviceid</th>\n",
       "      <th>eventtime</th>\n",
       "      <th>expid</th>\n",
       "      <th>date</th>\n",
       "      <th>time</th>\n",
       "    </tr>\n",
       "  </thead>\n",
       "  <tbody>\n",
       "    <tr>\n",
       "      <th>453</th>\n",
       "      <td>MainScreenAppear</td>\n",
       "      <td>5613408041324010552</td>\n",
       "      <td>2019-07-30 08:19:44</td>\n",
       "      <td>248</td>\n",
       "      <td>2019-07-30</td>\n",
       "      <td>08:19:44</td>\n",
       "    </tr>\n",
       "    <tr>\n",
       "      <th>2350</th>\n",
       "      <td>CartScreenAppear</td>\n",
       "      <td>1694940645335807244</td>\n",
       "      <td>2019-07-31 21:51:39</td>\n",
       "      <td>248</td>\n",
       "      <td>2019-07-31</td>\n",
       "      <td>21:51:39</td>\n",
       "    </tr>\n",
       "    <tr>\n",
       "      <th>3573</th>\n",
       "      <td>MainScreenAppear</td>\n",
       "      <td>434103746454591587</td>\n",
       "      <td>2019-08-01 02:59:37</td>\n",
       "      <td>248</td>\n",
       "      <td>2019-08-01</td>\n",
       "      <td>02:59:37</td>\n",
       "    </tr>\n",
       "    <tr>\n",
       "      <th>4076</th>\n",
       "      <td>MainScreenAppear</td>\n",
       "      <td>3761373764179762633</td>\n",
       "      <td>2019-08-01 03:47:46</td>\n",
       "      <td>247</td>\n",
       "      <td>2019-08-01</td>\n",
       "      <td>03:47:46</td>\n",
       "    </tr>\n",
       "    <tr>\n",
       "      <th>4803</th>\n",
       "      <td>MainScreenAppear</td>\n",
       "      <td>2835328739789306622</td>\n",
       "      <td>2019-08-01 04:44:01</td>\n",
       "      <td>248</td>\n",
       "      <td>2019-08-01</td>\n",
       "      <td>04:44:01</td>\n",
       "    </tr>\n",
       "    <tr>\n",
       "      <th>...</th>\n",
       "      <td>...</td>\n",
       "      <td>...</td>\n",
       "      <td>...</td>\n",
       "      <td>...</td>\n",
       "      <td>...</td>\n",
       "      <td>...</td>\n",
       "    </tr>\n",
       "    <tr>\n",
       "      <th>242329</th>\n",
       "      <td>MainScreenAppear</td>\n",
       "      <td>8870358373313968633</td>\n",
       "      <td>2019-08-07 19:26:44</td>\n",
       "      <td>247</td>\n",
       "      <td>2019-08-07</td>\n",
       "      <td>19:26:44</td>\n",
       "    </tr>\n",
       "    <tr>\n",
       "      <th>242332</th>\n",
       "      <td>PaymentScreenSuccessful</td>\n",
       "      <td>4718002964983105693</td>\n",
       "      <td>2019-08-07 19:26:45</td>\n",
       "      <td>247</td>\n",
       "      <td>2019-08-07</td>\n",
       "      <td>19:26:45</td>\n",
       "    </tr>\n",
       "    <tr>\n",
       "      <th>242360</th>\n",
       "      <td>PaymentScreenSuccessful</td>\n",
       "      <td>2382591782303281935</td>\n",
       "      <td>2019-08-07 19:27:29</td>\n",
       "      <td>246</td>\n",
       "      <td>2019-08-07</td>\n",
       "      <td>19:27:29</td>\n",
       "    </tr>\n",
       "    <tr>\n",
       "      <th>242362</th>\n",
       "      <td>CartScreenAppear</td>\n",
       "      <td>2382591782303281935</td>\n",
       "      <td>2019-08-07 19:27:29</td>\n",
       "      <td>246</td>\n",
       "      <td>2019-08-07</td>\n",
       "      <td>19:27:29</td>\n",
       "    </tr>\n",
       "    <tr>\n",
       "      <th>242635</th>\n",
       "      <td>MainScreenAppear</td>\n",
       "      <td>4097782667445790512</td>\n",
       "      <td>2019-08-07 19:36:58</td>\n",
       "      <td>246</td>\n",
       "      <td>2019-08-07</td>\n",
       "      <td>19:36:58</td>\n",
       "    </tr>\n",
       "  </tbody>\n",
       "</table>\n",
       "<p>413 rows × 6 columns</p>\n",
       "</div>"
      ],
      "text/plain": [
       "                      eventname             deviceid           eventtime  \\\n",
       "453            MainScreenAppear  5613408041324010552 2019-07-30 08:19:44   \n",
       "2350           CartScreenAppear  1694940645335807244 2019-07-31 21:51:39   \n",
       "3573           MainScreenAppear   434103746454591587 2019-08-01 02:59:37   \n",
       "4076           MainScreenAppear  3761373764179762633 2019-08-01 03:47:46   \n",
       "4803           MainScreenAppear  2835328739789306622 2019-08-01 04:44:01   \n",
       "...                         ...                  ...                 ...   \n",
       "242329         MainScreenAppear  8870358373313968633 2019-08-07 19:26:44   \n",
       "242332  PaymentScreenSuccessful  4718002964983105693 2019-08-07 19:26:45   \n",
       "242360  PaymentScreenSuccessful  2382591782303281935 2019-08-07 19:27:29   \n",
       "242362         CartScreenAppear  2382591782303281935 2019-08-07 19:27:29   \n",
       "242635         MainScreenAppear  4097782667445790512 2019-08-07 19:36:58   \n",
       "\n",
       "        expid       date      time  \n",
       "453       248 2019-07-30  08:19:44  \n",
       "2350      248 2019-07-31  21:51:39  \n",
       "3573      248 2019-08-01  02:59:37  \n",
       "4076      247 2019-08-01  03:47:46  \n",
       "4803      248 2019-08-01  04:44:01  \n",
       "...       ...        ...       ...  \n",
       "242329    247 2019-08-07  19:26:44  \n",
       "242332    247 2019-08-07  19:26:45  \n",
       "242360    246 2019-08-07  19:27:29  \n",
       "242362    246 2019-08-07  19:27:29  \n",
       "242635    246 2019-08-07  19:36:58  \n",
       "\n",
       "[413 rows x 6 columns]"
      ]
     },
     "execution_count": 7,
     "metadata": {},
     "output_type": "execute_result"
    }
   ],
   "source": [
    "#inspecting duplicated values \n",
    "logs[logs.duplicated()==True]"
   ]
  },
  {
   "cell_type": "markdown",
   "metadata": {},
   "source": [
    "Comment: The duplicated data can be deleted from the dataset as it makes up less than 0.01% of the dataset. The removal on these records won't have a significant difference on the dataset."
   ]
  },
  {
   "cell_type": "code",
   "execution_count": 8,
   "metadata": {},
   "outputs": [
    {
     "name": "stdout",
     "output_type": "stream",
     "text": [
      "<class 'pandas.core.frame.DataFrame'>\n",
      "Int64Index: 243713 entries, 0 to 244125\n",
      "Data columns (total 6 columns):\n",
      " #   Column     Non-Null Count   Dtype         \n",
      "---  ------     --------------   -----         \n",
      " 0   eventname  243713 non-null  object        \n",
      " 1   deviceid   243713 non-null  int64         \n",
      " 2   eventtime  243713 non-null  datetime64[ns]\n",
      " 3   expid      243713 non-null  int64         \n",
      " 4   date       243713 non-null  datetime64[ns]\n",
      " 5   time       243713 non-null  object        \n",
      "dtypes: datetime64[ns](2), int64(2), object(2)\n",
      "memory usage: 13.0+ MB\n"
     ]
    }
   ],
   "source": [
    "#deleting duplicated data \n",
    "logs = logs.drop_duplicates()\n",
    "logs.info()"
   ]
  },
  {
   "cell_type": "markdown",
   "metadata": {},
   "source": [
    "## Data Preprocessing <br>\n",
    "<div id='processing'></div>\n",
    "\n",
    "### How many events are in the logs?"
   ]
  },
  {
   "cell_type": "code",
   "execution_count": 9,
   "metadata": {},
   "outputs": [
    {
     "name": "stdout",
     "output_type": "stream",
     "text": [
      "There are a total of 243713 events in the logs table and 5 different unique events in the logs table.\n"
     ]
    }
   ],
   "source": [
    "print(f\"There are a total of {logs['eventname'].count()} events in the logs table and {len(logs['eventname'].unique())} different unique events in the logs table.\")"
   ]
  },
  {
   "cell_type": "markdown",
   "metadata": {},
   "source": [
    "### How many users are in the logs?"
   ]
  },
  {
   "cell_type": "code",
   "execution_count": 10,
   "metadata": {},
   "outputs": [
    {
     "name": "stdout",
     "output_type": "stream",
     "text": [
      "There are 7551 users in the logs table.\n"
     ]
    }
   ],
   "source": [
    "print(f\"There are {len(logs['deviceid'].unique())} users in the logs table.\")"
   ]
  },
  {
   "cell_type": "markdown",
   "metadata": {},
   "source": [
    "### What's the average number of events per user?"
   ]
  },
  {
   "cell_type": "code",
   "execution_count": 11,
   "metadata": {},
   "outputs": [
    {
     "name": "stdout",
     "output_type": "stream",
     "text": [
      "The average number of events per user is 32.27559263673685.\n"
     ]
    }
   ],
   "source": [
    "avg_events = logs['eventname'].count()/len(logs['deviceid'].unique())\n",
    "print(f\"The average number of events per user is {avg_events}.\")"
   ]
  },
  {
   "cell_type": "markdown",
   "metadata": {},
   "source": [
    "### What period of time does the data cover?"
   ]
  },
  {
   "cell_type": "code",
   "execution_count": 12,
   "metadata": {
    "scrolled": true
   },
   "outputs": [
    {
     "name": "stdout",
     "output_type": "stream",
     "text": [
      "Minimum date 2019-07-25 00:00:00 and maximum date 2019-08-07 00:00:00.\n"
     ]
    }
   ],
   "source": [
    "#finding the maximum and minimum date\n",
    "mindate = logs['date'].min()\n",
    "maxdate = logs['date'].max()\n",
    "print(f\"Minimum date {mindate} and maximum date {maxdate}.\")"
   ]
  },
  {
   "cell_type": "code",
   "execution_count": 13,
   "metadata": {},
   "outputs": [
    {
     "data": {
      "image/png": "[encoded data removed]",
      "text/plain": [
       "<Figure size 1300x900 with 1 Axes>"
      ]
     },
     "metadata": {},
     "output_type": "display_data"
    }
   ],
   "source": [
    "#plotting histogram by the date and time\n",
    "plt.figure(figsize=(13,9))\n",
    "sns.histplot(logs['eventtime'])\n",
    "#plt.hist(logs['eventtime'])\n",
    "plt.xlabel('Date')\n",
    "plt.xticks(rotation=45)\n",
    "plt.ylabel('Frequency')\n",
    "plt.title('Histogram of the dates')\n",
    "plt.show()"
   ]
  },
  {
   "cell_type": "code",
   "execution_count": 14,
   "metadata": {},
   "outputs": [
    {
     "data": {
      "text/plain": [
       "2826"
      ]
     },
     "execution_count": 14,
     "metadata": {},
     "output_type": "execute_result"
    }
   ],
   "source": [
    "logsout = logs[logs['eventtime'] < '2019-08-01 00:00:00']\n",
    "out = len(logsout)\n",
    "out"
   ]
  },
  {
   "cell_type": "code",
   "execution_count": 15,
   "metadata": {},
   "outputs": [
    {
     "data": {
      "text/plain": [
       "240887"
      ]
     },
     "execution_count": 15,
     "metadata": {},
     "output_type": "execute_result"
    }
   ],
   "source": [
    "logsv2 = logs[logs['eventtime'] >= '2019-08-01 00:00:00']\n",
    "remain = len(logsv2)\n",
    "remain"
   ]
  },
  {
   "cell_type": "code",
   "execution_count": 16,
   "metadata": {},
   "outputs": [
    {
     "name": "stdout",
     "output_type": "stream",
     "text": [
      "The data before 2019-08-01 makes up 1.159560630741897% of the total logs table which is 1% so that implies these records can be removed as there won't be a signifacant difference to the data.\n"
     ]
    }
   ],
   "source": [
    "outratio = (out/len(logs))*100\n",
    "print(f\"The data before 2019-08-01 makes up {outratio}% of the total logs table which is 1% so that implies these records can be removed as there won't be a signifacant difference to the data.\")"
   ]
  },
  {
   "cell_type": "markdown",
   "metadata": {},
   "source": [
    "Comment: Based on observing the graph above, the data starts to be complete from the 2019-08-01 until 2019-08-07. As the pattern observed above is a normal distribution for each day. There are no observed patterns prior the date 2019-08-01 and the amount of data is observed to be significantly little."
   ]
  },
  {
   "cell_type": "code",
   "execution_count": 17,
   "metadata": {},
   "outputs": [
    {
     "data": {
      "image/png": "[encoded data removed]",
      "text/plain": [
       "<Figure size 1300x900 with 1 Axes>"
      ]
     },
     "metadata": {},
     "output_type": "display_data"
    }
   ],
   "source": [
    "#plotting the actual period covered\n",
    "plt.figure(figsize=(13,9))\n",
    "sns.histplot(logsv2['eventtime'])\n",
    "plt.xlabel('Date')\n",
    "plt.xticks(rotation=45)\n",
    "plt.ylabel('Frequency')\n",
    "plt.title('Histogram of the dates')\n",
    "plt.show()"
   ]
  },
  {
   "cell_type": "markdown",
   "metadata": {},
   "source": [
    "Comment: The actual period covered is 2019-08-01 to 2019-08-07."
   ]
  },
  {
   "cell_type": "markdown",
   "metadata": {},
   "source": [
    "### Were many events and users lost when excluding the older data?"
   ]
  },
  {
   "cell_type": "code",
   "execution_count": 18,
   "metadata": {},
   "outputs": [
    {
     "name": "stdout",
     "output_type": "stream",
     "text": [
      "99.77486425638989% of users have remained. 0.22513574361011024% of users were lost.\n"
     ]
    }
   ],
   "source": [
    "#calculating ratio of remaining users to total users\n",
    "user_ratio = (len(logsv2['deviceid'].unique())/len(logs['deviceid'].unique()))*100\n",
    "print(f\"{user_ratio}% of users have remained. {100-user_ratio}% of users were lost.\")"
   ]
  },
  {
   "cell_type": "code",
   "execution_count": 19,
   "metadata": {},
   "outputs": [
    {
     "name": "stdout",
     "output_type": "stream",
     "text": [
      "98.8404393692581% of events have remained. 1.1595606307418933% of events were lost.\n"
     ]
    }
   ],
   "source": [
    "#calculating ratio of remaining events to total events\n",
    "event_ratio = (len(logsv2['eventname'])/len(logs['eventname']))*100\n",
    "print(f\"{event_ratio}% of events have remained. {100-event_ratio}% of events were lost.\")"
   ]
  },
  {
   "cell_type": "markdown",
   "metadata": {},
   "source": [
    "### Are all users from all three experimental group present?"
   ]
  },
  {
   "cell_type": "code",
   "execution_count": 20,
   "metadata": {},
   "outputs": [
    {
     "data": {
      "text/html": [
       "<div>\n",
       "<style scoped>\n",
       "    .dataframe tbody tr th:only-of-type {\n",
       "        vertical-align: middle;\n",
       "    }\n",
       "\n",
       "    .dataframe tbody tr th {\n",
       "        vertical-align: top;\n",
       "    }\n",
       "\n",
       "    .dataframe thead th {\n",
       "        text-align: right;\n",
       "    }\n",
       "</style>\n",
       "<table border=\"1\" class=\"dataframe\">\n",
       "  <thead>\n",
       "    <tr style=\"text-align: right;\">\n",
       "      <th></th>\n",
       "      <th>eventname</th>\n",
       "    </tr>\n",
       "  </thead>\n",
       "  <tbody>\n",
       "    <tr>\n",
       "      <th>246</th>\n",
       "      <td>79302</td>\n",
       "    </tr>\n",
       "    <tr>\n",
       "      <th>247</th>\n",
       "      <td>77022</td>\n",
       "    </tr>\n",
       "    <tr>\n",
       "      <th>248</th>\n",
       "      <td>84563</td>\n",
       "    </tr>\n",
       "    <tr>\n",
       "      <th>Total</th>\n",
       "      <td>240887</td>\n",
       "    </tr>\n",
       "  </tbody>\n",
       "</table>\n",
       "</div>"
      ],
      "text/plain": [
       "       eventname\n",
       "246        79302\n",
       "247        77022\n",
       "248        84563\n",
       "Total     240887"
      ]
     },
     "execution_count": 20,
     "metadata": {},
     "output_type": "execute_result"
    }
   ],
   "source": [
    "#grouping the experimental groups and creating a total row to count all the records\n",
    "grouped = logsv2.groupby('expid').agg({'eventname':'count'})\n",
    "total_row = pd.DataFrame({'eventname':[grouped['eventname'].sum()]}, index=['Total'])\n",
    "complete = pd.concat([grouped,total_row])\n",
    "complete"
   ]
  },
  {
   "cell_type": "markdown",
   "metadata": {},
   "source": [
    "## Event Funnel Study <br> \n",
    "<div id='funnel'></div>"
   ]
  },
  {
   "cell_type": "markdown",
   "metadata": {},
   "source": [
    "### Determining events in the logs and their frequency."
   ]
  },
  {
   "cell_type": "code",
   "execution_count": 21,
   "metadata": {},
   "outputs": [
    {
     "data": {
      "text/html": [
       "<div>\n",
       "<style scoped>\n",
       "    .dataframe tbody tr th:only-of-type {\n",
       "        vertical-align: middle;\n",
       "    }\n",
       "\n",
       "    .dataframe tbody tr th {\n",
       "        vertical-align: top;\n",
       "    }\n",
       "\n",
       "    .dataframe thead th {\n",
       "        text-align: right;\n",
       "    }\n",
       "</style>\n",
       "<table border=\"1\" class=\"dataframe\">\n",
       "  <thead>\n",
       "    <tr style=\"text-align: right;\">\n",
       "      <th></th>\n",
       "      <th>eventname</th>\n",
       "      <th>frequency</th>\n",
       "    </tr>\n",
       "  </thead>\n",
       "  <tbody>\n",
       "    <tr>\n",
       "      <th>0</th>\n",
       "      <td>MainScreenAppear</td>\n",
       "      <td>117328</td>\n",
       "    </tr>\n",
       "    <tr>\n",
       "      <th>1</th>\n",
       "      <td>OffersScreenAppear</td>\n",
       "      <td>46333</td>\n",
       "    </tr>\n",
       "    <tr>\n",
       "      <th>2</th>\n",
       "      <td>CartScreenAppear</td>\n",
       "      <td>42303</td>\n",
       "    </tr>\n",
       "    <tr>\n",
       "      <th>3</th>\n",
       "      <td>PaymentScreenSuccessful</td>\n",
       "      <td>33918</td>\n",
       "    </tr>\n",
       "    <tr>\n",
       "      <th>4</th>\n",
       "      <td>Tutorial</td>\n",
       "      <td>1005</td>\n",
       "    </tr>\n",
       "  </tbody>\n",
       "</table>\n",
       "</div>"
      ],
      "text/plain": [
       "                 eventname  frequency\n",
       "0         MainScreenAppear     117328\n",
       "1       OffersScreenAppear      46333\n",
       "2         CartScreenAppear      42303\n",
       "3  PaymentScreenSuccessful      33918\n",
       "4                 Tutorial       1005"
      ]
     },
     "execution_count": 21,
     "metadata": {},
     "output_type": "execute_result"
    }
   ],
   "source": [
    "events_count = logsv2.groupby('eventname').agg({'eventname':'count'})\n",
    "events_count.rename(columns = {'eventname':'event','eventname':'frequency'},inplace=True)\n",
    "events_count = events_count.sort_values(by='frequency',ascending=False).reset_index()\n",
    "events_count"
   ]
  },
  {
   "cell_type": "markdown",
   "metadata": {},
   "source": [
    "### Finding the number of users who performed each of these actions."
   ]
  },
  {
   "cell_type": "code",
   "execution_count": 22,
   "metadata": {},
   "outputs": [
    {
     "data": {
      "text/html": [
       "<div>\n",
       "<style scoped>\n",
       "    .dataframe tbody tr th:only-of-type {\n",
       "        vertical-align: middle;\n",
       "    }\n",
       "\n",
       "    .dataframe tbody tr th {\n",
       "        vertical-align: top;\n",
       "    }\n",
       "\n",
       "    .dataframe thead th {\n",
       "        text-align: right;\n",
       "    }\n",
       "</style>\n",
       "<table border=\"1\" class=\"dataframe\">\n",
       "  <thead>\n",
       "    <tr style=\"text-align: right;\">\n",
       "      <th></th>\n",
       "      <th>eventname</th>\n",
       "      <th>unique_users</th>\n",
       "    </tr>\n",
       "  </thead>\n",
       "  <tbody>\n",
       "    <tr>\n",
       "      <th>0</th>\n",
       "      <td>MainScreenAppear</td>\n",
       "      <td>7419</td>\n",
       "    </tr>\n",
       "    <tr>\n",
       "      <th>1</th>\n",
       "      <td>OffersScreenAppear</td>\n",
       "      <td>4593</td>\n",
       "    </tr>\n",
       "    <tr>\n",
       "      <th>2</th>\n",
       "      <td>CartScreenAppear</td>\n",
       "      <td>3734</td>\n",
       "    </tr>\n",
       "    <tr>\n",
       "      <th>3</th>\n",
       "      <td>PaymentScreenSuccessful</td>\n",
       "      <td>3539</td>\n",
       "    </tr>\n",
       "    <tr>\n",
       "      <th>4</th>\n",
       "      <td>Tutorial</td>\n",
       "      <td>840</td>\n",
       "    </tr>\n",
       "  </tbody>\n",
       "</table>\n",
       "</div>"
      ],
      "text/plain": [
       "                 eventname  unique_users\n",
       "0         MainScreenAppear          7419\n",
       "1       OffersScreenAppear          4593\n",
       "2         CartScreenAppear          3734\n",
       "3  PaymentScreenSuccessful          3539\n",
       "4                 Tutorial           840"
      ]
     },
     "execution_count": 22,
     "metadata": {},
     "output_type": "execute_result"
    }
   ],
   "source": [
    "user_events = logsv2.groupby('eventname').agg({'deviceid':'nunique'})\n",
    "user_events.rename(columns={'deviceid':'unique_users'},inplace=True)\n",
    "user_events.sort_values(by='unique_users',ascending=False).reset_index()"
   ]
  },
  {
   "cell_type": "markdown",
   "metadata": {},
   "source": [
    "### Calculating the proportion of users who performed the action at least once"
   ]
  },
  {
   "cell_type": "code",
   "execution_count": 23,
   "metadata": {},
   "outputs": [
    {
     "data": {
      "text/html": [
       "<div>\n",
       "<style scoped>\n",
       "    .dataframe tbody tr th:only-of-type {\n",
       "        vertical-align: middle;\n",
       "    }\n",
       "\n",
       "    .dataframe tbody tr th {\n",
       "        vertical-align: top;\n",
       "    }\n",
       "\n",
       "    .dataframe thead th {\n",
       "        text-align: right;\n",
       "    }\n",
       "</style>\n",
       "<table border=\"1\" class=\"dataframe\">\n",
       "  <thead>\n",
       "    <tr style=\"text-align: right;\">\n",
       "      <th></th>\n",
       "      <th>eventname</th>\n",
       "      <th>frequency</th>\n",
       "      <th>unique_users</th>\n",
       "      <th>proportion</th>\n",
       "    </tr>\n",
       "  </thead>\n",
       "  <tbody>\n",
       "    <tr>\n",
       "      <th>4</th>\n",
       "      <td>Tutorial</td>\n",
       "      <td>1005</td>\n",
       "      <td>840</td>\n",
       "      <td>0.835821</td>\n",
       "    </tr>\n",
       "    <tr>\n",
       "      <th>3</th>\n",
       "      <td>PaymentScreenSuccessful</td>\n",
       "      <td>33918</td>\n",
       "      <td>3539</td>\n",
       "      <td>0.104340</td>\n",
       "    </tr>\n",
       "    <tr>\n",
       "      <th>1</th>\n",
       "      <td>OffersScreenAppear</td>\n",
       "      <td>46333</td>\n",
       "      <td>4593</td>\n",
       "      <td>0.099130</td>\n",
       "    </tr>\n",
       "    <tr>\n",
       "      <th>2</th>\n",
       "      <td>CartScreenAppear</td>\n",
       "      <td>42303</td>\n",
       "      <td>3734</td>\n",
       "      <td>0.088268</td>\n",
       "    </tr>\n",
       "    <tr>\n",
       "      <th>0</th>\n",
       "      <td>MainScreenAppear</td>\n",
       "      <td>117328</td>\n",
       "      <td>7419</td>\n",
       "      <td>0.063233</td>\n",
       "    </tr>\n",
       "  </tbody>\n",
       "</table>\n",
       "</div>"
      ],
      "text/plain": [
       "                 eventname  frequency  unique_users  proportion\n",
       "4                 Tutorial       1005           840    0.835821\n",
       "3  PaymentScreenSuccessful      33918          3539    0.104340\n",
       "1       OffersScreenAppear      46333          4593    0.099130\n",
       "2         CartScreenAppear      42303          3734    0.088268\n",
       "0         MainScreenAppear     117328          7419    0.063233"
      ]
     },
     "execution_count": 23,
     "metadata": {},
     "output_type": "execute_result"
    }
   ],
   "source": [
    "proportion = pd.merge(events_count,user_events,on='eventname')\n",
    "proportion['proportion'] = proportion['unique_users']/proportion['frequency']\n",
    "proportion.sort_values(by='proportion',ascending=False)"
   ]
  },
  {
   "cell_type": "markdown",
   "metadata": {},
   "source": [
    "Comment:\n",
    "The order of the event actions is most likely as follows:\n",
    "1. Tutorial (840 users watch the tutorial, the rest of the users skip the tutorial)\n",
    "2. Main Screen Appear\n",
    "3. Offers Screen Appear\n",
    "4. Cart Screen Appear\n",
    "5. Payment Screeb Successful"
   ]
  },
  {
   "cell_type": "markdown",
   "metadata": {},
   "source": [
    "### Finding the share of users that proceed from each stage to the next"
   ]
  },
  {
   "cell_type": "code",
   "execution_count": 24,
   "metadata": {},
   "outputs": [
    {
     "data": {
      "text/html": [
       "<div>\n",
       "<style scoped>\n",
       "    .dataframe tbody tr th:only-of-type {\n",
       "        vertical-align: middle;\n",
       "    }\n",
       "\n",
       "    .dataframe tbody tr th {\n",
       "        vertical-align: top;\n",
       "    }\n",
       "\n",
       "    .dataframe thead th {\n",
       "        text-align: right;\n",
       "    }\n",
       "</style>\n",
       "<table border=\"1\" class=\"dataframe\">\n",
       "  <thead>\n",
       "    <tr style=\"text-align: right;\">\n",
       "      <th></th>\n",
       "      <th>unique_users</th>\n",
       "      <th>total conversion (%)</th>\n",
       "    </tr>\n",
       "    <tr>\n",
       "      <th>eventname</th>\n",
       "      <th></th>\n",
       "      <th></th>\n",
       "    </tr>\n",
       "  </thead>\n",
       "  <tbody>\n",
       "    <tr>\n",
       "      <th>MainScreenAppear</th>\n",
       "      <td>7419</td>\n",
       "      <td>100.0</td>\n",
       "    </tr>\n",
       "    <tr>\n",
       "      <th>OffersScreenAppear</th>\n",
       "      <td>4593</td>\n",
       "      <td>62.0</td>\n",
       "    </tr>\n",
       "    <tr>\n",
       "      <th>CartScreenAppear</th>\n",
       "      <td>3734</td>\n",
       "      <td>50.0</td>\n",
       "    </tr>\n",
       "    <tr>\n",
       "      <th>PaymentScreenSuccessful</th>\n",
       "      <td>3539</td>\n",
       "      <td>48.0</td>\n",
       "    </tr>\n",
       "    <tr>\n",
       "      <th>Tutorial</th>\n",
       "      <td>840</td>\n",
       "      <td>11.0</td>\n",
       "    </tr>\n",
       "  </tbody>\n",
       "</table>\n",
       "</div>"
      ],
      "text/plain": [
       "                         unique_users  total conversion (%)\n",
       "eventname                                                  \n",
       "MainScreenAppear                 7419                 100.0\n",
       "OffersScreenAppear               4593                  62.0\n",
       "CartScreenAppear                 3734                  50.0\n",
       "PaymentScreenSuccessful          3539                  48.0\n",
       "Tutorial                          840                  11.0"
      ]
     },
     "execution_count": 24,
     "metadata": {},
     "output_type": "execute_result"
    }
   ],
   "source": [
    "user_events['total conversion (%)'] = ((user_events['unique_users']/7419)*100).round()\n",
    "user_events.sort_values(by='unique_users',ascending=False)"
   ]
  },
  {
   "cell_type": "markdown",
   "metadata": {},
   "source": [
    "Comment: Most users are lost when moving from the main screan to the offer screen. "
   ]
  },
  {
   "cell_type": "markdown",
   "metadata": {},
   "source": [
    "### What share of users make the entire journey from their first event to payment?"
   ]
  },
  {
   "cell_type": "code",
   "execution_count": 25,
   "metadata": {},
   "outputs": [
    {
     "name": "stdout",
     "output_type": "stream",
     "text": [
      "The share of users that make the journey through the entire journey is 6.185293336872843% of the users.\n"
     ]
    }
   ],
   "source": [
    "#filtering users with all events\n",
    "all_event_users = logsv2.groupby('deviceid').agg({'eventname':'nunique'})\n",
    "all_event_users.rename(columns = {'eventname':'number_of_events'},inplace=True)\n",
    "all_event_users.reset_index()\n",
    "all_event_users = all_event_users[all_event_users['number_of_events']==5]\n",
    "\n",
    "#calculating share of users that make the entire journey\n",
    "share = (len(all_event_users)/len(logsv2['deviceid'].unique()))*100\n",
    "print(f\"The share of users that make the journey through the entire journey is {share}% of the users.\")"
   ]
  },
  {
   "cell_type": "markdown",
   "metadata": {},
   "source": [
    "## Experiment Results Study <br>\n",
    "<div id='results'></div>\n",
    "\n",
    "### How many users are there in each group?"
   ]
  },
  {
   "cell_type": "code",
   "execution_count": 26,
   "metadata": {},
   "outputs": [
    {
     "data": {
      "text/html": [
       "<div>\n",
       "<style scoped>\n",
       "    .dataframe tbody tr th:only-of-type {\n",
       "        vertical-align: middle;\n",
       "    }\n",
       "\n",
       "    .dataframe tbody tr th {\n",
       "        vertical-align: top;\n",
       "    }\n",
       "\n",
       "    .dataframe thead th {\n",
       "        text-align: right;\n",
       "    }\n",
       "</style>\n",
       "<table border=\"1\" class=\"dataframe\">\n",
       "  <thead>\n",
       "    <tr style=\"text-align: right;\">\n",
       "      <th></th>\n",
       "      <th>deviceid</th>\n",
       "    </tr>\n",
       "  </thead>\n",
       "  <tbody>\n",
       "    <tr>\n",
       "      <th>246</th>\n",
       "      <td>2484</td>\n",
       "    </tr>\n",
       "    <tr>\n",
       "      <th>247</th>\n",
       "      <td>2513</td>\n",
       "    </tr>\n",
       "    <tr>\n",
       "      <th>248</th>\n",
       "      <td>2537</td>\n",
       "    </tr>\n",
       "    <tr>\n",
       "      <th>Total</th>\n",
       "      <td>7534</td>\n",
       "    </tr>\n",
       "  </tbody>\n",
       "</table>\n",
       "</div>"
      ],
      "text/plain": [
       "       deviceid\n",
       "246        2484\n",
       "247        2513\n",
       "248        2537\n",
       "Total      7534"
      ]
     },
     "execution_count": 26,
     "metadata": {},
     "output_type": "execute_result"
    }
   ],
   "source": [
    "exp_group = logsv2.groupby('expid').agg({'deviceid':'nunique'})\n",
    "total_row = pd.DataFrame({'deviceid':[exp_group['deviceid'].sum()]}, index=['Total'])\n",
    "complete = pd.concat([exp_group,total_row])\n",
    "complete"
   ]
  },
  {
   "cell_type": "markdown",
   "metadata": {},
   "source": [
    "### Checking if there is a statistically significant difference between samples 246 and 247"
   ]
  },
  {
   "cell_type": "code",
   "execution_count": 27,
   "metadata": {},
   "outputs": [
    {
     "data": {
      "text/html": [
       "<div>\n",
       "<style scoped>\n",
       "    .dataframe tbody tr th:only-of-type {\n",
       "        vertical-align: middle;\n",
       "    }\n",
       "\n",
       "    .dataframe tbody tr th {\n",
       "        vertical-align: top;\n",
       "    }\n",
       "\n",
       "    .dataframe thead th {\n",
       "        text-align: right;\n",
       "    }\n",
       "</style>\n",
       "<table border=\"1\" class=\"dataframe\">\n",
       "  <thead>\n",
       "    <tr style=\"text-align: right;\">\n",
       "      <th>eventname</th>\n",
       "      <th>CartScreenAppear</th>\n",
       "      <th>MainScreenAppear</th>\n",
       "      <th>OffersScreenAppear</th>\n",
       "      <th>PaymentScreenSuccessful</th>\n",
       "      <th>Tutorial</th>\n",
       "    </tr>\n",
       "    <tr>\n",
       "      <th>expid</th>\n",
       "      <th></th>\n",
       "      <th></th>\n",
       "      <th></th>\n",
       "      <th></th>\n",
       "      <th></th>\n",
       "    </tr>\n",
       "  </thead>\n",
       "  <tbody>\n",
       "    <tr>\n",
       "      <th>246</th>\n",
       "      <td>14690</td>\n",
       "      <td>37676</td>\n",
       "      <td>14767</td>\n",
       "      <td>11852</td>\n",
       "      <td>317</td>\n",
       "    </tr>\n",
       "    <tr>\n",
       "      <th>247</th>\n",
       "      <td>12434</td>\n",
       "      <td>39090</td>\n",
       "      <td>15179</td>\n",
       "      <td>9981</td>\n",
       "      <td>338</td>\n",
       "    </tr>\n",
       "  </tbody>\n",
       "</table>\n",
       "</div>"
      ],
      "text/plain": [
       "eventname  CartScreenAppear  MainScreenAppear  OffersScreenAppear  \\\n",
       "expid                                                               \n",
       "246                   14690             37676               14767   \n",
       "247                   12434             39090               15179   \n",
       "\n",
       "eventname  PaymentScreenSuccessful  Tutorial  \n",
       "expid                                         \n",
       "246                          11852       317  \n",
       "247                           9981       338  "
      ]
     },
     "execution_count": 27,
     "metadata": {},
     "output_type": "execute_result"
    }
   ],
   "source": [
    "#grouping data by group 246 and 247\n",
    "filtered_groups = logsv2[(logsv2['expid']==246) | (logsv2['expid']==247)].groupby(['expid','eventname']).size().unstack(fill_value=0)\n",
    "filtered_groups"
   ]
  },
  {
   "cell_type": "code",
   "execution_count": 28,
   "metadata": {},
   "outputs": [
    {
     "name": "stdout",
     "output_type": "stream",
     "text": [
      "Chi-square statistic: 347.1835264073801\n",
      "P-value: 7.113427142599721e-74\n"
     ]
    }
   ],
   "source": [
    "#performing ch-square test\n",
    "chi2, p, dof, expected = chi2_contingency(filtered_groups)\n",
    "\n",
    "#displaying results \n",
    "print(\"Chi-square statistic:\", chi2)\n",
    "print(\"P-value:\", p)\n"
   ]
  },
  {
   "cell_type": "markdown",
   "metadata": {},
   "source": [
    "Comment: The p-value is below 0.05 therefore there is no statistical difference between groups 246 and 247."
   ]
  },
  {
   "cell_type": "markdown",
   "metadata": {},
   "source": [
    "### Checking whether the difference between events in the controlled groups has a statistically significant."
   ]
  },
  {
   "cell_type": "code",
   "execution_count": 29,
   "metadata": {},
   "outputs": [
    {
     "data": {
      "text/html": [
       "<div>\n",
       "<style scoped>\n",
       "    .dataframe tbody tr th:only-of-type {\n",
       "        vertical-align: middle;\n",
       "    }\n",
       "\n",
       "    .dataframe tbody tr th {\n",
       "        vertical-align: top;\n",
       "    }\n",
       "\n",
       "    .dataframe thead th {\n",
       "        text-align: right;\n",
       "    }\n",
       "</style>\n",
       "<table border=\"1\" class=\"dataframe\">\n",
       "  <thead>\n",
       "    <tr style=\"text-align: right;\">\n",
       "      <th></th>\n",
       "      <th>eventname</th>\n",
       "      <th>frequency</th>\n",
       "    </tr>\n",
       "  </thead>\n",
       "  <tbody>\n",
       "    <tr>\n",
       "      <th>0</th>\n",
       "      <td>MainScreenAppear</td>\n",
       "      <td>117328</td>\n",
       "    </tr>\n",
       "    <tr>\n",
       "      <th>1</th>\n",
       "      <td>OffersScreenAppear</td>\n",
       "      <td>46333</td>\n",
       "    </tr>\n",
       "    <tr>\n",
       "      <th>2</th>\n",
       "      <td>CartScreenAppear</td>\n",
       "      <td>42303</td>\n",
       "    </tr>\n",
       "    <tr>\n",
       "      <th>3</th>\n",
       "      <td>PaymentScreenSuccessful</td>\n",
       "      <td>33918</td>\n",
       "    </tr>\n",
       "    <tr>\n",
       "      <th>4</th>\n",
       "      <td>Tutorial</td>\n",
       "      <td>1005</td>\n",
       "    </tr>\n",
       "  </tbody>\n",
       "</table>\n",
       "</div>"
      ],
      "text/plain": [
       "                 eventname  frequency\n",
       "0         MainScreenAppear     117328\n",
       "1       OffersScreenAppear      46333\n",
       "2         CartScreenAppear      42303\n",
       "3  PaymentScreenSuccessful      33918\n",
       "4                 Tutorial       1005"
      ]
     },
     "execution_count": 29,
     "metadata": {},
     "output_type": "execute_result"
    }
   ],
   "source": [
    "#recalling the popular events\n",
    "events_count"
   ]
  },
  {
   "cell_type": "code",
   "execution_count": 30,
   "metadata": {},
   "outputs": [
    {
     "data": {
      "text/html": [
       "<div>\n",
       "<style scoped>\n",
       "    .dataframe tbody tr th:only-of-type {\n",
       "        vertical-align: middle;\n",
       "    }\n",
       "\n",
       "    .dataframe tbody tr th {\n",
       "        vertical-align: top;\n",
       "    }\n",
       "\n",
       "    .dataframe thead th {\n",
       "        text-align: right;\n",
       "    }\n",
       "</style>\n",
       "<table border=\"1\" class=\"dataframe\">\n",
       "  <thead>\n",
       "    <tr style=\"text-align: right;\">\n",
       "      <th></th>\n",
       "      <th>expid</th>\n",
       "      <th>eventname</th>\n",
       "      <th>deviceid</th>\n",
       "    </tr>\n",
       "  </thead>\n",
       "  <tbody>\n",
       "    <tr>\n",
       "      <th>11</th>\n",
       "      <td>248</td>\n",
       "      <td>MainScreenAppear</td>\n",
       "      <td>2493</td>\n",
       "    </tr>\n",
       "    <tr>\n",
       "      <th>6</th>\n",
       "      <td>247</td>\n",
       "      <td>MainScreenAppear</td>\n",
       "      <td>2476</td>\n",
       "    </tr>\n",
       "    <tr>\n",
       "      <th>1</th>\n",
       "      <td>246</td>\n",
       "      <td>MainScreenAppear</td>\n",
       "      <td>2450</td>\n",
       "    </tr>\n",
       "    <tr>\n",
       "      <th>2</th>\n",
       "      <td>246</td>\n",
       "      <td>OffersScreenAppear</td>\n",
       "      <td>1542</td>\n",
       "    </tr>\n",
       "    <tr>\n",
       "      <th>12</th>\n",
       "      <td>248</td>\n",
       "      <td>OffersScreenAppear</td>\n",
       "      <td>1531</td>\n",
       "    </tr>\n",
       "    <tr>\n",
       "      <th>7</th>\n",
       "      <td>247</td>\n",
       "      <td>OffersScreenAppear</td>\n",
       "      <td>1520</td>\n",
       "    </tr>\n",
       "    <tr>\n",
       "      <th>0</th>\n",
       "      <td>246</td>\n",
       "      <td>CartScreenAppear</td>\n",
       "      <td>1266</td>\n",
       "    </tr>\n",
       "    <tr>\n",
       "      <th>5</th>\n",
       "      <td>247</td>\n",
       "      <td>CartScreenAppear</td>\n",
       "      <td>1238</td>\n",
       "    </tr>\n",
       "    <tr>\n",
       "      <th>10</th>\n",
       "      <td>248</td>\n",
       "      <td>CartScreenAppear</td>\n",
       "      <td>1230</td>\n",
       "    </tr>\n",
       "    <tr>\n",
       "      <th>3</th>\n",
       "      <td>246</td>\n",
       "      <td>PaymentScreenSuccessful</td>\n",
       "      <td>1200</td>\n",
       "    </tr>\n",
       "    <tr>\n",
       "      <th>13</th>\n",
       "      <td>248</td>\n",
       "      <td>PaymentScreenSuccessful</td>\n",
       "      <td>1181</td>\n",
       "    </tr>\n",
       "    <tr>\n",
       "      <th>8</th>\n",
       "      <td>247</td>\n",
       "      <td>PaymentScreenSuccessful</td>\n",
       "      <td>1158</td>\n",
       "    </tr>\n",
       "    <tr>\n",
       "      <th>9</th>\n",
       "      <td>247</td>\n",
       "      <td>Tutorial</td>\n",
       "      <td>283</td>\n",
       "    </tr>\n",
       "    <tr>\n",
       "      <th>14</th>\n",
       "      <td>248</td>\n",
       "      <td>Tutorial</td>\n",
       "      <td>279</td>\n",
       "    </tr>\n",
       "    <tr>\n",
       "      <th>4</th>\n",
       "      <td>246</td>\n",
       "      <td>Tutorial</td>\n",
       "      <td>278</td>\n",
       "    </tr>\n",
       "  </tbody>\n",
       "</table>\n",
       "</div>"
      ],
      "text/plain": [
       "    expid                eventname  deviceid\n",
       "11    248         MainScreenAppear      2493\n",
       "6     247         MainScreenAppear      2476\n",
       "1     246         MainScreenAppear      2450\n",
       "2     246       OffersScreenAppear      1542\n",
       "12    248       OffersScreenAppear      1531\n",
       "7     247       OffersScreenAppear      1520\n",
       "0     246         CartScreenAppear      1266\n",
       "5     247         CartScreenAppear      1238\n",
       "10    248         CartScreenAppear      1230\n",
       "3     246  PaymentScreenSuccessful      1200\n",
       "13    248  PaymentScreenSuccessful      1181\n",
       "8     247  PaymentScreenSuccessful      1158\n",
       "9     247                 Tutorial       283\n",
       "14    248                 Tutorial       279\n",
       "4     246                 Tutorial       278"
      ]
     },
     "execution_count": 30,
     "metadata": {},
     "output_type": "execute_result"
    }
   ],
   "source": [
    "#getting users performing the most popular events\n",
    "users_per_event = logsv2.groupby(['expid','eventname']).agg({'deviceid':'nunique'}).reset_index().sort_values(by='deviceid',ascending=False)\n",
    "users_per_event"
   ]
  },
  {
   "cell_type": "code",
   "execution_count": 31,
   "metadata": {},
   "outputs": [
    {
     "data": {
      "text/html": [
       "<div>\n",
       "<style scoped>\n",
       "    .dataframe tbody tr th:only-of-type {\n",
       "        vertical-align: middle;\n",
       "    }\n",
       "\n",
       "    .dataframe tbody tr th {\n",
       "        vertical-align: top;\n",
       "    }\n",
       "\n",
       "    .dataframe thead th {\n",
       "        text-align: right;\n",
       "    }\n",
       "</style>\n",
       "<table border=\"1\" class=\"dataframe\">\n",
       "  <thead>\n",
       "    <tr style=\"text-align: right;\">\n",
       "      <th></th>\n",
       "      <th>expid</th>\n",
       "      <th>eventname</th>\n",
       "      <th>performed</th>\n",
       "      <th>total_users</th>\n",
       "      <th>not_performed</th>\n",
       "      <th>share</th>\n",
       "    </tr>\n",
       "  </thead>\n",
       "  <tbody>\n",
       "    <tr>\n",
       "      <th>0</th>\n",
       "      <td>248</td>\n",
       "      <td>MainScreenAppear</td>\n",
       "      <td>2493</td>\n",
       "      <td>2537</td>\n",
       "      <td>44</td>\n",
       "      <td>0.982657</td>\n",
       "    </tr>\n",
       "    <tr>\n",
       "      <th>1</th>\n",
       "      <td>248</td>\n",
       "      <td>OffersScreenAppear</td>\n",
       "      <td>1531</td>\n",
       "      <td>2537</td>\n",
       "      <td>1006</td>\n",
       "      <td>0.603469</td>\n",
       "    </tr>\n",
       "    <tr>\n",
       "      <th>2</th>\n",
       "      <td>248</td>\n",
       "      <td>CartScreenAppear</td>\n",
       "      <td>1230</td>\n",
       "      <td>2537</td>\n",
       "      <td>1307</td>\n",
       "      <td>0.484825</td>\n",
       "    </tr>\n",
       "    <tr>\n",
       "      <th>3</th>\n",
       "      <td>248</td>\n",
       "      <td>PaymentScreenSuccessful</td>\n",
       "      <td>1181</td>\n",
       "      <td>2537</td>\n",
       "      <td>1356</td>\n",
       "      <td>0.465510</td>\n",
       "    </tr>\n",
       "    <tr>\n",
       "      <th>4</th>\n",
       "      <td>248</td>\n",
       "      <td>Tutorial</td>\n",
       "      <td>279</td>\n",
       "      <td>2537</td>\n",
       "      <td>2258</td>\n",
       "      <td>0.109972</td>\n",
       "    </tr>\n",
       "    <tr>\n",
       "      <th>5</th>\n",
       "      <td>247</td>\n",
       "      <td>MainScreenAppear</td>\n",
       "      <td>2476</td>\n",
       "      <td>2513</td>\n",
       "      <td>37</td>\n",
       "      <td>0.985277</td>\n",
       "    </tr>\n",
       "    <tr>\n",
       "      <th>6</th>\n",
       "      <td>247</td>\n",
       "      <td>OffersScreenAppear</td>\n",
       "      <td>1520</td>\n",
       "      <td>2513</td>\n",
       "      <td>993</td>\n",
       "      <td>0.604855</td>\n",
       "    </tr>\n",
       "    <tr>\n",
       "      <th>7</th>\n",
       "      <td>247</td>\n",
       "      <td>CartScreenAppear</td>\n",
       "      <td>1238</td>\n",
       "      <td>2513</td>\n",
       "      <td>1275</td>\n",
       "      <td>0.492638</td>\n",
       "    </tr>\n",
       "    <tr>\n",
       "      <th>8</th>\n",
       "      <td>247</td>\n",
       "      <td>PaymentScreenSuccessful</td>\n",
       "      <td>1158</td>\n",
       "      <td>2513</td>\n",
       "      <td>1355</td>\n",
       "      <td>0.460804</td>\n",
       "    </tr>\n",
       "    <tr>\n",
       "      <th>9</th>\n",
       "      <td>247</td>\n",
       "      <td>Tutorial</td>\n",
       "      <td>283</td>\n",
       "      <td>2513</td>\n",
       "      <td>2230</td>\n",
       "      <td>0.112614</td>\n",
       "    </tr>\n",
       "    <tr>\n",
       "      <th>10</th>\n",
       "      <td>246</td>\n",
       "      <td>MainScreenAppear</td>\n",
       "      <td>2450</td>\n",
       "      <td>2484</td>\n",
       "      <td>34</td>\n",
       "      <td>0.986312</td>\n",
       "    </tr>\n",
       "    <tr>\n",
       "      <th>11</th>\n",
       "      <td>246</td>\n",
       "      <td>OffersScreenAppear</td>\n",
       "      <td>1542</td>\n",
       "      <td>2484</td>\n",
       "      <td>942</td>\n",
       "      <td>0.620773</td>\n",
       "    </tr>\n",
       "    <tr>\n",
       "      <th>12</th>\n",
       "      <td>246</td>\n",
       "      <td>CartScreenAppear</td>\n",
       "      <td>1266</td>\n",
       "      <td>2484</td>\n",
       "      <td>1218</td>\n",
       "      <td>0.509662</td>\n",
       "    </tr>\n",
       "    <tr>\n",
       "      <th>13</th>\n",
       "      <td>246</td>\n",
       "      <td>PaymentScreenSuccessful</td>\n",
       "      <td>1200</td>\n",
       "      <td>2484</td>\n",
       "      <td>1284</td>\n",
       "      <td>0.483092</td>\n",
       "    </tr>\n",
       "    <tr>\n",
       "      <th>14</th>\n",
       "      <td>246</td>\n",
       "      <td>Tutorial</td>\n",
       "      <td>278</td>\n",
       "      <td>2484</td>\n",
       "      <td>2206</td>\n",
       "      <td>0.111916</td>\n",
       "    </tr>\n",
       "  </tbody>\n",
       "</table>\n",
       "</div>"
      ],
      "text/plain": [
       "    expid                eventname  performed  total_users  not_performed  \\\n",
       "0     248         MainScreenAppear       2493         2537             44   \n",
       "1     248       OffersScreenAppear       1531         2537           1006   \n",
       "2     248         CartScreenAppear       1230         2537           1307   \n",
       "3     248  PaymentScreenSuccessful       1181         2537           1356   \n",
       "4     248                 Tutorial        279         2537           2258   \n",
       "5     247         MainScreenAppear       2476         2513             37   \n",
       "6     247       OffersScreenAppear       1520         2513            993   \n",
       "7     247         CartScreenAppear       1238         2513           1275   \n",
       "8     247  PaymentScreenSuccessful       1158         2513           1355   \n",
       "9     247                 Tutorial        283         2513           2230   \n",
       "10    246         MainScreenAppear       2450         2484             34   \n",
       "11    246       OffersScreenAppear       1542         2484            942   \n",
       "12    246         CartScreenAppear       1266         2484           1218   \n",
       "13    246  PaymentScreenSuccessful       1200         2484           1284   \n",
       "14    246                 Tutorial        278         2484           2206   \n",
       "\n",
       "       share  \n",
       "0   0.982657  \n",
       "1   0.603469  \n",
       "2   0.484825  \n",
       "3   0.465510  \n",
       "4   0.109972  \n",
       "5   0.985277  \n",
       "6   0.604855  \n",
       "7   0.492638  \n",
       "8   0.460804  \n",
       "9   0.112614  \n",
       "10  0.986312  \n",
       "11  0.620773  \n",
       "12  0.509662  \n",
       "13  0.483092  \n",
       "14  0.111916  "
      ]
     },
     "execution_count": 31,
     "metadata": {},
     "output_type": "execute_result"
    }
   ],
   "source": [
    "#calculating share of users performing the event\n",
    "total_users_per_group = logsv2.groupby('expid').agg({'deviceid':'nunique'})\n",
    "users_group = pd.merge(users_per_event,total_users_per_group,on='expid')\n",
    "users_group['not_performed'] = users_group['deviceid_y']-users_group['deviceid_x']\n",
    "users_group['share'] = users_group['deviceid_x']/users_group['deviceid_y']\n",
    "users_group.rename(columns={'deviceid_x':'performed','deviceid_y':'total_users'},inplace=True)\n",
    "users_group"
   ]
  },
  {
   "cell_type": "code",
   "execution_count": 32,
   "metadata": {},
   "outputs": [
    {
     "data": {
      "text/html": [
       "<div>\n",
       "<style scoped>\n",
       "    .dataframe tbody tr th:only-of-type {\n",
       "        vertical-align: middle;\n",
       "    }\n",
       "\n",
       "    .dataframe tbody tr th {\n",
       "        vertical-align: top;\n",
       "    }\n",
       "\n",
       "    .dataframe thead th {\n",
       "        text-align: right;\n",
       "    }\n",
       "</style>\n",
       "<table border=\"1\" class=\"dataframe\">\n",
       "  <thead>\n",
       "    <tr style=\"text-align: right;\">\n",
       "      <th></th>\n",
       "      <th>expid</th>\n",
       "      <th>eventname</th>\n",
       "      <th>performed</th>\n",
       "      <th>total_users</th>\n",
       "      <th>not_performed</th>\n",
       "      <th>share</th>\n",
       "    </tr>\n",
       "  </thead>\n",
       "  <tbody>\n",
       "    <tr>\n",
       "      <th>5</th>\n",
       "      <td>247</td>\n",
       "      <td>MainScreenAppear</td>\n",
       "      <td>2476</td>\n",
       "      <td>2513</td>\n",
       "      <td>37</td>\n",
       "      <td>0.985277</td>\n",
       "    </tr>\n",
       "    <tr>\n",
       "      <th>6</th>\n",
       "      <td>247</td>\n",
       "      <td>OffersScreenAppear</td>\n",
       "      <td>1520</td>\n",
       "      <td>2513</td>\n",
       "      <td>993</td>\n",
       "      <td>0.604855</td>\n",
       "    </tr>\n",
       "    <tr>\n",
       "      <th>7</th>\n",
       "      <td>247</td>\n",
       "      <td>CartScreenAppear</td>\n",
       "      <td>1238</td>\n",
       "      <td>2513</td>\n",
       "      <td>1275</td>\n",
       "      <td>0.492638</td>\n",
       "    </tr>\n",
       "    <tr>\n",
       "      <th>8</th>\n",
       "      <td>247</td>\n",
       "      <td>PaymentScreenSuccessful</td>\n",
       "      <td>1158</td>\n",
       "      <td>2513</td>\n",
       "      <td>1355</td>\n",
       "      <td>0.460804</td>\n",
       "    </tr>\n",
       "    <tr>\n",
       "      <th>9</th>\n",
       "      <td>247</td>\n",
       "      <td>Tutorial</td>\n",
       "      <td>283</td>\n",
       "      <td>2513</td>\n",
       "      <td>2230</td>\n",
       "      <td>0.112614</td>\n",
       "    </tr>\n",
       "    <tr>\n",
       "      <th>10</th>\n",
       "      <td>246</td>\n",
       "      <td>MainScreenAppear</td>\n",
       "      <td>2450</td>\n",
       "      <td>2484</td>\n",
       "      <td>34</td>\n",
       "      <td>0.986312</td>\n",
       "    </tr>\n",
       "    <tr>\n",
       "      <th>11</th>\n",
       "      <td>246</td>\n",
       "      <td>OffersScreenAppear</td>\n",
       "      <td>1542</td>\n",
       "      <td>2484</td>\n",
       "      <td>942</td>\n",
       "      <td>0.620773</td>\n",
       "    </tr>\n",
       "    <tr>\n",
       "      <th>12</th>\n",
       "      <td>246</td>\n",
       "      <td>CartScreenAppear</td>\n",
       "      <td>1266</td>\n",
       "      <td>2484</td>\n",
       "      <td>1218</td>\n",
       "      <td>0.509662</td>\n",
       "    </tr>\n",
       "    <tr>\n",
       "      <th>13</th>\n",
       "      <td>246</td>\n",
       "      <td>PaymentScreenSuccessful</td>\n",
       "      <td>1200</td>\n",
       "      <td>2484</td>\n",
       "      <td>1284</td>\n",
       "      <td>0.483092</td>\n",
       "    </tr>\n",
       "    <tr>\n",
       "      <th>14</th>\n",
       "      <td>246</td>\n",
       "      <td>Tutorial</td>\n",
       "      <td>278</td>\n",
       "      <td>2484</td>\n",
       "      <td>2206</td>\n",
       "      <td>0.111916</td>\n",
       "    </tr>\n",
       "  </tbody>\n",
       "</table>\n",
       "</div>"
      ],
      "text/plain": [
       "    expid                eventname  performed  total_users  not_performed  \\\n",
       "5     247         MainScreenAppear       2476         2513             37   \n",
       "6     247       OffersScreenAppear       1520         2513            993   \n",
       "7     247         CartScreenAppear       1238         2513           1275   \n",
       "8     247  PaymentScreenSuccessful       1158         2513           1355   \n",
       "9     247                 Tutorial        283         2513           2230   \n",
       "10    246         MainScreenAppear       2450         2484             34   \n",
       "11    246       OffersScreenAppear       1542         2484            942   \n",
       "12    246         CartScreenAppear       1266         2484           1218   \n",
       "13    246  PaymentScreenSuccessful       1200         2484           1284   \n",
       "14    246                 Tutorial        278         2484           2206   \n",
       "\n",
       "       share  \n",
       "5   0.985277  \n",
       "6   0.604855  \n",
       "7   0.492638  \n",
       "8   0.460804  \n",
       "9   0.112614  \n",
       "10  0.986312  \n",
       "11  0.620773  \n",
       "12  0.509662  \n",
       "13  0.483092  \n",
       "14  0.111916  "
      ]
     },
     "execution_count": 32,
     "metadata": {},
     "output_type": "execute_result"
    }
   ],
   "source": [
    "#control group table\n",
    "users_control_groups = users_group[(users_group['expid']==246) | (users_group['expid']==247)]\n",
    "users_control_groups"
   ]
  },
  {
   "cell_type": "code",
   "execution_count": 33,
   "metadata": {},
   "outputs": [],
   "source": [
    "#creating chi-test function\n",
    "def chi_test_calculator(events,data):\n",
    "    for event in events:\n",
    "        table = data[data['eventname'] == event]\n",
    "        cont_table = table.pivot(index='expid', columns='eventname',values=['performed','not_performed','share'])\n",
    "        chi2, p, dof, ex = chi2_contingency(cont_table)\n",
    "        print(f\"For the event {event} the chi2={chi2} and the p-value={p}.\")"
   ]
  },
  {
   "cell_type": "code",
   "execution_count": 34,
   "metadata": {},
   "outputs": [
    {
     "name": "stdout",
     "output_type": "stream",
     "text": [
      "For the event MainScreenAppear the chi2=0.09577276467192558 and the p-value=0.9532420860641299.\n",
      "For the event OffersScreenAppear the chi2=1.3344292392951609 and the p-value=0.5131358676550688.\n",
      "For the event CartScreenAppear the chi2=1.4486162532477271 and the p-value=0.48465977617713585.\n",
      "For the event PaymentScreenSuccessful the chi2=2.490884223218027 and the p-value=0.28781363424927914.\n",
      "For the event Tutorial the chi2=0.0061108434896979084 and the p-value=0.9969492413057661.\n"
     ]
    }
   ],
   "source": [
    "#calculating chi test\n",
    "events = ['MainScreenAppear','OffersScreenAppear','CartScreenAppear','PaymentScreenSuccessful','Tutorial']\n",
    "chi_test_calculator(events,users_control_groups)"
   ]
  },
  {
   "cell_type": "markdown",
   "metadata": {},
   "source": [
    "Comment:\n",
    "\n",
    "Null hypothesis: There is a significant difference between the event in different groups.\n",
    "\n",
    "Alternative hypothesis: There is no significant difference between the event in different groups. \n",
    "\n",
    "Based on the chi test performed on all the events above the null hypothesis is rejected for all events as the p-values for all the events is larger than 0.05."
   ]
  },
  {
   "cell_type": "markdown",
   "metadata": {},
   "source": [
    "### Checking whether there is a statistically significant difference between the controlled groups and altered font group per event."
   ]
  },
  {
   "cell_type": "code",
   "execution_count": 35,
   "metadata": {},
   "outputs": [
    {
     "data": {
      "text/html": [
       "<div>\n",
       "<style scoped>\n",
       "    .dataframe tbody tr th:only-of-type {\n",
       "        vertical-align: middle;\n",
       "    }\n",
       "\n",
       "    .dataframe tbody tr th {\n",
       "        vertical-align: top;\n",
       "    }\n",
       "\n",
       "    .dataframe thead th {\n",
       "        text-align: right;\n",
       "    }\n",
       "</style>\n",
       "<table border=\"1\" class=\"dataframe\">\n",
       "  <thead>\n",
       "    <tr style=\"text-align: right;\">\n",
       "      <th></th>\n",
       "      <th>expid</th>\n",
       "      <th>eventname</th>\n",
       "      <th>performed</th>\n",
       "      <th>total_users</th>\n",
       "      <th>not_performed</th>\n",
       "      <th>share</th>\n",
       "    </tr>\n",
       "  </thead>\n",
       "  <tbody>\n",
       "    <tr>\n",
       "      <th>0</th>\n",
       "      <td>248</td>\n",
       "      <td>MainScreenAppear</td>\n",
       "      <td>2493</td>\n",
       "      <td>2537</td>\n",
       "      <td>44</td>\n",
       "      <td>0.982657</td>\n",
       "    </tr>\n",
       "    <tr>\n",
       "      <th>1</th>\n",
       "      <td>248</td>\n",
       "      <td>OffersScreenAppear</td>\n",
       "      <td>1531</td>\n",
       "      <td>2537</td>\n",
       "      <td>1006</td>\n",
       "      <td>0.603469</td>\n",
       "    </tr>\n",
       "    <tr>\n",
       "      <th>2</th>\n",
       "      <td>248</td>\n",
       "      <td>CartScreenAppear</td>\n",
       "      <td>1230</td>\n",
       "      <td>2537</td>\n",
       "      <td>1307</td>\n",
       "      <td>0.484825</td>\n",
       "    </tr>\n",
       "    <tr>\n",
       "      <th>3</th>\n",
       "      <td>248</td>\n",
       "      <td>PaymentScreenSuccessful</td>\n",
       "      <td>1181</td>\n",
       "      <td>2537</td>\n",
       "      <td>1356</td>\n",
       "      <td>0.465510</td>\n",
       "    </tr>\n",
       "    <tr>\n",
       "      <th>4</th>\n",
       "      <td>248</td>\n",
       "      <td>Tutorial</td>\n",
       "      <td>279</td>\n",
       "      <td>2537</td>\n",
       "      <td>2258</td>\n",
       "      <td>0.109972</td>\n",
       "    </tr>\n",
       "    <tr>\n",
       "      <th>10</th>\n",
       "      <td>246</td>\n",
       "      <td>MainScreenAppear</td>\n",
       "      <td>2450</td>\n",
       "      <td>2484</td>\n",
       "      <td>34</td>\n",
       "      <td>0.986312</td>\n",
       "    </tr>\n",
       "    <tr>\n",
       "      <th>11</th>\n",
       "      <td>246</td>\n",
       "      <td>OffersScreenAppear</td>\n",
       "      <td>1542</td>\n",
       "      <td>2484</td>\n",
       "      <td>942</td>\n",
       "      <td>0.620773</td>\n",
       "    </tr>\n",
       "    <tr>\n",
       "      <th>12</th>\n",
       "      <td>246</td>\n",
       "      <td>CartScreenAppear</td>\n",
       "      <td>1266</td>\n",
       "      <td>2484</td>\n",
       "      <td>1218</td>\n",
       "      <td>0.509662</td>\n",
       "    </tr>\n",
       "    <tr>\n",
       "      <th>13</th>\n",
       "      <td>246</td>\n",
       "      <td>PaymentScreenSuccessful</td>\n",
       "      <td>1200</td>\n",
       "      <td>2484</td>\n",
       "      <td>1284</td>\n",
       "      <td>0.483092</td>\n",
       "    </tr>\n",
       "    <tr>\n",
       "      <th>14</th>\n",
       "      <td>246</td>\n",
       "      <td>Tutorial</td>\n",
       "      <td>278</td>\n",
       "      <td>2484</td>\n",
       "      <td>2206</td>\n",
       "      <td>0.111916</td>\n",
       "    </tr>\n",
       "  </tbody>\n",
       "</table>\n",
       "</div>"
      ],
      "text/plain": [
       "    expid                eventname  performed  total_users  not_performed  \\\n",
       "0     248         MainScreenAppear       2493         2537             44   \n",
       "1     248       OffersScreenAppear       1531         2537           1006   \n",
       "2     248         CartScreenAppear       1230         2537           1307   \n",
       "3     248  PaymentScreenSuccessful       1181         2537           1356   \n",
       "4     248                 Tutorial        279         2537           2258   \n",
       "10    246         MainScreenAppear       2450         2484             34   \n",
       "11    246       OffersScreenAppear       1542         2484            942   \n",
       "12    246         CartScreenAppear       1266         2484           1218   \n",
       "13    246  PaymentScreenSuccessful       1200         2484           1284   \n",
       "14    246                 Tutorial        278         2484           2206   \n",
       "\n",
       "       share  \n",
       "0   0.982657  \n",
       "1   0.603469  \n",
       "2   0.484825  \n",
       "3   0.465510  \n",
       "4   0.109972  \n",
       "10  0.986312  \n",
       "11  0.620773  \n",
       "12  0.509662  \n",
       "13  0.483092  \n",
       "14  0.111916  "
      ]
     },
     "execution_count": 35,
     "metadata": {},
     "output_type": "execute_result"
    }
   ],
   "source": [
    "#retriving the control group 246 and the altered group 248\n",
    "users_control246_altered_group = users_group[(users_group['expid']==246) | (users_group['expid']==248)]\n",
    "users_control246_altered_group"
   ]
  },
  {
   "cell_type": "code",
   "execution_count": 36,
   "metadata": {},
   "outputs": [
    {
     "data": {
      "text/html": [
       "<div>\n",
       "<style scoped>\n",
       "    .dataframe tbody tr th:only-of-type {\n",
       "        vertical-align: middle;\n",
       "    }\n",
       "\n",
       "    .dataframe tbody tr th {\n",
       "        vertical-align: top;\n",
       "    }\n",
       "\n",
       "    .dataframe thead th {\n",
       "        text-align: right;\n",
       "    }\n",
       "</style>\n",
       "<table border=\"1\" class=\"dataframe\">\n",
       "  <thead>\n",
       "    <tr style=\"text-align: right;\">\n",
       "      <th></th>\n",
       "      <th>expid</th>\n",
       "      <th>eventname</th>\n",
       "      <th>performed</th>\n",
       "      <th>total_users</th>\n",
       "      <th>not_performed</th>\n",
       "      <th>share</th>\n",
       "    </tr>\n",
       "  </thead>\n",
       "  <tbody>\n",
       "    <tr>\n",
       "      <th>0</th>\n",
       "      <td>248</td>\n",
       "      <td>MainScreenAppear</td>\n",
       "      <td>2493</td>\n",
       "      <td>2537</td>\n",
       "      <td>44</td>\n",
       "      <td>0.982657</td>\n",
       "    </tr>\n",
       "    <tr>\n",
       "      <th>1</th>\n",
       "      <td>248</td>\n",
       "      <td>OffersScreenAppear</td>\n",
       "      <td>1531</td>\n",
       "      <td>2537</td>\n",
       "      <td>1006</td>\n",
       "      <td>0.603469</td>\n",
       "    </tr>\n",
       "    <tr>\n",
       "      <th>2</th>\n",
       "      <td>248</td>\n",
       "      <td>CartScreenAppear</td>\n",
       "      <td>1230</td>\n",
       "      <td>2537</td>\n",
       "      <td>1307</td>\n",
       "      <td>0.484825</td>\n",
       "    </tr>\n",
       "    <tr>\n",
       "      <th>3</th>\n",
       "      <td>248</td>\n",
       "      <td>PaymentScreenSuccessful</td>\n",
       "      <td>1181</td>\n",
       "      <td>2537</td>\n",
       "      <td>1356</td>\n",
       "      <td>0.465510</td>\n",
       "    </tr>\n",
       "    <tr>\n",
       "      <th>4</th>\n",
       "      <td>248</td>\n",
       "      <td>Tutorial</td>\n",
       "      <td>279</td>\n",
       "      <td>2537</td>\n",
       "      <td>2258</td>\n",
       "      <td>0.109972</td>\n",
       "    </tr>\n",
       "    <tr>\n",
       "      <th>5</th>\n",
       "      <td>247</td>\n",
       "      <td>MainScreenAppear</td>\n",
       "      <td>2476</td>\n",
       "      <td>2513</td>\n",
       "      <td>37</td>\n",
       "      <td>0.985277</td>\n",
       "    </tr>\n",
       "    <tr>\n",
       "      <th>6</th>\n",
       "      <td>247</td>\n",
       "      <td>OffersScreenAppear</td>\n",
       "      <td>1520</td>\n",
       "      <td>2513</td>\n",
       "      <td>993</td>\n",
       "      <td>0.604855</td>\n",
       "    </tr>\n",
       "    <tr>\n",
       "      <th>7</th>\n",
       "      <td>247</td>\n",
       "      <td>CartScreenAppear</td>\n",
       "      <td>1238</td>\n",
       "      <td>2513</td>\n",
       "      <td>1275</td>\n",
       "      <td>0.492638</td>\n",
       "    </tr>\n",
       "    <tr>\n",
       "      <th>8</th>\n",
       "      <td>247</td>\n",
       "      <td>PaymentScreenSuccessful</td>\n",
       "      <td>1158</td>\n",
       "      <td>2513</td>\n",
       "      <td>1355</td>\n",
       "      <td>0.460804</td>\n",
       "    </tr>\n",
       "    <tr>\n",
       "      <th>9</th>\n",
       "      <td>247</td>\n",
       "      <td>Tutorial</td>\n",
       "      <td>283</td>\n",
       "      <td>2513</td>\n",
       "      <td>2230</td>\n",
       "      <td>0.112614</td>\n",
       "    </tr>\n",
       "  </tbody>\n",
       "</table>\n",
       "</div>"
      ],
      "text/plain": [
       "   expid                eventname  performed  total_users  not_performed  \\\n",
       "0    248         MainScreenAppear       2493         2537             44   \n",
       "1    248       OffersScreenAppear       1531         2537           1006   \n",
       "2    248         CartScreenAppear       1230         2537           1307   \n",
       "3    248  PaymentScreenSuccessful       1181         2537           1356   \n",
       "4    248                 Tutorial        279         2537           2258   \n",
       "5    247         MainScreenAppear       2476         2513             37   \n",
       "6    247       OffersScreenAppear       1520         2513            993   \n",
       "7    247         CartScreenAppear       1238         2513           1275   \n",
       "8    247  PaymentScreenSuccessful       1158         2513           1355   \n",
       "9    247                 Tutorial        283         2513           2230   \n",
       "\n",
       "      share  \n",
       "0  0.982657  \n",
       "1  0.603469  \n",
       "2  0.484825  \n",
       "3  0.465510  \n",
       "4  0.109972  \n",
       "5  0.985277  \n",
       "6  0.604855  \n",
       "7  0.492638  \n",
       "8  0.460804  \n",
       "9  0.112614  "
      ]
     },
     "execution_count": 36,
     "metadata": {},
     "output_type": "execute_result"
    }
   ],
   "source": [
    "#retriving the control group 247 and the altered group 248\n",
    "users_control247_altered_group = users_group[(users_group['expid']==247) | (users_group['expid']==248)]\n",
    "users_control247_altered_group"
   ]
  },
  {
   "cell_type": "code",
   "execution_count": 37,
   "metadata": {},
   "outputs": [
    {
     "name": "stdout",
     "output_type": "stream",
     "text": [
      "For the event MainScreenAppear the chi2=1.0970906664848872 and the p-value=0.5777896908153972.\n",
      "For the event OffersScreenAppear the chi2=1.5835166696735212 and the p-value=0.4530474853426727.\n",
      "For the event CartScreenAppear the chi2=3.0984101497060945 and the p-value=0.21241676215668354.\n",
      "For the event PaymentScreenSuccessful the chi2=1.5567788624108192 and the p-value=0.4591449005785685.\n",
      "For the event Tutorial the chi2=0.04816794273669292 and the p-value=0.9762037331528559.\n"
     ]
    }
   ],
   "source": [
    "#calculating chi test\n",
    "chi_test_calculator(events,users_control246_altered_group)"
   ]
  },
  {
   "cell_type": "code",
   "execution_count": 38,
   "metadata": {},
   "outputs": [
    {
     "name": "stdout",
     "output_type": "stream",
     "text": [
      "For the event MainScreenAppear the chi2=0.5491246605870387 and the p-value=0.7599046376936383.\n",
      "For the event OffersScreenAppear the chi2=0.010184269136687421 and the p-value=0.994920808370506.\n",
      "For the event CartScreenAppear the chi2=0.30863005187371634 and the p-value=0.8570020006238419.\n",
      "For the event PaymentScreenSuccessful the chi2=0.11247712987299473 and the p-value=0.9453135903111899.\n",
      "For the event Tutorial the chi2=0.08916191108075759 and the p-value=0.9563981712287462.\n"
     ]
    }
   ],
   "source": [
    "#calculating chi test\n",
    "chi_test_calculator(events,users_control247_altered_group)"
   ]
  },
  {
   "cell_type": "markdown",
   "metadata": {},
   "source": [
    "Comment:\n",
    "\n",
    "Null hypothesis: There is a significant difference between the event in different groups.\n",
    "\n",
    "Alternative hypothesis: There is no significant difference between the event in different groups.\n",
    "\n",
    "Based on the chi test performed on all the events agaisnt the altered group and the controlled group independently we can conclude that the null hypothesis is rejected for all events as the p-values for all the events is larger than 0.05. Implying the altered font has no significant impact on user behavior."
   ]
  },
  {
   "cell_type": "markdown",
   "metadata": {},
   "source": [
    "### Readjusting the signifance level"
   ]
  },
  {
   "cell_type": "markdown",
   "metadata": {},
   "source": [
    "Current sigicance level."
   ]
  },
  {
   "cell_type": "code",
   "execution_count": 39,
   "metadata": {},
   "outputs": [
    {
     "name": "stdout",
     "output_type": "stream",
     "text": [
      "α=0.05\n"
     ]
    }
   ],
   "source": [
    "print('α=0.05')"
   ]
  },
  {
   "cell_type": "markdown",
   "metadata": {},
   "source": [
    "Number of Hypothesis Tests performed."
   ]
  },
  {
   "cell_type": "code",
   "execution_count": 40,
   "metadata": {},
   "outputs": [
    {
     "name": "stdout",
     "output_type": "stream",
     "text": [
      "15\n"
     ]
    }
   ],
   "source": [
    "print(15)"
   ]
  },
  {
   "cell_type": "markdown",
   "metadata": {},
   "source": [
    "Adjusting the significance level useing Bonferroni correction."
   ]
  },
  {
   "cell_type": "code",
   "execution_count": 41,
   "metadata": {},
   "outputs": [
    {
     "name": "stdout",
     "output_type": "stream",
     "text": [
      "Correct Alpha α=0.003.\n"
     ]
    }
   ],
   "source": [
    "corrected_alpha = 0.05/15\n",
    "print(f\"Correct Alpha α={round(corrected_alpha,3)}.\")"
   ]
  },
  {
   "cell_type": "code",
   "execution_count": 42,
   "metadata": {},
   "outputs": [],
   "source": [
    "#creating chi-test function with corrected alpha\n",
    "alpha = 0.05\n",
    "def chi_test_calculator(events,data):\n",
    "    for event in events:\n",
    "        table = data[data['eventname'] == event]\n",
    "        cont_table = table.pivot(index='expid', columns='eventname',values=['performed','not_performed','share'])\n",
    "        chi2, p, dof, ex = chi2_contingency(cont_table)\n",
    "        return chi2, p < alpha\n",
    "        "
   ]
  },
  {
   "cell_type": "code",
   "execution_count": 43,
   "metadata": {},
   "outputs": [
    {
     "data": {
      "text/plain": [
       "(0.09577276467192558, False)"
      ]
     },
     "execution_count": 43,
     "metadata": {},
     "output_type": "execute_result"
    }
   ],
   "source": [
    "#calculating chi2 and p value for controlled groups\n",
    "chi_test_calculator(events,users_control_groups)"
   ]
  },
  {
   "cell_type": "code",
   "execution_count": 44,
   "metadata": {},
   "outputs": [
    {
     "data": {
      "text/plain": [
       "(1.0970906664848872, False)"
      ]
     },
     "execution_count": 44,
     "metadata": {},
     "output_type": "execute_result"
    }
   ],
   "source": [
    "#calculating chi2 and p value for controlled group 246 and altered group\n",
    "chi_test_calculator(events,users_control246_altered_group)"
   ]
  },
  {
   "cell_type": "code",
   "execution_count": 45,
   "metadata": {},
   "outputs": [
    {
     "data": {
      "text/plain": [
       "(0.5491246605870387, False)"
      ]
     },
     "execution_count": 45,
     "metadata": {},
     "output_type": "execute_result"
    }
   ],
   "source": [
    "#calculating chi2 and p value for controlled group 247 and altered group\n",
    "chi_test_calculator(events,users_control247_altered_group)"
   ]
  },
  {
   "cell_type": "markdown",
   "metadata": {},
   "source": [
    "#### Conclusion\n",
    "\n",
    "There is no p-value that is smaller than 0.05 so we can conclude that there will be no value smaller than the adjusted alpha value of 0.003. We can conclude that our results will stay the same after adjusting the alpha value. For the two control groups, the control group 246 and the altered group, lastly, the control group 247 and the altered group have no statisitcally sigficant differences. Implying that the control groups are both stable and that changing the font does not have any significant impact on user behaviour."
   ]
  }
 ],
 "metadata": {
  "ExecuteTimeLog": [
   {
    "duration": 5076,
    "start_time": "2024-05-17T03:39:53.581Z"
   },
   {
    "duration": 217,
    "start_time": "2024-05-17T03:39:58.662Z"
   },
   {
    "duration": 125,
    "start_time": "2024-05-17T03:39:58.882Z"
   },
   {
    "duration": 19,
    "start_time": "2024-05-17T03:39:59.025Z"
   },
   {
    "duration": 19,
    "start_time": "2024-05-17T03:39:59.047Z"
   },
   {
    "duration": 319,
    "start_time": "2024-05-17T03:39:59.069Z"
   },
   {
    "duration": 173,
    "start_time": "2024-05-17T03:39:59.392Z"
   },
   {
    "duration": 197,
    "start_time": "2024-05-17T03:39:59.568Z"
   },
   {
    "duration": 58,
    "start_time": "2024-05-17T03:39:59.768Z"
   },
   {
    "duration": 9,
    "start_time": "2024-05-17T03:39:59.833Z"
   },
   {
    "duration": 30,
    "start_time": "2024-05-17T03:39:59.848Z"
   },
   {
    "duration": 7,
    "start_time": "2024-05-17T03:39:59.881Z"
   },
   {
    "duration": 1661,
    "start_time": "2024-05-17T03:39:59.892Z"
   },
   {
    "duration": 9,
    "start_time": "2024-05-17T03:40:01.557Z"
   },
   {
    "duration": 21,
    "start_time": "2024-05-17T03:40:01.568Z"
   },
   {
    "duration": 6,
    "start_time": "2024-05-17T03:40:01.627Z"
   },
   {
    "duration": 1542,
    "start_time": "2024-05-17T03:40:01.637Z"
   },
   {
    "duration": 11,
    "start_time": "2024-05-17T03:40:03.183Z"
   },
   {
    "duration": 5,
    "start_time": "2024-05-17T03:40:03.198Z"
   },
   {
    "duration": 29,
    "start_time": "2024-05-17T03:40:03.228Z"
   },
   {
    "duration": 78,
    "start_time": "2024-05-17T03:40:03.260Z"
   },
   {
    "duration": 85,
    "start_time": "2024-05-17T03:40:03.342Z"
   },
   {
    "duration": 23,
    "start_time": "2024-05-17T03:40:03.431Z"
   },
   {
    "duration": 15,
    "start_time": "2024-05-17T03:40:03.457Z"
   },
   {
    "duration": 114,
    "start_time": "2024-05-17T03:40:03.476Z"
   },
   {
    "duration": 57,
    "start_time": "2024-05-17T03:40:03.594Z"
   },
   {
    "duration": 4975,
    "start_time": "2024-05-20T18:43:04.721Z"
   },
   {
    "duration": 222,
    "start_time": "2024-05-20T18:43:09.701Z"
   },
   {
    "duration": 115,
    "start_time": "2024-05-20T18:43:09.926Z"
   },
   {
    "duration": 17,
    "start_time": "2024-05-20T18:43:10.047Z"
   },
   {
    "duration": 21,
    "start_time": "2024-05-20T18:43:10.067Z"
   },
   {
    "duration": 348,
    "start_time": "2024-05-20T18:43:10.091Z"
   },
   {
    "duration": 150,
    "start_time": "2024-05-20T18:43:10.445Z"
   },
   {
    "duration": 165,
    "start_time": "2024-05-20T18:43:10.598Z"
   },
   {
    "duration": 35,
    "start_time": "2024-05-20T18:43:10.766Z"
   },
   {
    "duration": 29,
    "start_time": "2024-05-20T18:43:10.808Z"
   },
   {
    "duration": 19,
    "start_time": "2024-05-20T18:43:10.840Z"
   },
   {
    "duration": 8,
    "start_time": "2024-05-20T18:43:10.862Z"
   },
   {
    "duration": 1687,
    "start_time": "2024-05-20T18:43:10.873Z"
   },
   {
    "duration": 9,
    "start_time": "2024-05-20T18:43:12.563Z"
   },
   {
    "duration": 20,
    "start_time": "2024-05-20T18:43:12.575Z"
   },
   {
    "duration": 5,
    "start_time": "2024-05-20T18:43:12.630Z"
   },
   {
    "duration": 1500,
    "start_time": "2024-05-20T18:43:12.639Z"
   },
   {
    "duration": 11,
    "start_time": "2024-05-20T18:43:14.142Z"
   },
   {
    "duration": 5,
    "start_time": "2024-05-20T18:43:14.157Z"
   },
   {
    "duration": 30,
    "start_time": "2024-05-20T18:43:14.166Z"
   },
   {
    "duration": 51,
    "start_time": "2024-05-20T18:43:14.230Z"
   },
   {
    "duration": 97,
    "start_time": "2024-05-20T18:43:14.284Z"
   },
   {
    "duration": 18,
    "start_time": "2024-05-20T18:43:14.385Z"
   },
   {
    "duration": 30,
    "start_time": "2024-05-20T18:43:14.406Z"
   },
   {
    "duration": 72,
    "start_time": "2024-05-20T18:43:14.439Z"
   },
   {
    "duration": 42,
    "start_time": "2024-05-20T18:43:14.532Z"
   },
   {
    "duration": 1249,
    "start_time": "2024-05-20T18:43:29.788Z"
   },
   {
    "duration": 180,
    "start_time": "2024-05-20T18:43:31.040Z"
   },
   {
    "duration": 123,
    "start_time": "2024-05-20T18:43:31.223Z"
   },
   {
    "duration": 17,
    "start_time": "2024-05-20T18:43:31.349Z"
   },
   {
    "duration": 19,
    "start_time": "2024-05-20T18:43:31.370Z"
   },
   {
    "duration": 327,
    "start_time": "2024-05-20T18:43:31.392Z"
   },
   {
    "duration": 180,
    "start_time": "2024-05-20T18:43:31.723Z"
   },
   {
    "duration": 195,
    "start_time": "2024-05-20T18:43:31.910Z"
   },
   {
    "duration": 53,
    "start_time": "2024-05-20T18:43:32.108Z"
   },
   {
    "duration": 7,
    "start_time": "2024-05-20T18:43:32.165Z"
   },
   {
    "duration": 17,
    "start_time": "2024-05-20T18:43:32.175Z"
   },
   {
    "duration": 38,
    "start_time": "2024-05-20T18:43:32.194Z"
   },
   {
    "duration": 1613,
    "start_time": "2024-05-20T18:43:32.235Z"
   },
   {
    "duration": 7,
    "start_time": "2024-05-20T18:43:33.855Z"
   },
   {
    "duration": 22,
    "start_time": "2024-05-20T18:43:33.866Z"
   },
   {
    "duration": 41,
    "start_time": "2024-05-20T18:43:33.891Z"
   },
   {
    "duration": 1525,
    "start_time": "2024-05-20T18:43:33.936Z"
   },
   {
    "duration": 13,
    "start_time": "2024-05-20T18:43:35.464Z"
   },
   {
    "duration": 6,
    "start_time": "2024-05-20T18:43:35.479Z"
   },
   {
    "duration": 61,
    "start_time": "2024-05-20T18:43:35.488Z"
   },
   {
    "duration": 45,
    "start_time": "2024-05-20T18:43:35.552Z"
   },
   {
    "duration": 108,
    "start_time": "2024-05-20T18:43:35.600Z"
   },
   {
    "duration": 27,
    "start_time": "2024-05-20T18:43:35.712Z"
   },
   {
    "duration": 13,
    "start_time": "2024-05-20T18:43:35.743Z"
   },
   {
    "duration": 102,
    "start_time": "2024-05-20T18:43:35.759Z"
   },
   {
    "duration": 53,
    "start_time": "2024-05-20T18:43:35.864Z"
   },
   {
    "duration": 12,
    "start_time": "2024-05-20T18:49:35.289Z"
   },
   {
    "duration": 12,
    "start_time": "2024-05-20T18:49:53.477Z"
   },
   {
    "duration": 1288,
    "start_time": "2024-05-20T18:50:03.170Z"
   },
   {
    "duration": 181,
    "start_time": "2024-05-20T18:50:04.462Z"
   },
   {
    "duration": 127,
    "start_time": "2024-05-20T18:50:04.647Z"
   },
   {
    "duration": 16,
    "start_time": "2024-05-20T18:50:04.778Z"
   },
   {
    "duration": 38,
    "start_time": "2024-05-20T18:50:04.796Z"
   },
   {
    "duration": 311,
    "start_time": "2024-05-20T18:50:04.837Z"
   },
   {
    "duration": 159,
    "start_time": "2024-05-20T18:50:05.152Z"
   },
   {
    "duration": 167,
    "start_time": "2024-05-20T18:50:05.314Z"
   },
   {
    "duration": 50,
    "start_time": "2024-05-20T18:50:05.484Z"
   },
   {
    "duration": 8,
    "start_time": "2024-05-20T18:50:05.540Z"
   },
   {
    "duration": 22,
    "start_time": "2024-05-20T18:50:05.551Z"
   },
   {
    "duration": 7,
    "start_time": "2024-05-20T18:50:05.576Z"
   },
   {
    "duration": 1633,
    "start_time": "2024-05-20T18:50:05.586Z"
   },
   {
    "duration": 9,
    "start_time": "2024-05-20T18:50:07.230Z"
   },
   {
    "duration": 20,
    "start_time": "2024-05-20T18:50:07.242Z"
   },
   {
    "duration": 5,
    "start_time": "2024-05-20T18:50:07.266Z"
   },
   {
    "duration": 1480,
    "start_time": "2024-05-20T18:50:07.274Z"
   },
   {
    "duration": 10,
    "start_time": "2024-05-20T18:50:08.757Z"
   },
   {
    "duration": 6,
    "start_time": "2024-05-20T18:50:08.770Z"
   },
   {
    "duration": 58,
    "start_time": "2024-05-20T18:50:08.779Z"
   },
   {
    "duration": 52,
    "start_time": "2024-05-20T18:50:08.839Z"
   },
   {
    "duration": 91,
    "start_time": "2024-05-20T18:50:08.894Z"
   },
   {
    "duration": 18,
    "start_time": "2024-05-20T18:50:08.988Z"
   },
   {
    "duration": 14,
    "start_time": "2024-05-20T18:50:09.030Z"
   },
   {
    "duration": 93,
    "start_time": "2024-05-20T18:50:09.048Z"
   },
   {
    "duration": 43,
    "start_time": "2024-05-20T18:50:09.144Z"
   },
   {
    "duration": 11,
    "start_time": "2024-05-20T18:50:09.190Z"
   },
   {
    "duration": 22,
    "start_time": "2024-05-20T18:51:49.148Z"
   },
   {
    "duration": 194,
    "start_time": "2024-05-20T18:52:11.512Z"
   },
   {
    "duration": 1271,
    "start_time": "2024-05-20T18:52:48.373Z"
   },
   {
    "duration": 178,
    "start_time": "2024-05-20T18:52:49.647Z"
   },
   {
    "duration": 118,
    "start_time": "2024-05-20T18:52:49.830Z"
   },
   {
    "duration": 17,
    "start_time": "2024-05-20T18:52:49.953Z"
   },
   {
    "duration": 19,
    "start_time": "2024-05-20T18:52:49.972Z"
   },
   {
    "duration": 323,
    "start_time": "2024-05-20T18:52:49.994Z"
   },
   {
    "duration": 169,
    "start_time": "2024-05-20T18:52:50.319Z"
   },
   {
    "duration": 180,
    "start_time": "2024-05-20T18:52:50.492Z"
   },
   {
    "duration": 37,
    "start_time": "2024-05-20T18:52:50.679Z"
   },
   {
    "duration": 7,
    "start_time": "2024-05-20T18:52:50.734Z"
   },
   {
    "duration": 17,
    "start_time": "2024-05-20T18:52:50.744Z"
   },
   {
    "duration": 7,
    "start_time": "2024-05-20T18:52:50.765Z"
   },
   {
    "duration": 1663,
    "start_time": "2024-05-20T18:52:50.775Z"
   },
   {
    "duration": 9,
    "start_time": "2024-05-20T18:52:52.442Z"
   },
   {
    "duration": 21,
    "start_time": "2024-05-20T18:52:52.454Z"
   },
   {
    "duration": 4,
    "start_time": "2024-05-20T18:52:52.481Z"
   },
   {
    "duration": 1524,
    "start_time": "2024-05-20T18:52:52.488Z"
   },
   {
    "duration": 13,
    "start_time": "2024-05-20T18:52:54.017Z"
   },
   {
    "duration": 5,
    "start_time": "2024-05-20T18:52:54.033Z"
   },
   {
    "duration": 25,
    "start_time": "2024-05-20T18:52:54.041Z"
   },
   {
    "duration": 83,
    "start_time": "2024-05-20T18:52:54.069Z"
   },
   {
    "duration": 80,
    "start_time": "2024-05-20T18:52:54.156Z"
   },
   {
    "duration": 21,
    "start_time": "2024-05-20T18:52:54.239Z"
   },
   {
    "duration": 14,
    "start_time": "2024-05-20T18:52:54.263Z"
   },
   {
    "duration": 110,
    "start_time": "2024-05-20T18:52:54.279Z"
   },
   {
    "duration": 51,
    "start_time": "2024-05-20T18:52:54.392Z"
   },
   {
    "duration": 210,
    "start_time": "2024-05-20T18:52:54.446Z"
   },
   {
    "duration": 29,
    "start_time": "2024-05-20T18:55:22.684Z"
   },
   {
    "duration": 225,
    "start_time": "2024-05-20T18:57:38.918Z"
   },
   {
    "duration": 4,
    "start_time": "2024-05-20T18:57:50.630Z"
   },
   {
    "duration": 1649,
    "start_time": "2024-05-20T18:59:33.361Z"
   },
   {
    "duration": 1450,
    "start_time": "2024-05-20T19:03:35.882Z"
   },
   {
    "duration": 6,
    "start_time": "2024-05-20T19:09:15.446Z"
   },
   {
    "duration": 820,
    "start_time": "2024-05-20T19:10:07.791Z"
   },
   {
    "duration": 47,
    "start_time": "2024-05-20T19:10:22.976Z"
   },
   {
    "duration": 43,
    "start_time": "2024-05-20T19:11:23.383Z"
   },
   {
    "duration": 44,
    "start_time": "2024-05-20T19:11:28.912Z"
   },
   {
    "duration": 55,
    "start_time": "2024-05-20T19:11:42.567Z"
   },
   {
    "duration": 48,
    "start_time": "2024-05-20T19:11:48.986Z"
   },
   {
    "duration": 44,
    "start_time": "2024-05-20T19:11:53.198Z"
   },
   {
    "duration": 78,
    "start_time": "2024-05-20T19:12:06.113Z"
   },
   {
    "duration": 115,
    "start_time": "2024-05-20T19:17:13.789Z"
   },
   {
    "duration": 44,
    "start_time": "2024-05-20T19:17:21.877Z"
   },
   {
    "duration": 4431,
    "start_time": "2024-05-20T19:18:25.174Z"
   },
   {
    "duration": 4109,
    "start_time": "2024-05-20T19:18:39.232Z"
   },
   {
    "duration": 35,
    "start_time": "2024-05-20T19:19:15.823Z"
   },
   {
    "duration": 47,
    "start_time": "2024-05-20T19:19:23.121Z"
   },
   {
    "duration": 42,
    "start_time": "2024-05-20T19:20:12.640Z"
   },
   {
    "duration": 44,
    "start_time": "2024-05-20T19:20:19.602Z"
   },
   {
    "duration": 47,
    "start_time": "2024-05-20T19:20:33.033Z"
   },
   {
    "duration": 43,
    "start_time": "2024-05-20T19:20:48.143Z"
   },
   {
    "duration": 47,
    "start_time": "2024-05-20T19:31:16.536Z"
   },
   {
    "duration": 24,
    "start_time": "2024-05-20T19:31:18.114Z"
   },
   {
    "duration": 1302,
    "start_time": "2024-05-20T19:31:31.285Z"
   },
   {
    "duration": 193,
    "start_time": "2024-05-20T19:31:32.590Z"
   },
   {
    "duration": 134,
    "start_time": "2024-05-20T19:31:32.786Z"
   },
   {
    "duration": 23,
    "start_time": "2024-05-20T19:31:32.924Z"
   },
   {
    "duration": 19,
    "start_time": "2024-05-20T19:31:32.950Z"
   },
   {
    "duration": 320,
    "start_time": "2024-05-20T19:31:32.972Z"
   },
   {
    "duration": 152,
    "start_time": "2024-05-20T19:31:33.296Z"
   },
   {
    "duration": 167,
    "start_time": "2024-05-20T19:31:33.451Z"
   },
   {
    "duration": 39,
    "start_time": "2024-05-20T19:31:33.622Z"
   },
   {
    "duration": 8,
    "start_time": "2024-05-20T19:31:33.667Z"
   },
   {
    "duration": 17,
    "start_time": "2024-05-20T19:31:33.678Z"
   },
   {
    "duration": 8,
    "start_time": "2024-05-20T19:31:33.731Z"
   },
   {
    "duration": 1624,
    "start_time": "2024-05-20T19:31:33.742Z"
   },
   {
    "duration": 8,
    "start_time": "2024-05-20T19:31:35.369Z"
   },
   {
    "duration": 20,
    "start_time": "2024-05-20T19:31:35.380Z"
   },
   {
    "duration": 5,
    "start_time": "2024-05-20T19:31:35.429Z"
   },
   {
    "duration": 1515,
    "start_time": "2024-05-20T19:31:35.437Z"
   },
   {
    "duration": 10,
    "start_time": "2024-05-20T19:31:36.955Z"
   },
   {
    "duration": 6,
    "start_time": "2024-05-20T19:31:36.967Z"
   },
   {
    "duration": 63,
    "start_time": "2024-05-20T19:31:36.976Z"
   },
   {
    "duration": 46,
    "start_time": "2024-05-20T19:31:37.042Z"
   },
   {
    "duration": 90,
    "start_time": "2024-05-20T19:31:37.091Z"
   },
   {
    "duration": 22,
    "start_time": "2024-05-20T19:31:37.183Z"
   },
   {
    "duration": 35,
    "start_time": "2024-05-20T19:31:37.208Z"
   },
   {
    "duration": 97,
    "start_time": "2024-05-20T19:31:37.246Z"
   },
   {
    "duration": 44,
    "start_time": "2024-05-20T19:31:37.346Z"
   },
   {
    "duration": 69,
    "start_time": "2024-05-20T19:31:37.392Z"
   },
   {
    "duration": 408,
    "start_time": "2024-05-20T19:31:37.468Z"
   },
   {
    "duration": 6,
    "start_time": "2024-05-20T19:33:56.792Z"
   },
   {
    "duration": 792,
    "start_time": "2024-05-20T19:59:45.803Z"
   },
   {
    "duration": 55,
    "start_time": "2024-05-20T19:59:57.893Z"
   },
   {
    "duration": 58,
    "start_time": "2024-05-20T20:03:22.519Z"
   },
   {
    "duration": 56,
    "start_time": "2024-05-20T20:03:31.888Z"
   },
   {
    "duration": 68,
    "start_time": "2024-05-20T20:05:20.625Z"
   },
   {
    "duration": 58,
    "start_time": "2024-05-20T20:05:26.548Z"
   },
   {
    "duration": 57,
    "start_time": "2024-05-20T20:05:43.987Z"
   },
   {
    "duration": 6,
    "start_time": "2024-05-20T20:07:00.299Z"
   },
   {
    "duration": 7,
    "start_time": "2024-05-20T20:07:07.004Z"
   },
   {
    "duration": 546,
    "start_time": "2024-05-20T20:08:08.286Z"
   },
   {
    "duration": 74,
    "start_time": "2024-05-20T20:08:47.376Z"
   },
   {
    "duration": 66,
    "start_time": "2024-05-20T20:09:06.166Z"
   },
   {
    "duration": 6,
    "start_time": "2024-05-20T20:09:16.222Z"
   },
   {
    "duration": 64,
    "start_time": "2024-05-20T21:49:08.886Z"
   },
   {
    "duration": 67,
    "start_time": "2024-05-20T22:13:41.681Z"
   },
   {
    "duration": 42,
    "start_time": "2024-05-20T22:15:11.258Z"
   },
   {
    "duration": 43,
    "start_time": "2024-05-20T22:15:20.338Z"
   },
   {
    "duration": 1311,
    "start_time": "2024-05-20T22:15:39.531Z"
   },
   {
    "duration": 201,
    "start_time": "2024-05-20T22:15:40.846Z"
   },
   {
    "duration": 121,
    "start_time": "2024-05-20T22:15:41.050Z"
   },
   {
    "duration": 18,
    "start_time": "2024-05-20T22:15:41.175Z"
   },
   {
    "duration": 43,
    "start_time": "2024-05-20T22:15:41.196Z"
   },
   {
    "duration": 306,
    "start_time": "2024-05-20T22:15:41.242Z"
   },
   {
    "duration": 159,
    "start_time": "2024-05-20T22:15:41.551Z"
   },
   {
    "duration": 190,
    "start_time": "2024-05-20T22:15:41.713Z"
   },
   {
    "duration": 43,
    "start_time": "2024-05-20T22:15:41.906Z"
   },
   {
    "duration": 8,
    "start_time": "2024-05-20T22:15:41.955Z"
   },
   {
    "duration": 22,
    "start_time": "2024-05-20T22:15:41.966Z"
   },
   {
    "duration": 41,
    "start_time": "2024-05-20T22:15:41.992Z"
   },
   {
    "duration": 1622,
    "start_time": "2024-05-20T22:15:42.037Z"
   },
   {
    "duration": 10,
    "start_time": "2024-05-20T22:15:43.662Z"
   },
   {
    "duration": 22,
    "start_time": "2024-05-20T22:15:43.675Z"
   },
   {
    "duration": 6,
    "start_time": "2024-05-20T22:15:43.730Z"
   },
   {
    "duration": 1491,
    "start_time": "2024-05-20T22:15:43.739Z"
   },
   {
    "duration": 10,
    "start_time": "2024-05-20T22:15:45.234Z"
   },
   {
    "duration": 6,
    "start_time": "2024-05-20T22:15:45.246Z"
   },
   {
    "duration": 27,
    "start_time": "2024-05-20T22:15:45.255Z"
   },
   {
    "duration": 83,
    "start_time": "2024-05-20T22:15:45.284Z"
   },
   {
    "duration": 88,
    "start_time": "2024-05-20T22:15:45.371Z"
   },
   {
    "duration": 22,
    "start_time": "2024-05-20T22:15:45.462Z"
   },
   {
    "duration": 42,
    "start_time": "2024-05-20T22:15:45.488Z"
   },
   {
    "duration": 71,
    "start_time": "2024-05-20T22:15:45.533Z"
   },
   {
    "duration": 58,
    "start_time": "2024-05-20T22:15:45.607Z"
   },
   {
    "duration": 62,
    "start_time": "2024-05-20T22:15:45.668Z"
   },
   {
    "duration": 7,
    "start_time": "2024-05-20T22:15:45.738Z"
   },
   {
    "duration": 97,
    "start_time": "2024-05-20T22:15:45.748Z"
   },
   {
    "duration": 6,
    "start_time": "2024-05-20T22:15:45.849Z"
   },
   {
    "duration": 6,
    "start_time": "2024-05-20T22:15:45.858Z"
   },
   {
    "duration": 66,
    "start_time": "2024-05-20T22:18:17.101Z"
   },
   {
    "duration": 66,
    "start_time": "2024-05-20T22:19:16.903Z"
   },
   {
    "duration": 7,
    "start_time": "2024-05-20T22:19:19.471Z"
   },
   {
    "duration": 29,
    "start_time": "2024-05-20T22:21:35.107Z"
   },
   {
    "duration": 6,
    "start_time": "2024-05-20T22:21:36.657Z"
   },
   {
    "duration": 65,
    "start_time": "2024-05-20T22:21:45.698Z"
   },
   {
    "duration": 6,
    "start_time": "2024-05-20T22:21:49.809Z"
   },
   {
    "duration": 42,
    "start_time": "2024-05-20T22:22:04.090Z"
   },
   {
    "duration": 5,
    "start_time": "2024-05-20T22:22:04.933Z"
   },
   {
    "duration": 65,
    "start_time": "2024-05-20T22:22:07.674Z"
   },
   {
    "duration": 6,
    "start_time": "2024-05-20T22:22:44.267Z"
   },
   {
    "duration": 1275,
    "start_time": "2024-05-20T22:25:34.168Z"
   },
   {
    "duration": 197,
    "start_time": "2024-05-20T22:25:35.446Z"
   },
   {
    "duration": 136,
    "start_time": "2024-05-20T22:25:35.646Z"
   },
   {
    "duration": 18,
    "start_time": "2024-05-20T22:25:35.786Z"
   },
   {
    "duration": 38,
    "start_time": "2024-05-20T22:25:35.809Z"
   },
   {
    "duration": 311,
    "start_time": "2024-05-20T22:25:35.850Z"
   },
   {
    "duration": 159,
    "start_time": "2024-05-20T22:25:36.164Z"
   },
   {
    "duration": 161,
    "start_time": "2024-05-20T22:25:36.331Z"
   },
   {
    "duration": 49,
    "start_time": "2024-05-20T22:25:36.495Z"
   },
   {
    "duration": 8,
    "start_time": "2024-05-20T22:25:36.546Z"
   },
   {
    "duration": 18,
    "start_time": "2024-05-20T22:25:36.557Z"
   },
   {
    "duration": 7,
    "start_time": "2024-05-20T22:25:36.578Z"
   },
   {
    "duration": 1586,
    "start_time": "2024-05-20T22:25:36.588Z"
   },
   {
    "duration": 10,
    "start_time": "2024-05-20T22:25:38.182Z"
   },
   {
    "duration": 47,
    "start_time": "2024-05-20T22:25:38.195Z"
   },
   {
    "duration": 5,
    "start_time": "2024-05-20T22:25:38.245Z"
   },
   {
    "duration": 1494,
    "start_time": "2024-05-20T22:25:38.254Z"
   },
   {
    "duration": 11,
    "start_time": "2024-05-20T22:25:39.751Z"
   },
   {
    "duration": 5,
    "start_time": "2024-05-20T22:25:39.765Z"
   },
   {
    "duration": 59,
    "start_time": "2024-05-20T22:25:39.773Z"
   },
   {
    "duration": 45,
    "start_time": "2024-05-20T22:25:39.835Z"
   },
   {
    "duration": 92,
    "start_time": "2024-05-20T22:25:39.883Z"
   },
   {
    "duration": 18,
    "start_time": "2024-05-20T22:25:39.979Z"
   },
   {
    "duration": 36,
    "start_time": "2024-05-20T22:25:40.000Z"
   },
   {
    "duration": 75,
    "start_time": "2024-05-20T22:25:40.039Z"
   },
   {
    "duration": 55,
    "start_time": "2024-05-20T22:25:40.131Z"
   },
   {
    "duration": 67,
    "start_time": "2024-05-20T22:25:40.189Z"
   },
   {
    "duration": 6,
    "start_time": "2024-05-20T22:25:40.259Z"
   },
   {
    "duration": 99,
    "start_time": "2024-05-20T22:25:40.268Z"
   },
   {
    "duration": 5,
    "start_time": "2024-05-20T22:25:40.370Z"
   },
   {
    "duration": 20,
    "start_time": "2024-05-20T22:25:40.379Z"
   },
   {
    "duration": 395,
    "start_time": "2024-05-20T22:27:07.655Z"
   },
   {
    "duration": 46,
    "start_time": "2024-05-20T22:27:14.479Z"
   },
   {
    "duration": 26,
    "start_time": "2024-05-20T22:28:54.490Z"
   },
   {
    "duration": 26,
    "start_time": "2024-05-20T22:41:13.902Z"
   },
   {
    "duration": 29,
    "start_time": "2024-05-20T22:41:20.910Z"
   },
   {
    "duration": 323,
    "start_time": "2024-05-20T22:44:06.434Z"
   },
   {
    "duration": 41,
    "start_time": "2024-05-20T22:45:45.332Z"
   },
   {
    "duration": 28,
    "start_time": "2024-05-20T22:45:51.836Z"
   },
   {
    "duration": 58,
    "start_time": "2024-05-20T22:45:52.733Z"
   },
   {
    "duration": 20,
    "start_time": "2024-05-20T22:47:15.847Z"
   },
   {
    "duration": 8,
    "start_time": "2024-05-20T22:48:38.840Z"
   },
   {
    "duration": 45,
    "start_time": "2024-05-20T22:49:10.272Z"
   },
   {
    "duration": 8,
    "start_time": "2024-05-20T22:49:20.152Z"
   },
   {
    "duration": 1282,
    "start_time": "2024-05-20T22:50:44.675Z"
   },
   {
    "duration": 228,
    "start_time": "2024-05-20T22:50:45.960Z"
   },
   {
    "duration": 119,
    "start_time": "2024-05-20T22:50:46.191Z"
   },
   {
    "duration": 26,
    "start_time": "2024-05-20T22:50:46.315Z"
   },
   {
    "duration": 20,
    "start_time": "2024-05-20T22:50:46.344Z"
   },
   {
    "duration": 323,
    "start_time": "2024-05-20T22:50:46.367Z"
   },
   {
    "duration": 175,
    "start_time": "2024-05-20T22:50:46.692Z"
   },
   {
    "duration": 180,
    "start_time": "2024-05-20T22:50:46.870Z"
   },
   {
    "duration": 37,
    "start_time": "2024-05-20T22:50:47.053Z"
   },
   {
    "duration": 34,
    "start_time": "2024-05-20T22:50:47.096Z"
   },
   {
    "duration": 18,
    "start_time": "2024-05-20T22:50:47.134Z"
   },
   {
    "duration": 8,
    "start_time": "2024-05-20T22:50:47.156Z"
   },
   {
    "duration": 1595,
    "start_time": "2024-05-20T22:50:47.171Z"
   },
   {
    "duration": 9,
    "start_time": "2024-05-20T22:50:48.769Z"
   },
   {
    "duration": 22,
    "start_time": "2024-05-20T22:50:48.781Z"
   },
   {
    "duration": 5,
    "start_time": "2024-05-20T22:50:48.830Z"
   },
   {
    "duration": 1494,
    "start_time": "2024-05-20T22:50:48.839Z"
   },
   {
    "duration": 10,
    "start_time": "2024-05-20T22:50:50.336Z"
   },
   {
    "duration": 6,
    "start_time": "2024-05-20T22:50:50.349Z"
   },
   {
    "duration": 29,
    "start_time": "2024-05-20T22:50:50.357Z"
   },
   {
    "duration": 78,
    "start_time": "2024-05-20T22:50:50.389Z"
   },
   {
    "duration": 89,
    "start_time": "2024-05-20T22:50:50.470Z"
   },
   {
    "duration": 22,
    "start_time": "2024-05-20T22:50:50.563Z"
   },
   {
    "duration": 16,
    "start_time": "2024-05-20T22:50:50.588Z"
   },
   {
    "duration": 93,
    "start_time": "2024-05-20T22:50:50.606Z"
   },
   {
    "duration": 63,
    "start_time": "2024-05-20T22:50:50.702Z"
   },
   {
    "duration": 63,
    "start_time": "2024-05-20T22:50:50.768Z"
   },
   {
    "duration": 8,
    "start_time": "2024-05-20T22:50:50.839Z"
   },
   {
    "duration": 9,
    "start_time": "2024-05-20T22:50:50.850Z"
   },
   {
    "duration": 20,
    "start_time": "2024-05-20T22:50:50.862Z"
   },
   {
    "duration": 65,
    "start_time": "2024-05-20T22:51:01.243Z"
   },
   {
    "duration": 42,
    "start_time": "2024-05-20T22:55:26.240Z"
   },
   {
    "duration": 37,
    "start_time": "2024-05-20T22:57:21.074Z"
   },
   {
    "duration": 711,
    "start_time": "2024-05-20T22:59:22.357Z"
   },
   {
    "duration": 129,
    "start_time": "2024-05-20T22:59:55.804Z"
   },
   {
    "duration": 68,
    "start_time": "2024-05-20T23:00:12.990Z"
   },
   {
    "duration": 102,
    "start_time": "2024-05-20T23:00:57.166Z"
   },
   {
    "duration": 634,
    "start_time": "2024-05-20T23:01:30.439Z"
   },
   {
    "duration": 111,
    "start_time": "2024-05-20T23:01:40.432Z"
   },
   {
    "duration": 110,
    "start_time": "2024-05-20T23:02:20.369Z"
   },
   {
    "duration": 108,
    "start_time": "2024-05-20T23:02:44.601Z"
   },
   {
    "duration": 111,
    "start_time": "2024-05-20T23:03:30.725Z"
   },
   {
    "duration": 45,
    "start_time": "2024-05-20T23:03:30.839Z"
   },
   {
    "duration": 111,
    "start_time": "2024-05-20T23:04:02.809Z"
   },
   {
    "duration": 105,
    "start_time": "2024-05-20T23:04:14.019Z"
   },
   {
    "duration": 126,
    "start_time": "2024-05-20T23:08:02.767Z"
   },
   {
    "duration": 111,
    "start_time": "2024-05-20T23:08:13.360Z"
   },
   {
    "duration": 53,
    "start_time": "2024-05-20T23:08:13.479Z"
   },
   {
    "duration": 107,
    "start_time": "2024-05-20T23:08:30.894Z"
   },
   {
    "duration": 123,
    "start_time": "2024-05-20T23:08:43.863Z"
   },
   {
    "duration": 107,
    "start_time": "2024-05-20T23:08:48.375Z"
   },
   {
    "duration": 80,
    "start_time": "2024-05-20T23:10:37.984Z"
   },
   {
    "duration": 86,
    "start_time": "2024-05-20T23:11:30.730Z"
   },
   {
    "duration": 88,
    "start_time": "2024-05-20T23:11:43.012Z"
   },
   {
    "duration": 82,
    "start_time": "2024-05-20T23:12:01.514Z"
   },
   {
    "duration": 82,
    "start_time": "2024-05-20T23:12:46.611Z"
   },
   {
    "duration": 82,
    "start_time": "2024-05-20T23:12:51.579Z"
   },
   {
    "duration": 84,
    "start_time": "2024-05-20T23:13:22.187Z"
   },
   {
    "duration": 83,
    "start_time": "2024-05-20T23:13:34.316Z"
   },
   {
    "duration": 86,
    "start_time": "2024-05-20T23:13:42.356Z"
   },
   {
    "duration": 82,
    "start_time": "2024-05-20T23:13:54.516Z"
   },
   {
    "duration": 83,
    "start_time": "2024-05-20T23:15:03.983Z"
   },
   {
    "duration": 83,
    "start_time": "2024-05-20T23:15:27.182Z"
   },
   {
    "duration": 82,
    "start_time": "2024-05-20T23:15:34.981Z"
   },
   {
    "duration": 85,
    "start_time": "2024-05-20T23:15:44.646Z"
   },
   {
    "duration": 85,
    "start_time": "2024-05-20T23:15:52.606Z"
   },
   {
    "duration": 86,
    "start_time": "2024-05-20T23:16:02.110Z"
   },
   {
    "duration": 91,
    "start_time": "2024-05-20T23:16:12.029Z"
   },
   {
    "duration": 83,
    "start_time": "2024-05-20T23:16:38.711Z"
   },
   {
    "duration": 84,
    "start_time": "2024-05-20T23:17:21.183Z"
   },
   {
    "duration": 84,
    "start_time": "2024-05-20T23:17:33.640Z"
   },
   {
    "duration": 1327,
    "start_time": "2024-05-20T23:18:44.216Z"
   },
   {
    "duration": 189,
    "start_time": "2024-05-20T23:18:45.546Z"
   },
   {
    "duration": 137,
    "start_time": "2024-05-20T23:18:45.737Z"
   },
   {
    "duration": 19,
    "start_time": "2024-05-20T23:18:45.880Z"
   },
   {
    "duration": 41,
    "start_time": "2024-05-20T23:18:45.903Z"
   },
   {
    "duration": 303,
    "start_time": "2024-05-20T23:18:45.947Z"
   },
   {
    "duration": 189,
    "start_time": "2024-05-20T23:18:46.254Z"
   },
   {
    "duration": 194,
    "start_time": "2024-05-20T23:18:46.446Z"
   },
   {
    "duration": 37,
    "start_time": "2024-05-20T23:18:46.645Z"
   },
   {
    "duration": 8,
    "start_time": "2024-05-20T23:18:46.689Z"
   },
   {
    "duration": 18,
    "start_time": "2024-05-20T23:18:46.732Z"
   },
   {
    "duration": 8,
    "start_time": "2024-05-20T23:18:46.753Z"
   },
   {
    "duration": 1622,
    "start_time": "2024-05-20T23:18:46.764Z"
   },
   {
    "duration": 13,
    "start_time": "2024-05-20T23:18:48.404Z"
   },
   {
    "duration": 26,
    "start_time": "2024-05-20T23:18:48.420Z"
   },
   {
    "duration": 6,
    "start_time": "2024-05-20T23:18:48.448Z"
   },
   {
    "duration": 1481,
    "start_time": "2024-05-20T23:18:48.457Z"
   },
   {
    "duration": 11,
    "start_time": "2024-05-20T23:18:49.941Z"
   },
   {
    "duration": 4,
    "start_time": "2024-05-20T23:18:49.955Z"
   },
   {
    "duration": 27,
    "start_time": "2024-05-20T23:18:49.963Z"
   },
   {
    "duration": 46,
    "start_time": "2024-05-20T23:18:50.032Z"
   },
   {
    "duration": 88,
    "start_time": "2024-05-20T23:18:50.080Z"
   },
   {
    "duration": 18,
    "start_time": "2024-05-20T23:18:50.172Z"
   },
   {
    "duration": 12,
    "start_time": "2024-05-20T23:18:50.193Z"
   },
   {
    "duration": 79,
    "start_time": "2024-05-20T23:18:50.232Z"
   },
   {
    "duration": 48,
    "start_time": "2024-05-20T23:18:50.330Z"
   },
   {
    "duration": 66,
    "start_time": "2024-05-20T23:18:50.381Z"
   },
   {
    "duration": 5,
    "start_time": "2024-05-20T23:18:50.454Z"
   },
   {
    "duration": 11,
    "start_time": "2024-05-20T23:18:50.462Z"
   },
   {
    "duration": 112,
    "start_time": "2024-05-20T23:18:50.477Z"
   },
   {
    "duration": 52,
    "start_time": "2024-05-20T23:18:50.591Z"
   },
   {
    "duration": 86,
    "start_time": "2024-05-20T23:19:39.190Z"
   },
   {
    "duration": 83,
    "start_time": "2024-05-20T23:19:52.596Z"
   },
   {
    "duration": 143,
    "start_time": "2024-05-20T23:20:45.674Z"
   },
   {
    "duration": 42,
    "start_time": "2024-05-20T23:21:04.828Z"
   },
   {
    "duration": 47,
    "start_time": "2024-05-20T23:22:27.390Z"
   },
   {
    "duration": 53,
    "start_time": "2024-05-20T23:23:02.071Z"
   },
   {
    "duration": 6,
    "start_time": "2024-05-20T23:23:16.735Z"
   },
   {
    "duration": 46,
    "start_time": "2024-05-20T23:23:20.182Z"
   },
   {
    "duration": 261,
    "start_time": "2024-05-20T23:26:50.947Z"
   },
   {
    "duration": 47,
    "start_time": "2024-05-20T23:27:01.291Z"
   },
   {
    "duration": 80,
    "start_time": "2024-05-20T23:27:29.532Z"
   },
   {
    "duration": 48,
    "start_time": "2024-05-20T23:27:32.651Z"
   },
   {
    "duration": 80,
    "start_time": "2024-05-20T23:27:40.611Z"
   },
   {
    "duration": 49,
    "start_time": "2024-05-20T23:27:41.187Z"
   },
   {
    "duration": 1108,
    "start_time": "2024-05-20T23:28:49.077Z"
   },
   {
    "duration": 52,
    "start_time": "2024-05-20T23:29:11.182Z"
   },
   {
    "duration": 66,
    "start_time": "2024-05-21T00:41:32.616Z"
   },
   {
    "duration": 53,
    "start_time": "2024-05-21T00:41:39.046Z"
   },
   {
    "duration": 51,
    "start_time": "2024-05-21T00:41:55.703Z"
   },
   {
    "duration": 21,
    "start_time": "2024-05-21T00:43:41.112Z"
   },
   {
    "duration": 15,
    "start_time": "2024-05-21T00:44:29.673Z"
   },
   {
    "duration": 11,
    "start_time": "2024-05-21T00:46:41.419Z"
   },
   {
    "duration": 5,
    "start_time": "2024-05-21T00:48:53.829Z"
   },
   {
    "duration": 6,
    "start_time": "2024-05-21T01:01:24.860Z"
   },
   {
    "duration": 1401,
    "start_time": "2024-05-21T01:01:31.999Z"
   },
   {
    "duration": 194,
    "start_time": "2024-05-21T01:01:33.404Z"
   },
   {
    "duration": 129,
    "start_time": "2024-05-21T01:01:33.601Z"
   },
   {
    "duration": 17,
    "start_time": "2024-05-21T01:01:33.734Z"
   },
   {
    "duration": 19,
    "start_time": "2024-05-21T01:01:33.754Z"
   },
   {
    "duration": 366,
    "start_time": "2024-05-21T01:01:33.776Z"
   },
   {
    "duration": 163,
    "start_time": "2024-05-21T01:01:34.144Z"
   },
   {
    "duration": 177,
    "start_time": "2024-05-21T01:01:34.310Z"
   },
   {
    "duration": 52,
    "start_time": "2024-05-21T01:01:34.491Z"
   },
   {
    "duration": 8,
    "start_time": "2024-05-21T01:01:34.549Z"
   },
   {
    "duration": 17,
    "start_time": "2024-05-21T01:01:34.560Z"
   },
   {
    "duration": 7,
    "start_time": "2024-05-21T01:01:34.580Z"
   },
   {
    "duration": 1656,
    "start_time": "2024-05-21T01:01:34.591Z"
   },
   {
    "duration": 9,
    "start_time": "2024-05-21T01:01:36.250Z"
   },
   {
    "duration": 21,
    "start_time": "2024-05-21T01:01:36.262Z"
   },
   {
    "duration": 5,
    "start_time": "2024-05-21T01:01:36.286Z"
   },
   {
    "duration": 1498,
    "start_time": "2024-05-21T01:01:36.294Z"
   },
   {
    "duration": 11,
    "start_time": "2024-05-21T01:01:37.795Z"
   },
   {
    "duration": 23,
    "start_time": "2024-05-21T01:01:37.809Z"
   },
   {
    "duration": 27,
    "start_time": "2024-05-21T01:01:37.835Z"
   },
   {
    "duration": 74,
    "start_time": "2024-05-21T01:01:37.865Z"
   },
   {
    "duration": 70,
    "start_time": "2024-05-21T01:01:37.942Z"
   },
   {
    "duration": 18,
    "start_time": "2024-05-21T01:01:38.030Z"
   },
   {
    "duration": 14,
    "start_time": "2024-05-21T01:01:38.051Z"
   },
   {
    "duration": 112,
    "start_time": "2024-05-21T01:01:38.069Z"
   },
   {
    "duration": 66,
    "start_time": "2024-05-21T01:01:38.185Z"
   },
   {
    "duration": 52,
    "start_time": "2024-05-21T01:01:38.254Z"
   },
   {
    "duration": 6,
    "start_time": "2024-05-21T01:01:38.335Z"
   },
   {
    "duration": 11,
    "start_time": "2024-05-21T01:01:38.346Z"
   },
   {
    "duration": 119,
    "start_time": "2024-05-21T01:01:38.362Z"
   },
   {
    "duration": 71,
    "start_time": "2024-05-21T01:01:38.484Z"
   },
   {
    "duration": 19,
    "start_time": "2024-05-21T01:01:38.559Z"
   },
   {
    "duration": 6,
    "start_time": "2024-05-21T01:01:38.583Z"
   },
   {
    "duration": 5,
    "start_time": "2024-05-21T01:08:03.890Z"
   },
   {
    "duration": 442,
    "start_time": "2024-05-21T01:09:50.655Z"
   },
   {
    "duration": 4,
    "start_time": "2024-05-21T01:10:18.909Z"
   },
   {
    "duration": 70,
    "start_time": "2024-05-21T01:10:19.420Z"
   },
   {
    "duration": 6,
    "start_time": "2024-05-21T01:11:03.229Z"
   },
   {
    "duration": 52,
    "start_time": "2024-05-21T01:11:03.926Z"
   },
   {
    "duration": 5,
    "start_time": "2024-05-21T01:13:54.370Z"
   },
   {
    "duration": 860,
    "start_time": "2024-05-21T01:13:55.234Z"
   },
   {
    "duration": 5,
    "start_time": "2024-05-21T01:17:57.837Z"
   },
   {
    "duration": 51,
    "start_time": "2024-05-21T01:17:59.182Z"
   },
   {
    "duration": 5,
    "start_time": "2024-05-21T01:20:51.505Z"
   },
   {
    "duration": 367,
    "start_time": "2024-05-21T01:20:52.297Z"
   },
   {
    "duration": 6,
    "start_time": "2024-05-21T01:21:54.945Z"
   },
   {
    "duration": 139,
    "start_time": "2024-05-21T01:21:56.411Z"
   },
   {
    "duration": 5,
    "start_time": "2024-05-21T01:22:59.338Z"
   },
   {
    "duration": 134,
    "start_time": "2024-05-21T01:23:00.508Z"
   },
   {
    "duration": 5,
    "start_time": "2024-05-21T01:23:29.652Z"
   },
   {
    "duration": 44,
    "start_time": "2024-05-21T01:23:30.302Z"
   },
   {
    "duration": 6,
    "start_time": "2024-05-21T01:23:46.915Z"
   },
   {
    "duration": 36,
    "start_time": "2024-05-21T01:23:47.428Z"
   },
   {
    "duration": 5,
    "start_time": "2024-05-21T01:24:03.851Z"
   },
   {
    "duration": 30,
    "start_time": "2024-05-21T01:24:04.597Z"
   },
   {
    "duration": 17,
    "start_time": "2024-05-21T01:32:25.444Z"
   },
   {
    "duration": 3,
    "start_time": "2024-05-21T01:43:49.682Z"
   },
   {
    "duration": 16,
    "start_time": "2024-05-21T01:51:06.002Z"
   },
   {
    "duration": 13,
    "start_time": "2024-05-21T01:51:06.619Z"
   },
   {
    "duration": 36,
    "start_time": "2024-05-21T01:58:05.411Z"
   },
   {
    "duration": 26,
    "start_time": "2024-05-21T01:59:16.277Z"
   },
   {
    "duration": 4,
    "start_time": "2024-05-21T02:09:07.254Z"
   },
   {
    "duration": 4,
    "start_time": "2024-05-21T02:10:50.776Z"
   },
   {
    "duration": 4,
    "start_time": "2024-05-21T02:12:46.042Z"
   },
   {
    "duration": 4,
    "start_time": "2024-05-21T02:13:00.005Z"
   },
   {
    "duration": 4,
    "start_time": "2024-05-21T02:13:07.355Z"
   },
   {
    "duration": 6,
    "start_time": "2024-05-21T02:23:09.822Z"
   },
   {
    "duration": 12,
    "start_time": "2024-05-21T02:23:46.366Z"
   },
   {
    "duration": 13,
    "start_time": "2024-05-21T02:24:23.040Z"
   },
   {
    "duration": 13,
    "start_time": "2024-05-21T02:24:56.506Z"
   },
   {
    "duration": 15,
    "start_time": "2024-05-21T02:25:16.376Z"
   },
   {
    "duration": 1334,
    "start_time": "2024-05-21T02:30:11.734Z"
   },
   {
    "duration": 194,
    "start_time": "2024-05-21T02:30:13.071Z"
   },
   {
    "duration": 127,
    "start_time": "2024-05-21T02:30:13.269Z"
   },
   {
    "duration": 33,
    "start_time": "2024-05-21T02:30:13.401Z"
   },
   {
    "duration": 20,
    "start_time": "2024-05-21T02:30:13.436Z"
   },
   {
    "duration": 324,
    "start_time": "2024-05-21T02:30:13.459Z"
   },
   {
    "duration": 163,
    "start_time": "2024-05-21T02:30:13.786Z"
   },
   {
    "duration": 166,
    "start_time": "2024-05-21T02:30:13.952Z"
   },
   {
    "duration": 40,
    "start_time": "2024-05-21T02:30:14.121Z"
   },
   {
    "duration": 9,
    "start_time": "2024-05-21T02:30:14.168Z"
   },
   {
    "duration": 17,
    "start_time": "2024-05-21T02:30:14.179Z"
   },
   {
    "duration": 7,
    "start_time": "2024-05-21T02:30:14.231Z"
   },
   {
    "duration": 1601,
    "start_time": "2024-05-21T02:30:14.242Z"
   },
   {
    "duration": 10,
    "start_time": "2024-05-21T02:30:15.845Z"
   },
   {
    "duration": 22,
    "start_time": "2024-05-21T02:30:15.858Z"
   },
   {
    "duration": 5,
    "start_time": "2024-05-21T02:30:15.883Z"
   },
   {
    "duration": 1563,
    "start_time": "2024-05-21T02:30:15.892Z"
   },
   {
    "duration": 10,
    "start_time": "2024-05-21T02:30:17.458Z"
   },
   {
    "duration": 5,
    "start_time": "2024-05-21T02:30:17.471Z"
   },
   {
    "duration": 64,
    "start_time": "2024-05-21T02:30:17.479Z"
   },
   {
    "duration": 45,
    "start_time": "2024-05-21T02:30:17.546Z"
   },
   {
    "duration": 89,
    "start_time": "2024-05-21T02:30:17.594Z"
   },
   {
    "duration": 17,
    "start_time": "2024-05-21T02:30:17.685Z"
   },
   {
    "duration": 33,
    "start_time": "2024-05-21T02:30:17.706Z"
   },
   {
    "duration": 91,
    "start_time": "2024-05-21T02:30:17.742Z"
   },
   {
    "duration": 46,
    "start_time": "2024-05-21T02:30:17.838Z"
   },
   {
    "duration": 69,
    "start_time": "2024-05-21T02:30:17.887Z"
   },
   {
    "duration": 5,
    "start_time": "2024-05-21T02:30:17.965Z"
   },
   {
    "duration": 9,
    "start_time": "2024-05-21T02:30:17.973Z"
   },
   {
    "duration": 111,
    "start_time": "2024-05-21T02:30:17.985Z"
   },
   {
    "duration": 62,
    "start_time": "2024-05-21T02:30:18.099Z"
   },
   {
    "duration": 16,
    "start_time": "2024-05-21T02:30:18.164Z"
   },
   {
    "duration": 6,
    "start_time": "2024-05-21T02:30:18.182Z"
   },
   {
    "duration": 53,
    "start_time": "2024-05-21T02:30:18.193Z"
   },
   {
    "duration": 15,
    "start_time": "2024-05-21T02:30:18.248Z"
   },
   {
    "duration": 15,
    "start_time": "2024-05-21T02:30:18.266Z"
   },
   {
    "duration": 67,
    "start_time": "2024-05-21T02:30:18.284Z"
   },
   {
    "duration": 28,
    "start_time": "2024-05-21T02:30:18.354Z"
   },
   {
    "duration": 5,
    "start_time": "2024-05-21T02:30:18.386Z"
   },
   {
    "duration": 36,
    "start_time": "2024-05-21T02:30:18.394Z"
   },
   {
    "duration": 4,
    "start_time": "2024-05-21T02:30:18.434Z"
   },
   {
    "duration": 5,
    "start_time": "2024-05-21T02:30:18.441Z"
   },
   {
    "duration": 13,
    "start_time": "2024-05-21T02:30:18.449Z"
   },
   {
    "duration": 14,
    "start_time": "2024-05-21T02:30:18.465Z"
   },
   {
    "duration": 58,
    "start_time": "2024-05-21T02:30:18.482Z"
   }
  ],
  "kernelspec": {
   "display_name": "Python 3 (ipykernel)",
   "language": "python",
   "name": "python3"
  },
  "language_info": {
   "codemirror_mode": {
    "name": "ipython",
    "version": 3
   },
   "file_extension": ".py",
   "mimetype": "text/x-python",
   "name": "python",
   "nbconvert_exporter": "python",
   "pygments_lexer": "ipython3",
   "version": "3.12.1"
  },
  "toc": {
   "base_numbering": 1,
   "nav_menu": {},
   "number_sections": true,
   "sideBar": true,
   "skip_h1_title": true,
   "title_cell": "Table of Contents",
   "title_sidebar": "Contents",
   "toc_cell": false,
   "toc_position": {},
   "toc_section_display": true,
   "toc_window_display": false
  }
 },
 "nbformat": 4,
 "nbformat_minor": 4
}
