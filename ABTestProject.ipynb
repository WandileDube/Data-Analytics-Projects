{
 "cells": [
  {
   "cell_type": "markdown",
   "metadata": {},
   "source": [
    "# Evaluating the Impact of a New Recommendation System on User Conversion Rates\n",
    "\n",
    "We will analyze the results of an A/B test conducted by an international online store to evaluate the impact of a new recommendation system on user conversion rates. The A/B test compares the existing payment funnel (control group A) with a new payment funnel integrated with the improved recommendation system (test group B)."
   ]
  },
  {
   "cell_type": "markdown",
   "metadata": {},
   "source": [
    "# Table of Contents\n",
    "\n",
    "- [Description of the data](#description) <br>\n",
    "- [Data Preprocessing](#preprocessing) <br>\n",
    "    - [Analysing Datasets](#analysis) <br>\n",
    "    - [Fixing Datasets](#fixing) <br>\n",
    "    - [Merging Tables](#merging) <br> \n",
    "- [Exploratory Data Analysis (EDA)](#EDA) <br>\n",
    "- [Event Funnel Study](#funnel) <br>\n",
    "- [Pre-Test Evaluation](#Evaluation) <br>\n",
    "- [A/B Test Analysis](#AB) <br>\n",
    "- [Conclusions and Recommendations](#conrec)"
   ]
  },
  {
   "cell_type": "markdown",
   "metadata": {},
   "source": [
    "## Description of the Data \n",
    "<div id='description' ></div>"
   ]
  },
  {
   "cell_type": "markdown",
   "metadata": {},
   "source": [
    "The analysis utilizes the following datasets:\n",
    "\n",
    "ab_project_marketing_events_us.csv: Calendar of marketing events for 2020<br>\n",
    "Columns: \n",
    "- name — the name of the marketing event \n",
    "- regions — regions where the ad campaign will be held\n",
    "- start_dt — campaign start date\n",
    "- finish_dt — campaign end date\n",
    "\n",
    "final_ab_new_users_upd_us.csv: New users who signed up between December 7 and 21, 2020<br>\n",
    "Columns: \n",
    "- user_id\n",
    "- first_date — sign-up date\n",
    "- region\n",
    "- device — device used to sign up\n",
    "\n",
    "final_ab_events_upd_us.csv: Events of new users from December 7, 2020, to January 1, 2021<br>\n",
    "Columns: \n",
    "- user_id\n",
    "- event_dt — event date and time\n",
    "- event_name — event type name\n",
    "- details — additional data on the event (for instance, the order total in USD for purchase events)\n",
    "\n",
    "final_ab_participants_upd_us.csv: Details of test participants<br>\n",
    "Columns: \n",
    "- user_id\n",
    "- ab_test — test name\n",
    "- group — the test group the user belonged to"
   ]
  },
  {
   "cell_type": "code",
   "execution_count": 1,
   "metadata": {},
   "outputs": [],
   "source": [
    "#importing libraries  \n",
    "import pandas as pd\n",
    "import numpy as np\n",
    "from scipy import stats as st\n",
    "from scipy.stats import chi2_contingency\n",
    "from scipy.stats import norm\n",
    "import matplotlib.pyplot as plt\n",
    "import seaborn as sns\n",
    "import math\n",
    "import datetime as dt\n",
    "from scipy.stats import ttest_ind"
   ]
  },
  {
   "cell_type": "code",
   "execution_count": 2,
   "metadata": {},
   "outputs": [],
   "source": [
    "#importing data\n",
    "try:\n",
    "    events = pd.read_csv('C:/Users/Wandile/Documents/PracticumProjects/ABTestProject/ab_project_marketing_events_us.csv')\n",
    "    new_users = pd.read_csv('C:/Users/Wandile/Documents/PracticumProjects/ABTestProject/final_ab_new_users_upd_us.csv')\n",
    "    events_new_users = pd.read_csv('C:/Users/Wandile/Documents/PracticumProjects/ABTestProject/final_ab_events_upd_us.csv')\n",
    "    participants = pd.read_csv('C:/Users/Wandile/Documents/PracticumProjects/ABTestProject/final_ab_participants_upd_us.csv')\n",
    "except:\n",
    "    events = pd.read_csv('/datasets/ab_project_marketing_events_us.csv')\n",
    "    new_users = pd.read_csv('/datasets/final_ab_new_users_upd_us.csv')\n",
    "    events_new_users = pd.read_csv('/datasets/final_ab_events_upd_us.csv')\n",
    "    participants = pd.read_csv('/datasets/final_ab_participants_upd_us.csv')"
   ]
  },
  {
   "cell_type": "markdown",
   "metadata": {},
   "source": [
    "## Data Preprocessing \n",
    "<div id='preprocessing'></div>"
   ]
  },
  {
   "cell_type": "markdown",
   "metadata": {},
   "source": [
    "### Analysing Datasets\n",
    "<div id='analysis'></div>"
   ]
  },
  {
   "cell_type": "code",
   "execution_count": 3,
   "metadata": {},
   "outputs": [
    {
     "name": "stdout",
     "output_type": "stream",
     "text": [
      "<class 'pandas.core.frame.DataFrame'>\n",
      "RangeIndex: 14 entries, 0 to 13\n",
      "Data columns (total 4 columns):\n",
      " #   Column     Non-Null Count  Dtype \n",
      "---  ------     --------------  ----- \n",
      " 0   name       14 non-null     object\n",
      " 1   regions    14 non-null     object\n",
      " 2   start_dt   14 non-null     object\n",
      " 3   finish_dt  14 non-null     object\n",
      "dtypes: object(4)\n",
      "memory usage: 576.0+ bytes\n",
      "Missing values in events table: name         0\n",
      "regions      0\n",
      "start_dt     0\n",
      "finish_dt    0\n",
      "dtype: int64\n",
      "Duplicated values in events table: 0\n"
     ]
    },
    {
     "data": {
      "text/html": [
       "<div>\n",
       "<style scoped>\n",
       "    .dataframe tbody tr th:only-of-type {\n",
       "        vertical-align: middle;\n",
       "    }\n",
       "\n",
       "    .dataframe tbody tr th {\n",
       "        vertical-align: top;\n",
       "    }\n",
       "\n",
       "    .dataframe thead th {\n",
       "        text-align: right;\n",
       "    }\n",
       "</style>\n",
       "<table border=\"1\" class=\"dataframe\">\n",
       "  <thead>\n",
       "    <tr style=\"text-align: right;\">\n",
       "      <th></th>\n",
       "      <th>name</th>\n",
       "      <th>regions</th>\n",
       "      <th>start_dt</th>\n",
       "      <th>finish_dt</th>\n",
       "    </tr>\n",
       "  </thead>\n",
       "  <tbody>\n",
       "    <tr>\n",
       "      <th>0</th>\n",
       "      <td>Christmas&amp;New Year Promo</td>\n",
       "      <td>EU, N.America</td>\n",
       "      <td>2020-12-25</td>\n",
       "      <td>2021-01-03</td>\n",
       "    </tr>\n",
       "    <tr>\n",
       "      <th>1</th>\n",
       "      <td>St. Valentine's Day Giveaway</td>\n",
       "      <td>EU, CIS, APAC, N.America</td>\n",
       "      <td>2020-02-14</td>\n",
       "      <td>2020-02-16</td>\n",
       "    </tr>\n",
       "    <tr>\n",
       "      <th>2</th>\n",
       "      <td>St. Patric's Day Promo</td>\n",
       "      <td>EU, N.America</td>\n",
       "      <td>2020-03-17</td>\n",
       "      <td>2020-03-19</td>\n",
       "    </tr>\n",
       "    <tr>\n",
       "      <th>3</th>\n",
       "      <td>Easter Promo</td>\n",
       "      <td>EU, CIS, APAC, N.America</td>\n",
       "      <td>2020-04-12</td>\n",
       "      <td>2020-04-19</td>\n",
       "    </tr>\n",
       "    <tr>\n",
       "      <th>4</th>\n",
       "      <td>4th of July Promo</td>\n",
       "      <td>N.America</td>\n",
       "      <td>2020-07-04</td>\n",
       "      <td>2020-07-11</td>\n",
       "    </tr>\n",
       "  </tbody>\n",
       "</table>\n",
       "</div>"
      ],
      "text/plain": [
       "                           name                   regions    start_dt  \\\n",
       "0      Christmas&New Year Promo             EU, N.America  2020-12-25   \n",
       "1  St. Valentine's Day Giveaway  EU, CIS, APAC, N.America  2020-02-14   \n",
       "2        St. Patric's Day Promo             EU, N.America  2020-03-17   \n",
       "3                  Easter Promo  EU, CIS, APAC, N.America  2020-04-12   \n",
       "4             4th of July Promo                 N.America  2020-07-04   \n",
       "\n",
       "    finish_dt  \n",
       "0  2021-01-03  \n",
       "1  2020-02-16  \n",
       "2  2020-03-19  \n",
       "3  2020-04-19  \n",
       "4  2020-07-11  "
      ]
     },
     "execution_count": 3,
     "metadata": {},
     "output_type": "execute_result"
    }
   ],
   "source": [
    "#inspecting events table \n",
    "events.info()\n",
    "print(f'Missing values in events table: {events.isna().sum()}')\n",
    "print(f'Duplicated values in events table: {events.duplicated().sum()}')\n",
    "events.head()"
   ]
  },
  {
   "cell_type": "markdown",
   "metadata": {},
   "source": [
    "Comment: The start_dt and finish_dt column should be changed from string type to datetime data type. There are no missing or duplicated values in events table."
   ]
  },
  {
   "cell_type": "code",
   "execution_count": 4,
   "metadata": {},
   "outputs": [
    {
     "name": "stdout",
     "output_type": "stream",
     "text": [
      "<class 'pandas.core.frame.DataFrame'>\n",
      "RangeIndex: 58703 entries, 0 to 58702\n",
      "Data columns (total 4 columns):\n",
      " #   Column      Non-Null Count  Dtype \n",
      "---  ------      --------------  ----- \n",
      " 0   user_id     58703 non-null  object\n",
      " 1   first_date  58703 non-null  object\n",
      " 2   region      58703 non-null  object\n",
      " 3   device      58703 non-null  object\n",
      "dtypes: object(4)\n",
      "memory usage: 1.8+ MB\n",
      "Missing values in events table: user_id       0\n",
      "first_date    0\n",
      "region        0\n",
      "device        0\n",
      "dtype: int64\n",
      "Duplicated values in events table: 0\n"
     ]
    },
    {
     "data": {
      "text/html": [
       "<div>\n",
       "<style scoped>\n",
       "    .dataframe tbody tr th:only-of-type {\n",
       "        vertical-align: middle;\n",
       "    }\n",
       "\n",
       "    .dataframe tbody tr th {\n",
       "        vertical-align: top;\n",
       "    }\n",
       "\n",
       "    .dataframe thead th {\n",
       "        text-align: right;\n",
       "    }\n",
       "</style>\n",
       "<table border=\"1\" class=\"dataframe\">\n",
       "  <thead>\n",
       "    <tr style=\"text-align: right;\">\n",
       "      <th></th>\n",
       "      <th>user_id</th>\n",
       "      <th>first_date</th>\n",
       "      <th>region</th>\n",
       "      <th>device</th>\n",
       "    </tr>\n",
       "  </thead>\n",
       "  <tbody>\n",
       "    <tr>\n",
       "      <th>0</th>\n",
       "      <td>D72A72121175D8BE</td>\n",
       "      <td>2020-12-07</td>\n",
       "      <td>EU</td>\n",
       "      <td>PC</td>\n",
       "    </tr>\n",
       "    <tr>\n",
       "      <th>1</th>\n",
       "      <td>F1C668619DFE6E65</td>\n",
       "      <td>2020-12-07</td>\n",
       "      <td>N.America</td>\n",
       "      <td>Android</td>\n",
       "    </tr>\n",
       "    <tr>\n",
       "      <th>2</th>\n",
       "      <td>2E1BF1D4C37EA01F</td>\n",
       "      <td>2020-12-07</td>\n",
       "      <td>EU</td>\n",
       "      <td>PC</td>\n",
       "    </tr>\n",
       "    <tr>\n",
       "      <th>3</th>\n",
       "      <td>50734A22C0C63768</td>\n",
       "      <td>2020-12-07</td>\n",
       "      <td>EU</td>\n",
       "      <td>iPhone</td>\n",
       "    </tr>\n",
       "    <tr>\n",
       "      <th>4</th>\n",
       "      <td>E1BDDCE0DAFA2679</td>\n",
       "      <td>2020-12-07</td>\n",
       "      <td>N.America</td>\n",
       "      <td>iPhone</td>\n",
       "    </tr>\n",
       "  </tbody>\n",
       "</table>\n",
       "</div>"
      ],
      "text/plain": [
       "            user_id  first_date     region   device\n",
       "0  D72A72121175D8BE  2020-12-07         EU       PC\n",
       "1  F1C668619DFE6E65  2020-12-07  N.America  Android\n",
       "2  2E1BF1D4C37EA01F  2020-12-07         EU       PC\n",
       "3  50734A22C0C63768  2020-12-07         EU   iPhone\n",
       "4  E1BDDCE0DAFA2679  2020-12-07  N.America   iPhone"
      ]
     },
     "execution_count": 4,
     "metadata": {},
     "output_type": "execute_result"
    }
   ],
   "source": [
    "#inspecting new_users table\n",
    "new_users.info()\n",
    "print(f'Missing values in events table: {new_users.isna().sum()}')\n",
    "print(f'Duplicated values in events table: {new_users.duplicated().sum()}')\n",
    "new_users.head()"
   ]
  },
  {
   "cell_type": "markdown",
   "metadata": {},
   "source": [
    "Comment: The first_date column should be changed from string type to datetime data type. There are no missing or duplicated values in new users table."
   ]
  },
  {
   "cell_type": "code",
   "execution_count": 5,
   "metadata": {},
   "outputs": [
    {
     "name": "stdout",
     "output_type": "stream",
     "text": [
      "<class 'pandas.core.frame.DataFrame'>\n",
      "RangeIndex: 423761 entries, 0 to 423760\n",
      "Data columns (total 4 columns):\n",
      " #   Column      Non-Null Count   Dtype  \n",
      "---  ------      --------------   -----  \n",
      " 0   user_id     423761 non-null  object \n",
      " 1   event_dt    423761 non-null  object \n",
      " 2   event_name  423761 non-null  object \n",
      " 3   details     60314 non-null   float64\n",
      "dtypes: float64(1), object(3)\n",
      "memory usage: 12.9+ MB\n",
      "Missing values in events table: user_id            0\n",
      "event_dt           0\n",
      "event_name         0\n",
      "details       363447\n",
      "dtype: int64\n",
      "Duplicated values in events table: 0\n"
     ]
    },
    {
     "data": {
      "text/html": [
       "<div>\n",
       "<style scoped>\n",
       "    .dataframe tbody tr th:only-of-type {\n",
       "        vertical-align: middle;\n",
       "    }\n",
       "\n",
       "    .dataframe tbody tr th {\n",
       "        vertical-align: top;\n",
       "    }\n",
       "\n",
       "    .dataframe thead th {\n",
       "        text-align: right;\n",
       "    }\n",
       "</style>\n",
       "<table border=\"1\" class=\"dataframe\">\n",
       "  <thead>\n",
       "    <tr style=\"text-align: right;\">\n",
       "      <th></th>\n",
       "      <th>user_id</th>\n",
       "      <th>event_dt</th>\n",
       "      <th>event_name</th>\n",
       "      <th>details</th>\n",
       "    </tr>\n",
       "  </thead>\n",
       "  <tbody>\n",
       "    <tr>\n",
       "      <th>0</th>\n",
       "      <td>E1BDDCE0DAFA2679</td>\n",
       "      <td>2020-12-07 20:22:03</td>\n",
       "      <td>purchase</td>\n",
       "      <td>99.99</td>\n",
       "    </tr>\n",
       "    <tr>\n",
       "      <th>1</th>\n",
       "      <td>7B6452F081F49504</td>\n",
       "      <td>2020-12-07 09:22:53</td>\n",
       "      <td>purchase</td>\n",
       "      <td>9.99</td>\n",
       "    </tr>\n",
       "    <tr>\n",
       "      <th>2</th>\n",
       "      <td>9CD9F34546DF254C</td>\n",
       "      <td>2020-12-07 12:59:29</td>\n",
       "      <td>purchase</td>\n",
       "      <td>4.99</td>\n",
       "    </tr>\n",
       "    <tr>\n",
       "      <th>3</th>\n",
       "      <td>96F27A054B191457</td>\n",
       "      <td>2020-12-07 04:02:40</td>\n",
       "      <td>purchase</td>\n",
       "      <td>4.99</td>\n",
       "    </tr>\n",
       "    <tr>\n",
       "      <th>4</th>\n",
       "      <td>1FD7660FDF94CA1F</td>\n",
       "      <td>2020-12-07 10:15:09</td>\n",
       "      <td>purchase</td>\n",
       "      <td>4.99</td>\n",
       "    </tr>\n",
       "  </tbody>\n",
       "</table>\n",
       "</div>"
      ],
      "text/plain": [
       "            user_id             event_dt event_name  details\n",
       "0  E1BDDCE0DAFA2679  2020-12-07 20:22:03   purchase    99.99\n",
       "1  7B6452F081F49504  2020-12-07 09:22:53   purchase     9.99\n",
       "2  9CD9F34546DF254C  2020-12-07 12:59:29   purchase     4.99\n",
       "3  96F27A054B191457  2020-12-07 04:02:40   purchase     4.99\n",
       "4  1FD7660FDF94CA1F  2020-12-07 10:15:09   purchase     4.99"
      ]
     },
     "execution_count": 5,
     "metadata": {},
     "output_type": "execute_result"
    }
   ],
   "source": [
    "#inspecting events new users table\n",
    "events_new_users.info()\n",
    "print(f'Missing values in events table: {events_new_users.isna().sum()}')\n",
    "print(f'Duplicated values in events table: {events_new_users.duplicated().sum()}')\n",
    "events_new_users.head()"
   ]
  },
  {
   "cell_type": "markdown",
   "metadata": {},
   "source": [
    "Comment: The event_dt column should be changed from string type to datetime data type. There are no duplicated values in the events new users table. There are missing values in the details column"
   ]
  },
  {
   "cell_type": "code",
   "execution_count": 6,
   "metadata": {},
   "outputs": [
    {
     "name": "stdout",
     "output_type": "stream",
     "text": [
      "<class 'pandas.core.frame.DataFrame'>\n",
      "RangeIndex: 14525 entries, 0 to 14524\n",
      "Data columns (total 3 columns):\n",
      " #   Column   Non-Null Count  Dtype \n",
      "---  ------   --------------  ----- \n",
      " 0   user_id  14525 non-null  object\n",
      " 1   group    14525 non-null  object\n",
      " 2   ab_test  14525 non-null  object\n",
      "dtypes: object(3)\n",
      "memory usage: 340.6+ KB\n",
      "Missing values in events table: user_id    0\n",
      "group      0\n",
      "ab_test    0\n",
      "dtype: int64\n",
      "Duplicated values in events table: 0\n"
     ]
    },
    {
     "data": {
      "text/html": [
       "<div>\n",
       "<style scoped>\n",
       "    .dataframe tbody tr th:only-of-type {\n",
       "        vertical-align: middle;\n",
       "    }\n",
       "\n",
       "    .dataframe tbody tr th {\n",
       "        vertical-align: top;\n",
       "    }\n",
       "\n",
       "    .dataframe thead th {\n",
       "        text-align: right;\n",
       "    }\n",
       "</style>\n",
       "<table border=\"1\" class=\"dataframe\">\n",
       "  <thead>\n",
       "    <tr style=\"text-align: right;\">\n",
       "      <th></th>\n",
       "      <th>user_id</th>\n",
       "      <th>group</th>\n",
       "      <th>ab_test</th>\n",
       "    </tr>\n",
       "  </thead>\n",
       "  <tbody>\n",
       "    <tr>\n",
       "      <th>0</th>\n",
       "      <td>D1ABA3E2887B6A73</td>\n",
       "      <td>A</td>\n",
       "      <td>recommender_system_test</td>\n",
       "    </tr>\n",
       "    <tr>\n",
       "      <th>1</th>\n",
       "      <td>A7A3664BD6242119</td>\n",
       "      <td>A</td>\n",
       "      <td>recommender_system_test</td>\n",
       "    </tr>\n",
       "    <tr>\n",
       "      <th>2</th>\n",
       "      <td>DABC14FDDFADD29E</td>\n",
       "      <td>A</td>\n",
       "      <td>recommender_system_test</td>\n",
       "    </tr>\n",
       "    <tr>\n",
       "      <th>3</th>\n",
       "      <td>04988C5DF189632E</td>\n",
       "      <td>A</td>\n",
       "      <td>recommender_system_test</td>\n",
       "    </tr>\n",
       "    <tr>\n",
       "      <th>4</th>\n",
       "      <td>4FF2998A348C484F</td>\n",
       "      <td>A</td>\n",
       "      <td>recommender_system_test</td>\n",
       "    </tr>\n",
       "  </tbody>\n",
       "</table>\n",
       "</div>"
      ],
      "text/plain": [
       "            user_id group                  ab_test\n",
       "0  D1ABA3E2887B6A73     A  recommender_system_test\n",
       "1  A7A3664BD6242119     A  recommender_system_test\n",
       "2  DABC14FDDFADD29E     A  recommender_system_test\n",
       "3  04988C5DF189632E     A  recommender_system_test\n",
       "4  4FF2998A348C484F     A  recommender_system_test"
      ]
     },
     "execution_count": 6,
     "metadata": {},
     "output_type": "execute_result"
    }
   ],
   "source": [
    "# inspecting participants table\n",
    "participants.info()\n",
    "print(f'Missing values in events table: {participants.isna().sum()}')\n",
    "print(f'Duplicated values in events table: {participants.duplicated().sum()}')\n",
    "participants.head()"
   ]
  },
  {
   "cell_type": "code",
   "execution_count": 7,
   "metadata": {},
   "outputs": [],
   "source": [
    "#seperating groups\n",
    "group_A = participants[participants['group']=='A']\n",
    "group_B = participants[participants['group']=='B']"
   ]
  },
  {
   "cell_type": "code",
   "execution_count": 8,
   "metadata": {},
   "outputs": [
    {
     "data": {
      "text/html": [
       "<div>\n",
       "<style scoped>\n",
       "    .dataframe tbody tr th:only-of-type {\n",
       "        vertical-align: middle;\n",
       "    }\n",
       "\n",
       "    .dataframe tbody tr th {\n",
       "        vertical-align: top;\n",
       "    }\n",
       "\n",
       "    .dataframe thead th {\n",
       "        text-align: right;\n",
       "    }\n",
       "</style>\n",
       "<table border=\"1\" class=\"dataframe\">\n",
       "  <thead>\n",
       "    <tr style=\"text-align: right;\">\n",
       "      <th></th>\n",
       "      <th>user_id</th>\n",
       "      <th>group_x</th>\n",
       "      <th>ab_test_x</th>\n",
       "      <th>group_y</th>\n",
       "      <th>ab_test_y</th>\n",
       "    </tr>\n",
       "  </thead>\n",
       "  <tbody>\n",
       "    <tr>\n",
       "      <th>0</th>\n",
       "      <td>FC3F3E4DA7C85F88</td>\n",
       "      <td>A</td>\n",
       "      <td>recommender_system_test</td>\n",
       "      <td>B</td>\n",
       "      <td>interface_eu_test</td>\n",
       "    </tr>\n",
       "    <tr>\n",
       "      <th>1</th>\n",
       "      <td>FE2AF0E94DBD470E</td>\n",
       "      <td>A</td>\n",
       "      <td>recommender_system_test</td>\n",
       "      <td>B</td>\n",
       "      <td>interface_eu_test</td>\n",
       "    </tr>\n",
       "    <tr>\n",
       "      <th>2</th>\n",
       "      <td>C5AD06762E628169</td>\n",
       "      <td>A</td>\n",
       "      <td>recommender_system_test</td>\n",
       "      <td>B</td>\n",
       "      <td>interface_eu_test</td>\n",
       "    </tr>\n",
       "    <tr>\n",
       "      <th>3</th>\n",
       "      <td>25CE0629AC6B6971</td>\n",
       "      <td>A</td>\n",
       "      <td>recommender_system_test</td>\n",
       "      <td>B</td>\n",
       "      <td>interface_eu_test</td>\n",
       "    </tr>\n",
       "    <tr>\n",
       "      <th>4</th>\n",
       "      <td>44EB15AD423DC31C</td>\n",
       "      <td>A</td>\n",
       "      <td>recommender_system_test</td>\n",
       "      <td>B</td>\n",
       "      <td>interface_eu_test</td>\n",
       "    </tr>\n",
       "    <tr>\n",
       "      <th>...</th>\n",
       "      <td>...</td>\n",
       "      <td>...</td>\n",
       "      <td>...</td>\n",
       "      <td>...</td>\n",
       "      <td>...</td>\n",
       "    </tr>\n",
       "    <tr>\n",
       "      <th>436</th>\n",
       "      <td>EF449601C94D2496</td>\n",
       "      <td>A</td>\n",
       "      <td>interface_eu_test</td>\n",
       "      <td>B</td>\n",
       "      <td>recommender_system_test</td>\n",
       "    </tr>\n",
       "    <tr>\n",
       "      <th>437</th>\n",
       "      <td>59D9BD2A3172D3F4</td>\n",
       "      <td>A</td>\n",
       "      <td>interface_eu_test</td>\n",
       "      <td>B</td>\n",
       "      <td>recommender_system_test</td>\n",
       "    </tr>\n",
       "    <tr>\n",
       "      <th>438</th>\n",
       "      <td>13FBEB715F4AAE10</td>\n",
       "      <td>A</td>\n",
       "      <td>interface_eu_test</td>\n",
       "      <td>B</td>\n",
       "      <td>recommender_system_test</td>\n",
       "    </tr>\n",
       "    <tr>\n",
       "      <th>439</th>\n",
       "      <td>3DEA2F9B3EDA8B91</td>\n",
       "      <td>A</td>\n",
       "      <td>interface_eu_test</td>\n",
       "      <td>B</td>\n",
       "      <td>recommender_system_test</td>\n",
       "    </tr>\n",
       "    <tr>\n",
       "      <th>440</th>\n",
       "      <td>CA6F4DAED160E5B1</td>\n",
       "      <td>A</td>\n",
       "      <td>interface_eu_test</td>\n",
       "      <td>B</td>\n",
       "      <td>recommender_system_test</td>\n",
       "    </tr>\n",
       "  </tbody>\n",
       "</table>\n",
       "<p>441 rows × 5 columns</p>\n",
       "</div>"
      ],
      "text/plain": [
       "              user_id group_x                ab_test_x group_y  \\\n",
       "0    FC3F3E4DA7C85F88       A  recommender_system_test       B   \n",
       "1    FE2AF0E94DBD470E       A  recommender_system_test       B   \n",
       "2    C5AD06762E628169       A  recommender_system_test       B   \n",
       "3    25CE0629AC6B6971       A  recommender_system_test       B   \n",
       "4    44EB15AD423DC31C       A  recommender_system_test       B   \n",
       "..                ...     ...                      ...     ...   \n",
       "436  EF449601C94D2496       A        interface_eu_test       B   \n",
       "437  59D9BD2A3172D3F4       A        interface_eu_test       B   \n",
       "438  13FBEB715F4AAE10       A        interface_eu_test       B   \n",
       "439  3DEA2F9B3EDA8B91       A        interface_eu_test       B   \n",
       "440  CA6F4DAED160E5B1       A        interface_eu_test       B   \n",
       "\n",
       "                   ab_test_y  \n",
       "0          interface_eu_test  \n",
       "1          interface_eu_test  \n",
       "2          interface_eu_test  \n",
       "3          interface_eu_test  \n",
       "4          interface_eu_test  \n",
       "..                       ...  \n",
       "436  recommender_system_test  \n",
       "437  recommender_system_test  \n",
       "438  recommender_system_test  \n",
       "439  recommender_system_test  \n",
       "440  recommender_system_test  \n",
       "\n",
       "[441 rows x 5 columns]"
      ]
     },
     "execution_count": 8,
     "metadata": {},
     "output_type": "execute_result"
    }
   ],
   "source": [
    "#joining group A and B data on user_id\n",
    "pd.merge(group_A,group_B, on='user_id')"
   ]
  },
  {
   "cell_type": "code",
   "execution_count": 9,
   "metadata": {},
   "outputs": [
    {
     "data": {
      "text/html": [
       "<div>\n",
       "<style scoped>\n",
       "    .dataframe tbody tr th:only-of-type {\n",
       "        vertical-align: middle;\n",
       "    }\n",
       "\n",
       "    .dataframe tbody tr th {\n",
       "        vertical-align: top;\n",
       "    }\n",
       "\n",
       "    .dataframe thead th {\n",
       "        text-align: right;\n",
       "    }\n",
       "</style>\n",
       "<table border=\"1\" class=\"dataframe\">\n",
       "  <thead>\n",
       "    <tr style=\"text-align: right;\">\n",
       "      <th></th>\n",
       "      <th>user_id</th>\n",
       "      <th>group</th>\n",
       "      <th>ab_test</th>\n",
       "    </tr>\n",
       "  </thead>\n",
       "  <tbody>\n",
       "    <tr>\n",
       "      <th>0</th>\n",
       "      <td>D1ABA3E2887B6A73</td>\n",
       "      <td>A</td>\n",
       "      <td>recommender_system_test</td>\n",
       "    </tr>\n",
       "    <tr>\n",
       "      <th>1</th>\n",
       "      <td>A7A3664BD6242119</td>\n",
       "      <td>A</td>\n",
       "      <td>recommender_system_test</td>\n",
       "    </tr>\n",
       "    <tr>\n",
       "      <th>2</th>\n",
       "      <td>DABC14FDDFADD29E</td>\n",
       "      <td>A</td>\n",
       "      <td>recommender_system_test</td>\n",
       "    </tr>\n",
       "    <tr>\n",
       "      <th>3</th>\n",
       "      <td>04988C5DF189632E</td>\n",
       "      <td>A</td>\n",
       "      <td>recommender_system_test</td>\n",
       "    </tr>\n",
       "    <tr>\n",
       "      <th>4</th>\n",
       "      <td>4FF2998A348C484F</td>\n",
       "      <td>A</td>\n",
       "      <td>recommender_system_test</td>\n",
       "    </tr>\n",
       "    <tr>\n",
       "      <th>...</th>\n",
       "      <td>...</td>\n",
       "      <td>...</td>\n",
       "      <td>...</td>\n",
       "    </tr>\n",
       "    <tr>\n",
       "      <th>14520</th>\n",
       "      <td>1D302F8688B91781</td>\n",
       "      <td>B</td>\n",
       "      <td>interface_eu_test</td>\n",
       "    </tr>\n",
       "    <tr>\n",
       "      <th>14521</th>\n",
       "      <td>3DE51B726983B657</td>\n",
       "      <td>A</td>\n",
       "      <td>interface_eu_test</td>\n",
       "    </tr>\n",
       "    <tr>\n",
       "      <th>14522</th>\n",
       "      <td>F501F79D332BE86C</td>\n",
       "      <td>A</td>\n",
       "      <td>interface_eu_test</td>\n",
       "    </tr>\n",
       "    <tr>\n",
       "      <th>14523</th>\n",
       "      <td>63FBE257B05F2245</td>\n",
       "      <td>A</td>\n",
       "      <td>interface_eu_test</td>\n",
       "    </tr>\n",
       "    <tr>\n",
       "      <th>14524</th>\n",
       "      <td>79F9ABFB029CF724</td>\n",
       "      <td>B</td>\n",
       "      <td>interface_eu_test</td>\n",
       "    </tr>\n",
       "  </tbody>\n",
       "</table>\n",
       "<p>13638 rows × 3 columns</p>\n",
       "</div>"
      ],
      "text/plain": [
       "                user_id group                  ab_test\n",
       "0      D1ABA3E2887B6A73     A  recommender_system_test\n",
       "1      A7A3664BD6242119     A  recommender_system_test\n",
       "2      DABC14FDDFADD29E     A  recommender_system_test\n",
       "3      04988C5DF189632E     A  recommender_system_test\n",
       "4      4FF2998A348C484F     A  recommender_system_test\n",
       "...                 ...   ...                      ...\n",
       "14520  1D302F8688B91781     B        interface_eu_test\n",
       "14521  3DE51B726983B657     A        interface_eu_test\n",
       "14522  F501F79D332BE86C     A        interface_eu_test\n",
       "14523  63FBE257B05F2245     A        interface_eu_test\n",
       "14524  79F9ABFB029CF724     B        interface_eu_test\n",
       "\n",
       "[13638 rows x 3 columns]"
      ]
     },
     "execution_count": 9,
     "metadata": {},
     "output_type": "execute_result"
    }
   ],
   "source": [
    "#dropping users that are in groups A and B\n",
    "participants = participants.drop_duplicates(subset='user_id')\n",
    "participants"
   ]
  },
  {
   "cell_type": "markdown",
   "metadata": {},
   "source": [
    "Comment: There are no missing values in the participants table. There were 441 users that appeared in group A and B. These users were removed from the participants table."
   ]
  },
  {
   "cell_type": "markdown",
   "metadata": {},
   "source": [
    "### Fixing Datasets\n",
    "<div id='fixing'></div>"
   ]
  },
  {
   "cell_type": "code",
   "execution_count": 10,
   "metadata": {},
   "outputs": [
    {
     "name": "stdout",
     "output_type": "stream",
     "text": [
      "<class 'pandas.core.frame.DataFrame'>\n",
      "RangeIndex: 14 entries, 0 to 13\n",
      "Data columns (total 4 columns):\n",
      " #   Column     Non-Null Count  Dtype         \n",
      "---  ------     --------------  -----         \n",
      " 0   name       14 non-null     object        \n",
      " 1   regions    14 non-null     object        \n",
      " 2   start_dt   14 non-null     datetime64[ns]\n",
      " 3   finish_dt  14 non-null     datetime64[ns]\n",
      "dtypes: datetime64[ns](2), object(2)\n",
      "memory usage: 576.0+ bytes\n"
     ]
    }
   ],
   "source": [
    "#changing start_dt and finish_dt column to datetime datatype for events table\n",
    "events['start_dt'] = pd.to_datetime(events['start_dt'], format='%Y-%m-%d')\n",
    "events['finish_dt'] = pd.to_datetime(events['finish_dt'], format='%Y-%m-%d')\n",
    "events.info()"
   ]
  },
  {
   "cell_type": "code",
   "execution_count": 11,
   "metadata": {},
   "outputs": [
    {
     "name": "stdout",
     "output_type": "stream",
     "text": [
      "<class 'pandas.core.frame.DataFrame'>\n",
      "RangeIndex: 58703 entries, 0 to 58702\n",
      "Data columns (total 4 columns):\n",
      " #   Column      Non-Null Count  Dtype         \n",
      "---  ------      --------------  -----         \n",
      " 0   user_id     58703 non-null  object        \n",
      " 1   first_date  58703 non-null  datetime64[ns]\n",
      " 2   region      58703 non-null  object        \n",
      " 3   device      58703 non-null  object        \n",
      "dtypes: datetime64[ns](1), object(3)\n",
      "memory usage: 1.8+ MB\n"
     ]
    }
   ],
   "source": [
    "#changing first_date column to datetime datatype for new_users table\n",
    "new_users['first_date'] = pd.to_datetime(new_users['first_date'], format='%Y-%m-%d')\n",
    "new_users.info()"
   ]
  },
  {
   "cell_type": "code",
   "execution_count": 12,
   "metadata": {},
   "outputs": [
    {
     "name": "stdout",
     "output_type": "stream",
     "text": [
      "<class 'pandas.core.frame.DataFrame'>\n",
      "RangeIndex: 423761 entries, 0 to 423760\n",
      "Data columns (total 4 columns):\n",
      " #   Column      Non-Null Count   Dtype         \n",
      "---  ------      --------------   -----         \n",
      " 0   user_id     423761 non-null  object        \n",
      " 1   event_dt    423761 non-null  datetime64[ns]\n",
      " 2   event_name  423761 non-null  object        \n",
      " 3   details     60314 non-null   float64       \n",
      "dtypes: datetime64[ns](1), float64(1), object(2)\n",
      "memory usage: 12.9+ MB\n"
     ]
    }
   ],
   "source": [
    "#changing event_dt column to datetime datatype for events_new_users table\n",
    "events_new_users['event_dt'] = pd.to_datetime(events_new_users['event_dt'], format='%Y-%m-%d %H:%M:%S')\n",
    "events_new_users.info()"
   ]
  },
  {
   "cell_type": "code",
   "execution_count": 13,
   "metadata": {},
   "outputs": [
    {
     "data": {
      "text/html": [
       "<div>\n",
       "<style scoped>\n",
       "    .dataframe tbody tr th:only-of-type {\n",
       "        vertical-align: middle;\n",
       "    }\n",
       "\n",
       "    .dataframe tbody tr th {\n",
       "        vertical-align: top;\n",
       "    }\n",
       "\n",
       "    .dataframe thead th {\n",
       "        text-align: right;\n",
       "    }\n",
       "</style>\n",
       "<table border=\"1\" class=\"dataframe\">\n",
       "  <thead>\n",
       "    <tr style=\"text-align: right;\">\n",
       "      <th></th>\n",
       "      <th>user_id</th>\n",
       "      <th>event_dt</th>\n",
       "      <th>event_name</th>\n",
       "      <th>details</th>\n",
       "    </tr>\n",
       "  </thead>\n",
       "  <tbody>\n",
       "    <tr>\n",
       "      <th>60314</th>\n",
       "      <td>2E1BF1D4C37EA01F</td>\n",
       "      <td>2020-12-07 09:05:47</td>\n",
       "      <td>product_cart</td>\n",
       "      <td>NaN</td>\n",
       "    </tr>\n",
       "    <tr>\n",
       "      <th>60315</th>\n",
       "      <td>50734A22C0C63768</td>\n",
       "      <td>2020-12-07 13:24:03</td>\n",
       "      <td>product_cart</td>\n",
       "      <td>NaN</td>\n",
       "    </tr>\n",
       "    <tr>\n",
       "      <th>60316</th>\n",
       "      <td>5EB159DA9DC94DBA</td>\n",
       "      <td>2020-12-07 22:54:02</td>\n",
       "      <td>product_cart</td>\n",
       "      <td>NaN</td>\n",
       "    </tr>\n",
       "    <tr>\n",
       "      <th>60317</th>\n",
       "      <td>084A22B980BA8169</td>\n",
       "      <td>2020-12-07 15:25:55</td>\n",
       "      <td>product_cart</td>\n",
       "      <td>NaN</td>\n",
       "    </tr>\n",
       "    <tr>\n",
       "      <th>60318</th>\n",
       "      <td>0FC21E6F8FAA8DEC</td>\n",
       "      <td>2020-12-07 06:56:27</td>\n",
       "      <td>product_cart</td>\n",
       "      <td>NaN</td>\n",
       "    </tr>\n",
       "    <tr>\n",
       "      <th>...</th>\n",
       "      <td>...</td>\n",
       "      <td>...</td>\n",
       "      <td>...</td>\n",
       "      <td>...</td>\n",
       "    </tr>\n",
       "    <tr>\n",
       "      <th>423756</th>\n",
       "      <td>245E85F65C358E08</td>\n",
       "      <td>2020-12-30 19:35:55</td>\n",
       "      <td>login</td>\n",
       "      <td>NaN</td>\n",
       "    </tr>\n",
       "    <tr>\n",
       "      <th>423757</th>\n",
       "      <td>9385A108F5A0A7A7</td>\n",
       "      <td>2020-12-30 10:54:15</td>\n",
       "      <td>login</td>\n",
       "      <td>NaN</td>\n",
       "    </tr>\n",
       "    <tr>\n",
       "      <th>423758</th>\n",
       "      <td>DB650B7559AC6EAC</td>\n",
       "      <td>2020-12-30 10:59:09</td>\n",
       "      <td>login</td>\n",
       "      <td>NaN</td>\n",
       "    </tr>\n",
       "    <tr>\n",
       "      <th>423759</th>\n",
       "      <td>F80C9BDDEA02E53C</td>\n",
       "      <td>2020-12-30 09:53:39</td>\n",
       "      <td>login</td>\n",
       "      <td>NaN</td>\n",
       "    </tr>\n",
       "    <tr>\n",
       "      <th>423760</th>\n",
       "      <td>7AEC61159B672CC5</td>\n",
       "      <td>2020-12-30 11:36:13</td>\n",
       "      <td>login</td>\n",
       "      <td>NaN</td>\n",
       "    </tr>\n",
       "  </tbody>\n",
       "</table>\n",
       "<p>363447 rows × 4 columns</p>\n",
       "</div>"
      ],
      "text/plain": [
       "                 user_id            event_dt    event_name  details\n",
       "60314   2E1BF1D4C37EA01F 2020-12-07 09:05:47  product_cart      NaN\n",
       "60315   50734A22C0C63768 2020-12-07 13:24:03  product_cart      NaN\n",
       "60316   5EB159DA9DC94DBA 2020-12-07 22:54:02  product_cart      NaN\n",
       "60317   084A22B980BA8169 2020-12-07 15:25:55  product_cart      NaN\n",
       "60318   0FC21E6F8FAA8DEC 2020-12-07 06:56:27  product_cart      NaN\n",
       "...                  ...                 ...           ...      ...\n",
       "423756  245E85F65C358E08 2020-12-30 19:35:55         login      NaN\n",
       "423757  9385A108F5A0A7A7 2020-12-30 10:54:15         login      NaN\n",
       "423758  DB650B7559AC6EAC 2020-12-30 10:59:09         login      NaN\n",
       "423759  F80C9BDDEA02E53C 2020-12-30 09:53:39         login      NaN\n",
       "423760  7AEC61159B672CC5 2020-12-30 11:36:13         login      NaN\n",
       "\n",
       "[363447 rows x 4 columns]"
      ]
     },
     "execution_count": 13,
     "metadata": {},
     "output_type": "execute_result"
    }
   ],
   "source": [
    "#investigating missing values in the details column in events_new_users table\n",
    "events_new_users[events_new_users['details'].isna()]"
   ]
  },
  {
   "cell_type": "code",
   "execution_count": 14,
   "metadata": {},
   "outputs": [
    {
     "data": {
      "text/plain": [
       "array(['purchase', 'product_cart', 'product_page', 'login'], dtype=object)"
      ]
     },
     "execution_count": 14,
     "metadata": {},
     "output_type": "execute_result"
    }
   ],
   "source": [
    "#checking unique values in event_name column\n",
    "events_new_users['event_name'].unique()"
   ]
  },
  {
   "cell_type": "code",
   "execution_count": 15,
   "metadata": {},
   "outputs": [
    {
     "data": {
      "text/html": [
       "<div>\n",
       "<style scoped>\n",
       "    .dataframe tbody tr th:only-of-type {\n",
       "        vertical-align: middle;\n",
       "    }\n",
       "\n",
       "    .dataframe tbody tr th {\n",
       "        vertical-align: top;\n",
       "    }\n",
       "\n",
       "    .dataframe thead th {\n",
       "        text-align: right;\n",
       "    }\n",
       "</style>\n",
       "<table border=\"1\" class=\"dataframe\">\n",
       "  <thead>\n",
       "    <tr style=\"text-align: right;\">\n",
       "      <th></th>\n",
       "      <th>user_id</th>\n",
       "      <th>event_dt</th>\n",
       "      <th>event_name</th>\n",
       "      <th>details</th>\n",
       "    </tr>\n",
       "  </thead>\n",
       "  <tbody>\n",
       "    <tr>\n",
       "      <th>0</th>\n",
       "      <td>E1BDDCE0DAFA2679</td>\n",
       "      <td>2020-12-07 20:22:03</td>\n",
       "      <td>purchase</td>\n",
       "      <td>99.99</td>\n",
       "    </tr>\n",
       "    <tr>\n",
       "      <th>1</th>\n",
       "      <td>7B6452F081F49504</td>\n",
       "      <td>2020-12-07 09:22:53</td>\n",
       "      <td>purchase</td>\n",
       "      <td>9.99</td>\n",
       "    </tr>\n",
       "    <tr>\n",
       "      <th>2</th>\n",
       "      <td>9CD9F34546DF254C</td>\n",
       "      <td>2020-12-07 12:59:29</td>\n",
       "      <td>purchase</td>\n",
       "      <td>4.99</td>\n",
       "    </tr>\n",
       "    <tr>\n",
       "      <th>3</th>\n",
       "      <td>96F27A054B191457</td>\n",
       "      <td>2020-12-07 04:02:40</td>\n",
       "      <td>purchase</td>\n",
       "      <td>4.99</td>\n",
       "    </tr>\n",
       "    <tr>\n",
       "      <th>4</th>\n",
       "      <td>1FD7660FDF94CA1F</td>\n",
       "      <td>2020-12-07 10:15:09</td>\n",
       "      <td>purchase</td>\n",
       "      <td>4.99</td>\n",
       "    </tr>\n",
       "    <tr>\n",
       "      <th>...</th>\n",
       "      <td>...</td>\n",
       "      <td>...</td>\n",
       "      <td>...</td>\n",
       "      <td>...</td>\n",
       "    </tr>\n",
       "    <tr>\n",
       "      <th>60309</th>\n",
       "      <td>1455450835F72F5E</td>\n",
       "      <td>2020-12-30 09:27:10</td>\n",
       "      <td>purchase</td>\n",
       "      <td>4.99</td>\n",
       "    </tr>\n",
       "    <tr>\n",
       "      <th>60310</th>\n",
       "      <td>339C4C55021A83C6</td>\n",
       "      <td>2020-12-30 12:55:08</td>\n",
       "      <td>purchase</td>\n",
       "      <td>9.99</td>\n",
       "    </tr>\n",
       "    <tr>\n",
       "      <th>60311</th>\n",
       "      <td>D1553B56FFA8974B</td>\n",
       "      <td>2020-12-30 03:15:35</td>\n",
       "      <td>purchase</td>\n",
       "      <td>4.99</td>\n",
       "    </tr>\n",
       "    <tr>\n",
       "      <th>60312</th>\n",
       "      <td>245E85F65C358E08</td>\n",
       "      <td>2020-12-30 19:35:55</td>\n",
       "      <td>purchase</td>\n",
       "      <td>9.99</td>\n",
       "    </tr>\n",
       "    <tr>\n",
       "      <th>60313</th>\n",
       "      <td>F80C9BDDEA02E53C</td>\n",
       "      <td>2020-12-30 09:53:39</td>\n",
       "      <td>purchase</td>\n",
       "      <td>4.99</td>\n",
       "    </tr>\n",
       "  </tbody>\n",
       "</table>\n",
       "<p>60314 rows × 4 columns</p>\n",
       "</div>"
      ],
      "text/plain": [
       "                user_id            event_dt event_name  details\n",
       "0      E1BDDCE0DAFA2679 2020-12-07 20:22:03   purchase    99.99\n",
       "1      7B6452F081F49504 2020-12-07 09:22:53   purchase     9.99\n",
       "2      9CD9F34546DF254C 2020-12-07 12:59:29   purchase     4.99\n",
       "3      96F27A054B191457 2020-12-07 04:02:40   purchase     4.99\n",
       "4      1FD7660FDF94CA1F 2020-12-07 10:15:09   purchase     4.99\n",
       "...                 ...                 ...        ...      ...\n",
       "60309  1455450835F72F5E 2020-12-30 09:27:10   purchase     4.99\n",
       "60310  339C4C55021A83C6 2020-12-30 12:55:08   purchase     9.99\n",
       "60311  D1553B56FFA8974B 2020-12-30 03:15:35   purchase     4.99\n",
       "60312  245E85F65C358E08 2020-12-30 19:35:55   purchase     9.99\n",
       "60313  F80C9BDDEA02E53C 2020-12-30 09:53:39   purchase     4.99\n",
       "\n",
       "[60314 rows x 4 columns]"
      ]
     },
     "execution_count": 15,
     "metadata": {},
     "output_type": "execute_result"
    }
   ],
   "source": [
    "#checking purchase event names\n",
    "events_new_users[events_new_users['event_name']=='purchase']"
   ]
  },
  {
   "cell_type": "code",
   "execution_count": 16,
   "metadata": {},
   "outputs": [
    {
     "data": {
      "text/html": [
       "<div>\n",
       "<style scoped>\n",
       "    .dataframe tbody tr th:only-of-type {\n",
       "        vertical-align: middle;\n",
       "    }\n",
       "\n",
       "    .dataframe tbody tr th {\n",
       "        vertical-align: top;\n",
       "    }\n",
       "\n",
       "    .dataframe thead th {\n",
       "        text-align: right;\n",
       "    }\n",
       "</style>\n",
       "<table border=\"1\" class=\"dataframe\">\n",
       "  <thead>\n",
       "    <tr style=\"text-align: right;\">\n",
       "      <th></th>\n",
       "      <th>user_id</th>\n",
       "      <th>event_dt</th>\n",
       "      <th>event_name</th>\n",
       "      <th>details</th>\n",
       "      <th>date</th>\n",
       "    </tr>\n",
       "  </thead>\n",
       "  <tbody>\n",
       "    <tr>\n",
       "      <th>0</th>\n",
       "      <td>E1BDDCE0DAFA2679</td>\n",
       "      <td>2020-12-07 20:22:03</td>\n",
       "      <td>purchase</td>\n",
       "      <td>99.99</td>\n",
       "      <td>2020-12-07</td>\n",
       "    </tr>\n",
       "    <tr>\n",
       "      <th>1</th>\n",
       "      <td>7B6452F081F49504</td>\n",
       "      <td>2020-12-07 09:22:53</td>\n",
       "      <td>purchase</td>\n",
       "      <td>9.99</td>\n",
       "      <td>2020-12-07</td>\n",
       "    </tr>\n",
       "    <tr>\n",
       "      <th>2</th>\n",
       "      <td>9CD9F34546DF254C</td>\n",
       "      <td>2020-12-07 12:59:29</td>\n",
       "      <td>purchase</td>\n",
       "      <td>4.99</td>\n",
       "      <td>2020-12-07</td>\n",
       "    </tr>\n",
       "    <tr>\n",
       "      <th>3</th>\n",
       "      <td>96F27A054B191457</td>\n",
       "      <td>2020-12-07 04:02:40</td>\n",
       "      <td>purchase</td>\n",
       "      <td>4.99</td>\n",
       "      <td>2020-12-07</td>\n",
       "    </tr>\n",
       "    <tr>\n",
       "      <th>4</th>\n",
       "      <td>1FD7660FDF94CA1F</td>\n",
       "      <td>2020-12-07 10:15:09</td>\n",
       "      <td>purchase</td>\n",
       "      <td>4.99</td>\n",
       "      <td>2020-12-07</td>\n",
       "    </tr>\n",
       "    <tr>\n",
       "      <th>...</th>\n",
       "      <td>...</td>\n",
       "      <td>...</td>\n",
       "      <td>...</td>\n",
       "      <td>...</td>\n",
       "      <td>...</td>\n",
       "    </tr>\n",
       "    <tr>\n",
       "      <th>423756</th>\n",
       "      <td>245E85F65C358E08</td>\n",
       "      <td>2020-12-30 19:35:55</td>\n",
       "      <td>login</td>\n",
       "      <td>NaN</td>\n",
       "      <td>2020-12-30</td>\n",
       "    </tr>\n",
       "    <tr>\n",
       "      <th>423757</th>\n",
       "      <td>9385A108F5A0A7A7</td>\n",
       "      <td>2020-12-30 10:54:15</td>\n",
       "      <td>login</td>\n",
       "      <td>NaN</td>\n",
       "      <td>2020-12-30</td>\n",
       "    </tr>\n",
       "    <tr>\n",
       "      <th>423758</th>\n",
       "      <td>DB650B7559AC6EAC</td>\n",
       "      <td>2020-12-30 10:59:09</td>\n",
       "      <td>login</td>\n",
       "      <td>NaN</td>\n",
       "      <td>2020-12-30</td>\n",
       "    </tr>\n",
       "    <tr>\n",
       "      <th>423759</th>\n",
       "      <td>F80C9BDDEA02E53C</td>\n",
       "      <td>2020-12-30 09:53:39</td>\n",
       "      <td>login</td>\n",
       "      <td>NaN</td>\n",
       "      <td>2020-12-30</td>\n",
       "    </tr>\n",
       "    <tr>\n",
       "      <th>423760</th>\n",
       "      <td>7AEC61159B672CC5</td>\n",
       "      <td>2020-12-30 11:36:13</td>\n",
       "      <td>login</td>\n",
       "      <td>NaN</td>\n",
       "      <td>2020-12-30</td>\n",
       "    </tr>\n",
       "  </tbody>\n",
       "</table>\n",
       "<p>423761 rows × 5 columns</p>\n",
       "</div>"
      ],
      "text/plain": [
       "                 user_id            event_dt event_name  details       date\n",
       "0       E1BDDCE0DAFA2679 2020-12-07 20:22:03   purchase    99.99 2020-12-07\n",
       "1       7B6452F081F49504 2020-12-07 09:22:53   purchase     9.99 2020-12-07\n",
       "2       9CD9F34546DF254C 2020-12-07 12:59:29   purchase     4.99 2020-12-07\n",
       "3       96F27A054B191457 2020-12-07 04:02:40   purchase     4.99 2020-12-07\n",
       "4       1FD7660FDF94CA1F 2020-12-07 10:15:09   purchase     4.99 2020-12-07\n",
       "...                  ...                 ...        ...      ...        ...\n",
       "423756  245E85F65C358E08 2020-12-30 19:35:55      login      NaN 2020-12-30\n",
       "423757  9385A108F5A0A7A7 2020-12-30 10:54:15      login      NaN 2020-12-30\n",
       "423758  DB650B7559AC6EAC 2020-12-30 10:59:09      login      NaN 2020-12-30\n",
       "423759  F80C9BDDEA02E53C 2020-12-30 09:53:39      login      NaN 2020-12-30\n",
       "423760  7AEC61159B672CC5 2020-12-30 11:36:13      login      NaN 2020-12-30\n",
       "\n",
       "[423761 rows x 5 columns]"
      ]
     },
     "execution_count": 16,
     "metadata": {},
     "output_type": "execute_result"
    }
   ],
   "source": [
    "#creating date column for events_new_users table \n",
    "events_new_users['date'] = pd.to_datetime(events_new_users['event_dt']).dt.date\n",
    "events_new_users['date'] = pd.to_datetime(events_new_users['date'],format='%Y-%m-%d')\n",
    "events_new_users"
   ]
  },
  {
   "cell_type": "markdown",
   "metadata": {},
   "source": [
    "Comment: The missing values in the events_new_users are the events new users have participated in other than purchasing. The new users that have purchased has events totaling 60314. This verifies the purchase event users. Therefore missing values in the events can be ignored in the events new users table."
   ]
  },
  {
   "cell_type": "markdown",
   "metadata": {},
   "source": [
    "###  Merging Tables\n",
    "<div id='merging'></div>"
   ]
  },
  {
   "cell_type": "code",
   "execution_count": 17,
   "metadata": {},
   "outputs": [
    {
     "data": {
      "text/html": [
       "<div>\n",
       "<style scoped>\n",
       "    .dataframe tbody tr th:only-of-type {\n",
       "        vertical-align: middle;\n",
       "    }\n",
       "\n",
       "    .dataframe tbody tr th {\n",
       "        vertical-align: top;\n",
       "    }\n",
       "\n",
       "    .dataframe thead th {\n",
       "        text-align: right;\n",
       "    }\n",
       "</style>\n",
       "<table border=\"1\" class=\"dataframe\">\n",
       "  <thead>\n",
       "    <tr style=\"text-align: right;\">\n",
       "      <th></th>\n",
       "      <th>user_id</th>\n",
       "      <th>event_dt</th>\n",
       "      <th>event_name</th>\n",
       "      <th>details</th>\n",
       "      <th>date</th>\n",
       "      <th>first_date</th>\n",
       "      <th>region</th>\n",
       "      <th>device</th>\n",
       "    </tr>\n",
       "  </thead>\n",
       "  <tbody>\n",
       "    <tr>\n",
       "      <th>0</th>\n",
       "      <td>E1BDDCE0DAFA2679</td>\n",
       "      <td>2020-12-07 20:22:03</td>\n",
       "      <td>purchase</td>\n",
       "      <td>99.99</td>\n",
       "      <td>2020-12-07</td>\n",
       "      <td>2020-12-07</td>\n",
       "      <td>N.America</td>\n",
       "      <td>iPhone</td>\n",
       "    </tr>\n",
       "    <tr>\n",
       "      <th>1</th>\n",
       "      <td>E1BDDCE0DAFA2679</td>\n",
       "      <td>2020-12-09 06:21:35</td>\n",
       "      <td>purchase</td>\n",
       "      <td>9.99</td>\n",
       "      <td>2020-12-09</td>\n",
       "      <td>2020-12-07</td>\n",
       "      <td>N.America</td>\n",
       "      <td>iPhone</td>\n",
       "    </tr>\n",
       "    <tr>\n",
       "      <th>2</th>\n",
       "      <td>E1BDDCE0DAFA2679</td>\n",
       "      <td>2020-12-07 20:22:03</td>\n",
       "      <td>login</td>\n",
       "      <td>NaN</td>\n",
       "      <td>2020-12-07</td>\n",
       "      <td>2020-12-07</td>\n",
       "      <td>N.America</td>\n",
       "      <td>iPhone</td>\n",
       "    </tr>\n",
       "    <tr>\n",
       "      <th>3</th>\n",
       "      <td>E1BDDCE0DAFA2679</td>\n",
       "      <td>2020-12-09 06:21:35</td>\n",
       "      <td>login</td>\n",
       "      <td>NaN</td>\n",
       "      <td>2020-12-09</td>\n",
       "      <td>2020-12-07</td>\n",
       "      <td>N.America</td>\n",
       "      <td>iPhone</td>\n",
       "    </tr>\n",
       "    <tr>\n",
       "      <th>4</th>\n",
       "      <td>7B6452F081F49504</td>\n",
       "      <td>2020-12-07 09:22:53</td>\n",
       "      <td>purchase</td>\n",
       "      <td>9.99</td>\n",
       "      <td>2020-12-07</td>\n",
       "      <td>2020-12-07</td>\n",
       "      <td>EU</td>\n",
       "      <td>iPhone</td>\n",
       "    </tr>\n",
       "    <tr>\n",
       "      <th>...</th>\n",
       "      <td>...</td>\n",
       "      <td>...</td>\n",
       "      <td>...</td>\n",
       "      <td>...</td>\n",
       "      <td>...</td>\n",
       "      <td>...</td>\n",
       "      <td>...</td>\n",
       "      <td>...</td>\n",
       "    </tr>\n",
       "    <tr>\n",
       "      <th>423756</th>\n",
       "      <td>C9F1399FDCD83F13</td>\n",
       "      <td>2020-12-24 04:47:08</td>\n",
       "      <td>login</td>\n",
       "      <td>NaN</td>\n",
       "      <td>2020-12-24</td>\n",
       "      <td>2020-12-23</td>\n",
       "      <td>EU</td>\n",
       "      <td>iPhone</td>\n",
       "    </tr>\n",
       "    <tr>\n",
       "      <th>423757</th>\n",
       "      <td>C9F1399FDCD83F13</td>\n",
       "      <td>2020-12-27 09:47:46</td>\n",
       "      <td>login</td>\n",
       "      <td>NaN</td>\n",
       "      <td>2020-12-27</td>\n",
       "      <td>2020-12-23</td>\n",
       "      <td>EU</td>\n",
       "      <td>iPhone</td>\n",
       "    </tr>\n",
       "    <tr>\n",
       "      <th>423758</th>\n",
       "      <td>4F32B58E4FF19DC5</td>\n",
       "      <td>2020-12-23 20:01:29</td>\n",
       "      <td>login</td>\n",
       "      <td>NaN</td>\n",
       "      <td>2020-12-23</td>\n",
       "      <td>2020-12-23</td>\n",
       "      <td>EU</td>\n",
       "      <td>Android</td>\n",
       "    </tr>\n",
       "    <tr>\n",
       "      <th>423759</th>\n",
       "      <td>27767D4BECDD260E</td>\n",
       "      <td>2020-12-26 19:02:18</td>\n",
       "      <td>login</td>\n",
       "      <td>NaN</td>\n",
       "      <td>2020-12-26</td>\n",
       "      <td>2020-12-07</td>\n",
       "      <td>EU</td>\n",
       "      <td>iPhone</td>\n",
       "    </tr>\n",
       "    <tr>\n",
       "      <th>423760</th>\n",
       "      <td>27767D4BECDD260E</td>\n",
       "      <td>2020-12-27 04:57:22</td>\n",
       "      <td>login</td>\n",
       "      <td>NaN</td>\n",
       "      <td>2020-12-27</td>\n",
       "      <td>2020-12-07</td>\n",
       "      <td>EU</td>\n",
       "      <td>iPhone</td>\n",
       "    </tr>\n",
       "  </tbody>\n",
       "</table>\n",
       "<p>423761 rows × 8 columns</p>\n",
       "</div>"
      ],
      "text/plain": [
       "                 user_id            event_dt event_name  details       date  \\\n",
       "0       E1BDDCE0DAFA2679 2020-12-07 20:22:03   purchase    99.99 2020-12-07   \n",
       "1       E1BDDCE0DAFA2679 2020-12-09 06:21:35   purchase     9.99 2020-12-09   \n",
       "2       E1BDDCE0DAFA2679 2020-12-07 20:22:03      login      NaN 2020-12-07   \n",
       "3       E1BDDCE0DAFA2679 2020-12-09 06:21:35      login      NaN 2020-12-09   \n",
       "4       7B6452F081F49504 2020-12-07 09:22:53   purchase     9.99 2020-12-07   \n",
       "...                  ...                 ...        ...      ...        ...   \n",
       "423756  C9F1399FDCD83F13 2020-12-24 04:47:08      login      NaN 2020-12-24   \n",
       "423757  C9F1399FDCD83F13 2020-12-27 09:47:46      login      NaN 2020-12-27   \n",
       "423758  4F32B58E4FF19DC5 2020-12-23 20:01:29      login      NaN 2020-12-23   \n",
       "423759  27767D4BECDD260E 2020-12-26 19:02:18      login      NaN 2020-12-26   \n",
       "423760  27767D4BECDD260E 2020-12-27 04:57:22      login      NaN 2020-12-27   \n",
       "\n",
       "       first_date     region   device  \n",
       "0      2020-12-07  N.America   iPhone  \n",
       "1      2020-12-07  N.America   iPhone  \n",
       "2      2020-12-07  N.America   iPhone  \n",
       "3      2020-12-07  N.America   iPhone  \n",
       "4      2020-12-07         EU   iPhone  \n",
       "...           ...        ...      ...  \n",
       "423756 2020-12-23         EU   iPhone  \n",
       "423757 2020-12-23         EU   iPhone  \n",
       "423758 2020-12-23         EU  Android  \n",
       "423759 2020-12-07         EU   iPhone  \n",
       "423760 2020-12-07         EU   iPhone  \n",
       "\n",
       "[423761 rows x 8 columns]"
      ]
     },
     "execution_count": 17,
     "metadata": {},
     "output_type": "execute_result"
    }
   ],
   "source": [
    "#merging new_users table and events_new_users on user_id\n",
    "events_new_usersmerge = events_new_users.merge(new_users, on='user_id')\n",
    "events_new_usersmerge"
   ]
  },
  {
   "cell_type": "code",
   "execution_count": 18,
   "metadata": {},
   "outputs": [
    {
     "data": {
      "text/html": [
       "<div>\n",
       "<style scoped>\n",
       "    .dataframe tbody tr th:only-of-type {\n",
       "        vertical-align: middle;\n",
       "    }\n",
       "\n",
       "    .dataframe tbody tr th {\n",
       "        vertical-align: top;\n",
       "    }\n",
       "\n",
       "    .dataframe thead th {\n",
       "        text-align: right;\n",
       "    }\n",
       "</style>\n",
       "<table border=\"1\" class=\"dataframe\">\n",
       "  <thead>\n",
       "    <tr style=\"text-align: right;\">\n",
       "      <th></th>\n",
       "      <th>user_id</th>\n",
       "      <th>event_dt</th>\n",
       "      <th>event_name</th>\n",
       "      <th>revenue</th>\n",
       "      <th>date</th>\n",
       "      <th>first_date</th>\n",
       "      <th>region</th>\n",
       "      <th>device</th>\n",
       "      <th>group</th>\n",
       "      <th>ab_test</th>\n",
       "    </tr>\n",
       "  </thead>\n",
       "  <tbody>\n",
       "    <tr>\n",
       "      <th>0</th>\n",
       "      <td>96F27A054B191457</td>\n",
       "      <td>2020-12-07 04:02:40</td>\n",
       "      <td>purchase</td>\n",
       "      <td>4.99</td>\n",
       "      <td>2020-12-07</td>\n",
       "      <td>2020-12-07</td>\n",
       "      <td>EU</td>\n",
       "      <td>iPhone</td>\n",
       "      <td>B</td>\n",
       "      <td>interface_eu_test</td>\n",
       "    </tr>\n",
       "    <tr>\n",
       "      <th>1</th>\n",
       "      <td>96F27A054B191457</td>\n",
       "      <td>2020-12-08 09:43:14</td>\n",
       "      <td>purchase</td>\n",
       "      <td>4.99</td>\n",
       "      <td>2020-12-08</td>\n",
       "      <td>2020-12-07</td>\n",
       "      <td>EU</td>\n",
       "      <td>iPhone</td>\n",
       "      <td>B</td>\n",
       "      <td>interface_eu_test</td>\n",
       "    </tr>\n",
       "    <tr>\n",
       "      <th>2</th>\n",
       "      <td>96F27A054B191457</td>\n",
       "      <td>2020-12-09 00:44:10</td>\n",
       "      <td>purchase</td>\n",
       "      <td>4.99</td>\n",
       "      <td>2020-12-09</td>\n",
       "      <td>2020-12-07</td>\n",
       "      <td>EU</td>\n",
       "      <td>iPhone</td>\n",
       "      <td>B</td>\n",
       "      <td>interface_eu_test</td>\n",
       "    </tr>\n",
       "    <tr>\n",
       "      <th>3</th>\n",
       "      <td>96F27A054B191457</td>\n",
       "      <td>2020-12-26 00:33:57</td>\n",
       "      <td>purchase</td>\n",
       "      <td>9.99</td>\n",
       "      <td>2020-12-26</td>\n",
       "      <td>2020-12-07</td>\n",
       "      <td>EU</td>\n",
       "      <td>iPhone</td>\n",
       "      <td>B</td>\n",
       "      <td>interface_eu_test</td>\n",
       "    </tr>\n",
       "    <tr>\n",
       "      <th>4</th>\n",
       "      <td>96F27A054B191457</td>\n",
       "      <td>2020-12-07 04:02:41</td>\n",
       "      <td>product_page</td>\n",
       "      <td>NaN</td>\n",
       "      <td>2020-12-07</td>\n",
       "      <td>2020-12-07</td>\n",
       "      <td>EU</td>\n",
       "      <td>iPhone</td>\n",
       "      <td>B</td>\n",
       "      <td>interface_eu_test</td>\n",
       "    </tr>\n",
       "    <tr>\n",
       "      <th>...</th>\n",
       "      <td>...</td>\n",
       "      <td>...</td>\n",
       "      <td>...</td>\n",
       "      <td>...</td>\n",
       "      <td>...</td>\n",
       "      <td>...</td>\n",
       "      <td>...</td>\n",
       "      <td>...</td>\n",
       "      <td>...</td>\n",
       "      <td>...</td>\n",
       "    </tr>\n",
       "    <tr>\n",
       "      <th>97118</th>\n",
       "      <td>40076B77CFC12421</td>\n",
       "      <td>2020-12-23 03:43:28</td>\n",
       "      <td>login</td>\n",
       "      <td>NaN</td>\n",
       "      <td>2020-12-23</td>\n",
       "      <td>2020-12-23</td>\n",
       "      <td>EU</td>\n",
       "      <td>iPhone</td>\n",
       "      <td>B</td>\n",
       "      <td>interface_eu_test</td>\n",
       "    </tr>\n",
       "    <tr>\n",
       "      <th>97119</th>\n",
       "      <td>40076B77CFC12421</td>\n",
       "      <td>2020-12-24 04:21:53</td>\n",
       "      <td>login</td>\n",
       "      <td>NaN</td>\n",
       "      <td>2020-12-24</td>\n",
       "      <td>2020-12-23</td>\n",
       "      <td>EU</td>\n",
       "      <td>iPhone</td>\n",
       "      <td>B</td>\n",
       "      <td>interface_eu_test</td>\n",
       "    </tr>\n",
       "    <tr>\n",
       "      <th>97120</th>\n",
       "      <td>40076B77CFC12421</td>\n",
       "      <td>2020-12-26 03:50:17</td>\n",
       "      <td>login</td>\n",
       "      <td>NaN</td>\n",
       "      <td>2020-12-26</td>\n",
       "      <td>2020-12-23</td>\n",
       "      <td>EU</td>\n",
       "      <td>iPhone</td>\n",
       "      <td>B</td>\n",
       "      <td>interface_eu_test</td>\n",
       "    </tr>\n",
       "    <tr>\n",
       "      <th>97121</th>\n",
       "      <td>301C602AF78BABAD</td>\n",
       "      <td>2020-12-23 10:39:25</td>\n",
       "      <td>login</td>\n",
       "      <td>NaN</td>\n",
       "      <td>2020-12-23</td>\n",
       "      <td>2020-12-23</td>\n",
       "      <td>EU</td>\n",
       "      <td>Android</td>\n",
       "      <td>B</td>\n",
       "      <td>interface_eu_test</td>\n",
       "    </tr>\n",
       "    <tr>\n",
       "      <th>97122</th>\n",
       "      <td>85500F5DD194ADBA</td>\n",
       "      <td>2020-12-23 09:33:24</td>\n",
       "      <td>login</td>\n",
       "      <td>NaN</td>\n",
       "      <td>2020-12-23</td>\n",
       "      <td>2020-12-23</td>\n",
       "      <td>EU</td>\n",
       "      <td>Android</td>\n",
       "      <td>B</td>\n",
       "      <td>interface_eu_test</td>\n",
       "    </tr>\n",
       "  </tbody>\n",
       "</table>\n",
       "<p>97123 rows × 10 columns</p>\n",
       "</div>"
      ],
      "text/plain": [
       "                user_id            event_dt    event_name  revenue       date  \\\n",
       "0      96F27A054B191457 2020-12-07 04:02:40      purchase     4.99 2020-12-07   \n",
       "1      96F27A054B191457 2020-12-08 09:43:14      purchase     4.99 2020-12-08   \n",
       "2      96F27A054B191457 2020-12-09 00:44:10      purchase     4.99 2020-12-09   \n",
       "3      96F27A054B191457 2020-12-26 00:33:57      purchase     9.99 2020-12-26   \n",
       "4      96F27A054B191457 2020-12-07 04:02:41  product_page      NaN 2020-12-07   \n",
       "...                 ...                 ...           ...      ...        ...   \n",
       "97118  40076B77CFC12421 2020-12-23 03:43:28         login      NaN 2020-12-23   \n",
       "97119  40076B77CFC12421 2020-12-24 04:21:53         login      NaN 2020-12-24   \n",
       "97120  40076B77CFC12421 2020-12-26 03:50:17         login      NaN 2020-12-26   \n",
       "97121  301C602AF78BABAD 2020-12-23 10:39:25         login      NaN 2020-12-23   \n",
       "97122  85500F5DD194ADBA 2020-12-23 09:33:24         login      NaN 2020-12-23   \n",
       "\n",
       "      first_date region   device group            ab_test  \n",
       "0     2020-12-07     EU   iPhone     B  interface_eu_test  \n",
       "1     2020-12-07     EU   iPhone     B  interface_eu_test  \n",
       "2     2020-12-07     EU   iPhone     B  interface_eu_test  \n",
       "3     2020-12-07     EU   iPhone     B  interface_eu_test  \n",
       "4     2020-12-07     EU   iPhone     B  interface_eu_test  \n",
       "...          ...    ...      ...   ...                ...  \n",
       "97118 2020-12-23     EU   iPhone     B  interface_eu_test  \n",
       "97119 2020-12-23     EU   iPhone     B  interface_eu_test  \n",
       "97120 2020-12-23     EU   iPhone     B  interface_eu_test  \n",
       "97121 2020-12-23     EU  Android     B  interface_eu_test  \n",
       "97122 2020-12-23     EU  Android     B  interface_eu_test  \n",
       "\n",
       "[97123 rows x 10 columns]"
      ]
     },
     "execution_count": 18,
     "metadata": {},
     "output_type": "execute_result"
    }
   ],
   "source": [
    "#merging events_new_usersmerge with participants table\n",
    "complete_merge = events_new_usersmerge.merge(participants, on='user_id')\n",
    "complete_merge.rename(columns={'details':'revenue'},inplace=True)\n",
    "complete_merge"
   ]
  },
  {
   "cell_type": "markdown",
   "metadata": {},
   "source": [
    "Comment: The events_new_users table has 423 761 rows. After the merge with the new_users table the formulated table (events_new_usersmerge) maintained the same number of rows of 423 761. Merging the events_new_usermerge table with the participants table reduced the number of rows to 97 123."
   ]
  },
  {
   "cell_type": "markdown",
   "metadata": {},
   "source": [
    "## Exploratory Data Analysis (EDA)\n",
    "<div id='EDA'></div> <br>"
   ]
  },
  {
   "cell_type": "markdown",
   "metadata": {},
   "source": [
    "How many events are there in the dataset?"
   ]
  },
  {
   "cell_type": "code",
   "execution_count": 19,
   "metadata": {},
   "outputs": [
    {
     "name": "stdout",
     "output_type": "stream",
     "text": [
      "There are a total of 97123 events in the comeplete_merge table and 4 different unique events in the complete_merge table.\n"
     ]
    }
   ],
   "source": [
    "print(f\"There are a total of {complete_merge['event_name'].count()} events in the comeplete_merge table and {len(complete_merge['event_name'].unique())} different unique events in the complete_merge table.\")"
   ]
  },
  {
   "cell_type": "markdown",
   "metadata": {},
   "source": [
    "How many users are in the dataset?"
   ]
  },
  {
   "cell_type": "code",
   "execution_count": 20,
   "metadata": {},
   "outputs": [
    {
     "name": "stdout",
     "output_type": "stream",
     "text": [
      "There are 13638 users in the complete_merge table the same as participants table 13638.\n"
     ]
    }
   ],
   "source": [
    "print(f\"There are {len(complete_merge['user_id'].unique())} users in the complete_merge table the same as participants table {len(participants['user_id'].unique())}.\")"
   ]
  },
  {
   "cell_type": "markdown",
   "metadata": {},
   "source": [
    "Are there users in both group A and B?"
   ]
  },
  {
   "cell_type": "code",
   "execution_count": 21,
   "metadata": {},
   "outputs": [
    {
     "data": {
      "text/html": [
       "<div>\n",
       "<style scoped>\n",
       "    .dataframe tbody tr th:only-of-type {\n",
       "        vertical-align: middle;\n",
       "    }\n",
       "\n",
       "    .dataframe tbody tr th {\n",
       "        vertical-align: top;\n",
       "    }\n",
       "\n",
       "    .dataframe thead th {\n",
       "        text-align: right;\n",
       "    }\n",
       "</style>\n",
       "<table border=\"1\" class=\"dataframe\">\n",
       "  <thead>\n",
       "    <tr style=\"text-align: right;\">\n",
       "      <th></th>\n",
       "      <th>user_id</th>\n",
       "      <th>event_dt</th>\n",
       "      <th>event_name</th>\n",
       "      <th>revenue</th>\n",
       "      <th>date</th>\n",
       "      <th>first_date</th>\n",
       "      <th>region</th>\n",
       "      <th>device</th>\n",
       "      <th>group</th>\n",
       "      <th>ab_test</th>\n",
       "    </tr>\n",
       "  </thead>\n",
       "  <tbody>\n",
       "  </tbody>\n",
       "</table>\n",
       "</div>"
      ],
      "text/plain": [
       "Empty DataFrame\n",
       "Columns: [user_id, event_dt, event_name, revenue, date, first_date, region, device, group, ab_test]\n",
       "Index: []"
      ]
     },
     "execution_count": 21,
     "metadata": {},
     "output_type": "execute_result"
    }
   ],
   "source": [
    "complete_merge[(complete_merge['group']=='A') & (complete_merge['group']=='B')]"
   ]
  },
  {
   "cell_type": "markdown",
   "metadata": {},
   "source": [
    "What's the average number of events per user?"
   ]
  },
  {
   "cell_type": "code",
   "execution_count": 22,
   "metadata": {},
   "outputs": [
    {
     "name": "stdout",
     "output_type": "stream",
     "text": [
      "The average number of events per user is 7.121498753482915\n"
     ]
    }
   ],
   "source": [
    "avg_events =  complete_merge['event_name'].count()/len(complete_merge['user_id'].unique())\n",
    "print(f'The average number of events per user is {avg_events}')"
   ]
  },
  {
   "cell_type": "markdown",
   "metadata": {},
   "source": [
    "What period does the dataset cover?"
   ]
  },
  {
   "cell_type": "code",
   "execution_count": 23,
   "metadata": {},
   "outputs": [
    {
     "name": "stdout",
     "output_type": "stream",
     "text": [
      "Minimum date 2020-12-07 00:00:00 and maximum date 2020-12-30 00:00:00.\n"
     ]
    }
   ],
   "source": [
    "#finding the maximum and minimum date\n",
    "mindate = complete_merge['date'].min()\n",
    "maxdate = complete_merge['date'].max()\n",
    "print(f\"Minimum date {mindate} and maximum date {maxdate}.\")"
   ]
  },
  {
   "cell_type": "code",
   "execution_count": 24,
   "metadata": {},
   "outputs": [
    {
     "data": {
      "image/png": "[encoded data removed]",
      "text/plain": [
       "<Figure size 1300x900 with 1 Axes>"
      ]
     },
     "metadata": {},
     "output_type": "display_data"
    }
   ],
   "source": [
    "#plotting histogram by the date and time\n",
    "plt.figure(figsize=(13,9))\n",
    "sns.histplot(complete_merge['event_dt'])\n",
    "plt.xlabel('Date')\n",
    "plt.xticks(rotation=45)\n",
    "plt.ylabel('Frequency')\n",
    "plt.title('Histogram of the dates')\n",
    "plt.show()"
   ]
  },
  {
   "cell_type": "markdown",
   "metadata": {},
   "source": [
    "Comment: The distrubution appears to be a normal one that is slighlty left skewed."
   ]
  },
  {
   "cell_type": "markdown",
   "metadata": {},
   "source": [
    "Counting user events in group A and B."
   ]
  },
  {
   "cell_type": "code",
   "execution_count": 25,
   "metadata": {},
   "outputs": [
    {
     "data": {
      "text/html": [
       "<div>\n",
       "<style scoped>\n",
       "    .dataframe tbody tr th:only-of-type {\n",
       "        vertical-align: middle;\n",
       "    }\n",
       "\n",
       "    .dataframe tbody tr th {\n",
       "        vertical-align: top;\n",
       "    }\n",
       "\n",
       "    .dataframe thead th {\n",
       "        text-align: right;\n",
       "    }\n",
       "</style>\n",
       "<table border=\"1\" class=\"dataframe\">\n",
       "  <thead>\n",
       "    <tr style=\"text-align: right;\">\n",
       "      <th></th>\n",
       "      <th>event_name</th>\n",
       "    </tr>\n",
       "  </thead>\n",
       "  <tbody>\n",
       "    <tr>\n",
       "      <th>A</th>\n",
       "      <td>55762</td>\n",
       "    </tr>\n",
       "    <tr>\n",
       "      <th>B</th>\n",
       "      <td>41361</td>\n",
       "    </tr>\n",
       "    <tr>\n",
       "      <th>Total</th>\n",
       "      <td>97123</td>\n",
       "    </tr>\n",
       "  </tbody>\n",
       "</table>\n",
       "</div>"
      ],
      "text/plain": [
       "       event_name\n",
       "A           55762\n",
       "B           41361\n",
       "Total       97123"
      ]
     },
     "execution_count": 25,
     "metadata": {},
     "output_type": "execute_result"
    }
   ],
   "source": [
    "#grouping the A and B groups and creating a total row to count all the records\n",
    "grouped = complete_merge.groupby('group').agg({'event_name':'count'})\n",
    "total_row = pd.DataFrame({'event_name':[grouped['event_name'].sum()]}, index=['Total'])\n",
    "complete = pd.concat([grouped,total_row])\n",
    "complete"
   ]
  },
  {
   "cell_type": "markdown",
   "metadata": {},
   "source": [
    "## Event Funnel Study\n",
    "<div id='funnel'></div> <br>"
   ]
  },
  {
   "cell_type": "markdown",
   "metadata": {},
   "source": [
    "Determining events and their frequency."
   ]
  },
  {
   "cell_type": "code",
   "execution_count": 26,
   "metadata": {},
   "outputs": [
    {
     "data": {
      "text/html": [
       "<div>\n",
       "<style scoped>\n",
       "    .dataframe tbody tr th:only-of-type {\n",
       "        vertical-align: middle;\n",
       "    }\n",
       "\n",
       "    .dataframe tbody tr th {\n",
       "        vertical-align: top;\n",
       "    }\n",
       "\n",
       "    .dataframe thead th {\n",
       "        text-align: right;\n",
       "    }\n",
       "</style>\n",
       "<table border=\"1\" class=\"dataframe\">\n",
       "  <thead>\n",
       "    <tr style=\"text-align: right;\">\n",
       "      <th></th>\n",
       "      <th>event_name</th>\n",
       "      <th>frequency</th>\n",
       "    </tr>\n",
       "  </thead>\n",
       "  <tbody>\n",
       "    <tr>\n",
       "      <th>0</th>\n",
       "      <td>login</td>\n",
       "      <td>42101</td>\n",
       "    </tr>\n",
       "    <tr>\n",
       "      <th>1</th>\n",
       "      <td>product_page</td>\n",
       "      <td>27373</td>\n",
       "    </tr>\n",
       "    <tr>\n",
       "      <th>2</th>\n",
       "      <td>purchase</td>\n",
       "      <td>14034</td>\n",
       "    </tr>\n",
       "    <tr>\n",
       "      <th>3</th>\n",
       "      <td>product_cart</td>\n",
       "      <td>13615</td>\n",
       "    </tr>\n",
       "  </tbody>\n",
       "</table>\n",
       "</div>"
      ],
      "text/plain": [
       "     event_name  frequency\n",
       "0         login      42101\n",
       "1  product_page      27373\n",
       "2      purchase      14034\n",
       "3  product_cart      13615"
      ]
     },
     "execution_count": 26,
     "metadata": {},
     "output_type": "execute_result"
    }
   ],
   "source": [
    "#funnel of entire complete_merge table\n",
    "event_count = complete_merge.groupby('event_name').agg({'event_name':'count'})\n",
    "event_count.rename(columns = {'event_name':'frequency'},inplace=True)\n",
    "event_count = event_count.sort_values(by='frequency',ascending=False).reset_index()\n",
    "event_count"
   ]
  },
  {
   "cell_type": "code",
   "execution_count": 27,
   "metadata": {},
   "outputs": [
    {
     "data": {
      "text/html": [
       "<div>\n",
       "<style scoped>\n",
       "    .dataframe tbody tr th:only-of-type {\n",
       "        vertical-align: middle;\n",
       "    }\n",
       "\n",
       "    .dataframe tbody tr th {\n",
       "        vertical-align: top;\n",
       "    }\n",
       "\n",
       "    .dataframe thead th {\n",
       "        text-align: right;\n",
       "    }\n",
       "</style>\n",
       "<table border=\"1\" class=\"dataframe\">\n",
       "  <thead>\n",
       "    <tr style=\"text-align: right;\">\n",
       "      <th></th>\n",
       "      <th>event_name</th>\n",
       "      <th>frequency</th>\n",
       "    </tr>\n",
       "  </thead>\n",
       "  <tbody>\n",
       "    <tr>\n",
       "      <th>0</th>\n",
       "      <td>login</td>\n",
       "      <td>24043</td>\n",
       "    </tr>\n",
       "    <tr>\n",
       "      <th>1</th>\n",
       "      <td>product_page</td>\n",
       "      <td>15872</td>\n",
       "    </tr>\n",
       "    <tr>\n",
       "      <th>2</th>\n",
       "      <td>purchase</td>\n",
       "      <td>8176</td>\n",
       "    </tr>\n",
       "    <tr>\n",
       "      <th>3</th>\n",
       "      <td>product_cart</td>\n",
       "      <td>7671</td>\n",
       "    </tr>\n",
       "  </tbody>\n",
       "</table>\n",
       "</div>"
      ],
      "text/plain": [
       "     event_name  frequency\n",
       "0         login      24043\n",
       "1  product_page      15872\n",
       "2      purchase       8176\n",
       "3  product_cart       7671"
      ]
     },
     "execution_count": 27,
     "metadata": {},
     "output_type": "execute_result"
    }
   ],
   "source": [
    "#funnel of group A events\n",
    "event_countA = complete_merge[complete_merge['group']=='A'].groupby('event_name').agg({'event_name':'count'})\n",
    "event_countA.rename(columns = {'event_name':'event','event_name':'frequency'},inplace=True)\n",
    "event_countA = event_countA.sort_values(by='frequency',ascending=False).reset_index()\n",
    "event_countA"
   ]
  },
  {
   "cell_type": "code",
   "execution_count": 28,
   "metadata": {},
   "outputs": [
    {
     "data": {
      "text/html": [
       "<div>\n",
       "<style scoped>\n",
       "    .dataframe tbody tr th:only-of-type {\n",
       "        vertical-align: middle;\n",
       "    }\n",
       "\n",
       "    .dataframe tbody tr th {\n",
       "        vertical-align: top;\n",
       "    }\n",
       "\n",
       "    .dataframe thead th {\n",
       "        text-align: right;\n",
       "    }\n",
       "</style>\n",
       "<table border=\"1\" class=\"dataframe\">\n",
       "  <thead>\n",
       "    <tr style=\"text-align: right;\">\n",
       "      <th></th>\n",
       "      <th>event_name</th>\n",
       "      <th>frequency</th>\n",
       "    </tr>\n",
       "  </thead>\n",
       "  <tbody>\n",
       "    <tr>\n",
       "      <th>0</th>\n",
       "      <td>login</td>\n",
       "      <td>18058</td>\n",
       "    </tr>\n",
       "    <tr>\n",
       "      <th>1</th>\n",
       "      <td>product_page</td>\n",
       "      <td>11501</td>\n",
       "    </tr>\n",
       "    <tr>\n",
       "      <th>2</th>\n",
       "      <td>product_cart</td>\n",
       "      <td>5944</td>\n",
       "    </tr>\n",
       "    <tr>\n",
       "      <th>3</th>\n",
       "      <td>purchase</td>\n",
       "      <td>5858</td>\n",
       "    </tr>\n",
       "  </tbody>\n",
       "</table>\n",
       "</div>"
      ],
      "text/plain": [
       "     event_name  frequency\n",
       "0         login      18058\n",
       "1  product_page      11501\n",
       "2  product_cart       5944\n",
       "3      purchase       5858"
      ]
     },
     "execution_count": 28,
     "metadata": {},
     "output_type": "execute_result"
    }
   ],
   "source": [
    "#funnel of group B events\n",
    "event_countB = complete_merge[complete_merge['group']=='B'].groupby('event_name').agg({'event_name':'count'})\n",
    "event_countB.rename(columns = {'event_name':'event','event_name':'frequency'},inplace=True)\n",
    "event_countB = event_countB.sort_values(by='frequency',ascending=False).reset_index()\n",
    "event_countB"
   ]
  },
  {
   "cell_type": "markdown",
   "metadata": {},
   "source": [
    "Finding number of users who performed each event."
   ]
  },
  {
   "cell_type": "code",
   "execution_count": 29,
   "metadata": {},
   "outputs": [
    {
     "data": {
      "text/html": [
       "<div>\n",
       "<style scoped>\n",
       "    .dataframe tbody tr th:only-of-type {\n",
       "        vertical-align: middle;\n",
       "    }\n",
       "\n",
       "    .dataframe tbody tr th {\n",
       "        vertical-align: top;\n",
       "    }\n",
       "\n",
       "    .dataframe thead th {\n",
       "        text-align: right;\n",
       "    }\n",
       "</style>\n",
       "<table border=\"1\" class=\"dataframe\">\n",
       "  <thead>\n",
       "    <tr style=\"text-align: right;\">\n",
       "      <th></th>\n",
       "      <th>event_name</th>\n",
       "      <th>unique_users</th>\n",
       "    </tr>\n",
       "  </thead>\n",
       "  <tbody>\n",
       "    <tr>\n",
       "      <th>0</th>\n",
       "      <td>login</td>\n",
       "      <td>13636</td>\n",
       "    </tr>\n",
       "    <tr>\n",
       "      <th>1</th>\n",
       "      <td>product_page</td>\n",
       "      <td>8923</td>\n",
       "    </tr>\n",
       "    <tr>\n",
       "      <th>2</th>\n",
       "      <td>purchase</td>\n",
       "      <td>4563</td>\n",
       "    </tr>\n",
       "    <tr>\n",
       "      <th>3</th>\n",
       "      <td>product_cart</td>\n",
       "      <td>4394</td>\n",
       "    </tr>\n",
       "  </tbody>\n",
       "</table>\n",
       "</div>"
      ],
      "text/plain": [
       "     event_name  unique_users\n",
       "0         login         13636\n",
       "1  product_page          8923\n",
       "2      purchase          4563\n",
       "3  product_cart          4394"
      ]
     },
     "execution_count": 29,
     "metadata": {},
     "output_type": "execute_result"
    }
   ],
   "source": [
    "#unique user event count for enetire complete merge table\n",
    "user_event =  complete_merge.groupby('event_name').agg({'user_id':'nunique'})\n",
    "user_event.rename(columns={'user_id':'unique_users'},inplace=True)\n",
    "user_event.sort_values(by='unique_users',ascending=False).reset_index()"
   ]
  },
  {
   "cell_type": "code",
   "execution_count": 30,
   "metadata": {},
   "outputs": [
    {
     "data": {
      "text/html": [
       "<div>\n",
       "<style scoped>\n",
       "    .dataframe tbody tr th:only-of-type {\n",
       "        vertical-align: middle;\n",
       "    }\n",
       "\n",
       "    .dataframe tbody tr th {\n",
       "        vertical-align: top;\n",
       "    }\n",
       "\n",
       "    .dataframe thead th {\n",
       "        text-align: right;\n",
       "    }\n",
       "</style>\n",
       "<table border=\"1\" class=\"dataframe\">\n",
       "  <thead>\n",
       "    <tr style=\"text-align: right;\">\n",
       "      <th></th>\n",
       "      <th>event_name</th>\n",
       "      <th>unique_users</th>\n",
       "    </tr>\n",
       "  </thead>\n",
       "  <tbody>\n",
       "    <tr>\n",
       "      <th>0</th>\n",
       "      <td>login</td>\n",
       "      <td>7757</td>\n",
       "    </tr>\n",
       "    <tr>\n",
       "      <th>1</th>\n",
       "      <td>product_page</td>\n",
       "      <td>5146</td>\n",
       "    </tr>\n",
       "    <tr>\n",
       "      <th>2</th>\n",
       "      <td>purchase</td>\n",
       "      <td>2654</td>\n",
       "    </tr>\n",
       "    <tr>\n",
       "      <th>3</th>\n",
       "      <td>product_cart</td>\n",
       "      <td>2453</td>\n",
       "    </tr>\n",
       "  </tbody>\n",
       "</table>\n",
       "</div>"
      ],
      "text/plain": [
       "     event_name  unique_users\n",
       "0         login          7757\n",
       "1  product_page          5146\n",
       "2      purchase          2654\n",
       "3  product_cart          2453"
      ]
     },
     "execution_count": 30,
     "metadata": {},
     "output_type": "execute_result"
    }
   ],
   "source": [
    "#unique user event count for group A\n",
    "user_eventA =  complete_merge[complete_merge['group']=='A'].groupby('event_name').agg({'user_id':'nunique'})\n",
    "user_eventA.rename(columns={'user_id':'unique_users'},inplace=True)\n",
    "user_eventA.sort_values(by='unique_users',ascending=False).reset_index()"
   ]
  },
  {
   "cell_type": "code",
   "execution_count": 31,
   "metadata": {},
   "outputs": [
    {
     "data": {
      "text/html": [
       "<div>\n",
       "<style scoped>\n",
       "    .dataframe tbody tr th:only-of-type {\n",
       "        vertical-align: middle;\n",
       "    }\n",
       "\n",
       "    .dataframe tbody tr th {\n",
       "        vertical-align: top;\n",
       "    }\n",
       "\n",
       "    .dataframe thead th {\n",
       "        text-align: right;\n",
       "    }\n",
       "</style>\n",
       "<table border=\"1\" class=\"dataframe\">\n",
       "  <thead>\n",
       "    <tr style=\"text-align: right;\">\n",
       "      <th></th>\n",
       "      <th>event_name</th>\n",
       "      <th>unique_users</th>\n",
       "    </tr>\n",
       "  </thead>\n",
       "  <tbody>\n",
       "    <tr>\n",
       "      <th>0</th>\n",
       "      <td>login</td>\n",
       "      <td>5879</td>\n",
       "    </tr>\n",
       "    <tr>\n",
       "      <th>1</th>\n",
       "      <td>product_page</td>\n",
       "      <td>3777</td>\n",
       "    </tr>\n",
       "    <tr>\n",
       "      <th>2</th>\n",
       "      <td>product_cart</td>\n",
       "      <td>1941</td>\n",
       "    </tr>\n",
       "    <tr>\n",
       "      <th>3</th>\n",
       "      <td>purchase</td>\n",
       "      <td>1909</td>\n",
       "    </tr>\n",
       "  </tbody>\n",
       "</table>\n",
       "</div>"
      ],
      "text/plain": [
       "     event_name  unique_users\n",
       "0         login          5879\n",
       "1  product_page          3777\n",
       "2  product_cart          1941\n",
       "3      purchase          1909"
      ]
     },
     "execution_count": 31,
     "metadata": {},
     "output_type": "execute_result"
    }
   ],
   "source": [
    "#unique user event count for group B \n",
    "user_eventB =  complete_merge[complete_merge['group']=='B'].groupby('event_name').agg({'user_id':'nunique'})\n",
    "user_eventB.rename(columns={'user_id':'unique_users'},inplace=True)\n",
    "user_eventB.sort_values(by='unique_users',ascending=False).reset_index()"
   ]
  },
  {
   "cell_type": "markdown",
   "metadata": {},
   "source": [
    "Calculating the proportion of users that performed an event at least once"
   ]
  },
  {
   "cell_type": "code",
   "execution_count": 32,
   "metadata": {},
   "outputs": [
    {
     "data": {
      "text/html": [
       "<div>\n",
       "<style scoped>\n",
       "    .dataframe tbody tr th:only-of-type {\n",
       "        vertical-align: middle;\n",
       "    }\n",
       "\n",
       "    .dataframe tbody tr th {\n",
       "        vertical-align: top;\n",
       "    }\n",
       "\n",
       "    .dataframe thead th {\n",
       "        text-align: right;\n",
       "    }\n",
       "</style>\n",
       "<table border=\"1\" class=\"dataframe\">\n",
       "  <thead>\n",
       "    <tr style=\"text-align: right;\">\n",
       "      <th></th>\n",
       "      <th>event_name</th>\n",
       "      <th>frequency</th>\n",
       "      <th>unique_users</th>\n",
       "      <th>proportion</th>\n",
       "    </tr>\n",
       "  </thead>\n",
       "  <tbody>\n",
       "    <tr>\n",
       "      <th>1</th>\n",
       "      <td>product_page</td>\n",
       "      <td>27373</td>\n",
       "      <td>8923</td>\n",
       "      <td>0.325978</td>\n",
       "    </tr>\n",
       "    <tr>\n",
       "      <th>2</th>\n",
       "      <td>purchase</td>\n",
       "      <td>14034</td>\n",
       "      <td>4563</td>\n",
       "      <td>0.325139</td>\n",
       "    </tr>\n",
       "    <tr>\n",
       "      <th>0</th>\n",
       "      <td>login</td>\n",
       "      <td>42101</td>\n",
       "      <td>13636</td>\n",
       "      <td>0.323888</td>\n",
       "    </tr>\n",
       "    <tr>\n",
       "      <th>3</th>\n",
       "      <td>product_cart</td>\n",
       "      <td>13615</td>\n",
       "      <td>4394</td>\n",
       "      <td>0.322732</td>\n",
       "    </tr>\n",
       "  </tbody>\n",
       "</table>\n",
       "</div>"
      ],
      "text/plain": [
       "     event_name  frequency  unique_users  proportion\n",
       "1  product_page      27373          8923    0.325978\n",
       "2      purchase      14034          4563    0.325139\n",
       "0         login      42101         13636    0.323888\n",
       "3  product_cart      13615          4394    0.322732"
      ]
     },
     "execution_count": 32,
     "metadata": {},
     "output_type": "execute_result"
    }
   ],
   "source": [
    "#Calculating the proportion of combined complete_merge table, merging event_count and user_event table\n",
    "proportion = pd.merge(event_count,user_event,on='event_name')\n",
    "proportion['proportion'] = proportion['unique_users']/proportion['frequency']\n",
    "proportion.sort_values(by='proportion', ascending=False)"
   ]
  },
  {
   "cell_type": "code",
   "execution_count": 33,
   "metadata": {},
   "outputs": [
    {
     "data": {
      "text/html": [
       "<div>\n",
       "<style scoped>\n",
       "    .dataframe tbody tr th:only-of-type {\n",
       "        vertical-align: middle;\n",
       "    }\n",
       "\n",
       "    .dataframe tbody tr th {\n",
       "        vertical-align: top;\n",
       "    }\n",
       "\n",
       "    .dataframe thead th {\n",
       "        text-align: right;\n",
       "    }\n",
       "</style>\n",
       "<table border=\"1\" class=\"dataframe\">\n",
       "  <thead>\n",
       "    <tr style=\"text-align: right;\">\n",
       "      <th></th>\n",
       "      <th>event_name</th>\n",
       "      <th>frequency</th>\n",
       "      <th>unique_users</th>\n",
       "      <th>proportion</th>\n",
       "    </tr>\n",
       "  </thead>\n",
       "  <tbody>\n",
       "    <tr>\n",
       "      <th>2</th>\n",
       "      <td>purchase</td>\n",
       "      <td>8176</td>\n",
       "      <td>2654</td>\n",
       "      <td>0.324609</td>\n",
       "    </tr>\n",
       "    <tr>\n",
       "      <th>1</th>\n",
       "      <td>product_page</td>\n",
       "      <td>15872</td>\n",
       "      <td>5146</td>\n",
       "      <td>0.324219</td>\n",
       "    </tr>\n",
       "    <tr>\n",
       "      <th>0</th>\n",
       "      <td>login</td>\n",
       "      <td>24043</td>\n",
       "      <td>7757</td>\n",
       "      <td>0.322630</td>\n",
       "    </tr>\n",
       "    <tr>\n",
       "      <th>3</th>\n",
       "      <td>product_cart</td>\n",
       "      <td>7671</td>\n",
       "      <td>2453</td>\n",
       "      <td>0.319776</td>\n",
       "    </tr>\n",
       "  </tbody>\n",
       "</table>\n",
       "</div>"
      ],
      "text/plain": [
       "     event_name  frequency  unique_users  proportion\n",
       "2      purchase       8176          2654    0.324609\n",
       "1  product_page      15872          5146    0.324219\n",
       "0         login      24043          7757    0.322630\n",
       "3  product_cart       7671          2453    0.319776"
      ]
     },
     "execution_count": 33,
     "metadata": {},
     "output_type": "execute_result"
    }
   ],
   "source": [
    "#Calculating the proportion of group A \n",
    "proportionA = pd.merge(event_countA,user_eventA,on='event_name')\n",
    "proportionA['proportion'] = proportionA['unique_users']/proportionA['frequency']\n",
    "proportionA.sort_values(by='proportion', ascending=False)"
   ]
  },
  {
   "cell_type": "code",
   "execution_count": 34,
   "metadata": {},
   "outputs": [
    {
     "data": {
      "text/html": [
       "<div>\n",
       "<style scoped>\n",
       "    .dataframe tbody tr th:only-of-type {\n",
       "        vertical-align: middle;\n",
       "    }\n",
       "\n",
       "    .dataframe tbody tr th {\n",
       "        vertical-align: top;\n",
       "    }\n",
       "\n",
       "    .dataframe thead th {\n",
       "        text-align: right;\n",
       "    }\n",
       "</style>\n",
       "<table border=\"1\" class=\"dataframe\">\n",
       "  <thead>\n",
       "    <tr style=\"text-align: right;\">\n",
       "      <th></th>\n",
       "      <th>event_name</th>\n",
       "      <th>frequency</th>\n",
       "      <th>unique_users</th>\n",
       "      <th>proportion</th>\n",
       "    </tr>\n",
       "  </thead>\n",
       "  <tbody>\n",
       "    <tr>\n",
       "      <th>1</th>\n",
       "      <td>product_page</td>\n",
       "      <td>11501</td>\n",
       "      <td>3777</td>\n",
       "      <td>0.328406</td>\n",
       "    </tr>\n",
       "    <tr>\n",
       "      <th>2</th>\n",
       "      <td>product_cart</td>\n",
       "      <td>5944</td>\n",
       "      <td>1941</td>\n",
       "      <td>0.326548</td>\n",
       "    </tr>\n",
       "    <tr>\n",
       "      <th>3</th>\n",
       "      <td>purchase</td>\n",
       "      <td>5858</td>\n",
       "      <td>1909</td>\n",
       "      <td>0.325879</td>\n",
       "    </tr>\n",
       "    <tr>\n",
       "      <th>0</th>\n",
       "      <td>login</td>\n",
       "      <td>18058</td>\n",
       "      <td>5879</td>\n",
       "      <td>0.325562</td>\n",
       "    </tr>\n",
       "  </tbody>\n",
       "</table>\n",
       "</div>"
      ],
      "text/plain": [
       "     event_name  frequency  unique_users  proportion\n",
       "1  product_page      11501          3777    0.328406\n",
       "2  product_cart       5944          1941    0.326548\n",
       "3      purchase       5858          1909    0.325879\n",
       "0         login      18058          5879    0.325562"
      ]
     },
     "execution_count": 34,
     "metadata": {},
     "output_type": "execute_result"
    }
   ],
   "source": [
    "#Calculating the proportion of group B\n",
    "proportionB = pd.merge(event_countB,user_eventB,on='event_name')\n",
    "proportionB['proportion'] = proportionB['unique_users']/proportionB['frequency']\n",
    "proportionB.sort_values(by='proportion', ascending=False)"
   ]
  },
  {
   "cell_type": "markdown",
   "metadata": {},
   "source": [
    "Finding share of users that proceed from one event to the next."
   ]
  },
  {
   "cell_type": "code",
   "execution_count": 35,
   "metadata": {},
   "outputs": [
    {
     "data": {
      "text/html": [
       "<div>\n",
       "<style scoped>\n",
       "    .dataframe tbody tr th:only-of-type {\n",
       "        vertical-align: middle;\n",
       "    }\n",
       "\n",
       "    .dataframe tbody tr th {\n",
       "        vertical-align: top;\n",
       "    }\n",
       "\n",
       "    .dataframe thead th {\n",
       "        text-align: right;\n",
       "    }\n",
       "</style>\n",
       "<table border=\"1\" class=\"dataframe\">\n",
       "  <thead>\n",
       "    <tr style=\"text-align: right;\">\n",
       "      <th></th>\n",
       "      <th>unique_users</th>\n",
       "      <th>total conversion (%)</th>\n",
       "    </tr>\n",
       "    <tr>\n",
       "      <th>event_name</th>\n",
       "      <th></th>\n",
       "      <th></th>\n",
       "    </tr>\n",
       "  </thead>\n",
       "  <tbody>\n",
       "    <tr>\n",
       "      <th>login</th>\n",
       "      <td>13636</td>\n",
       "      <td>100.0</td>\n",
       "    </tr>\n",
       "    <tr>\n",
       "      <th>product_page</th>\n",
       "      <td>8923</td>\n",
       "      <td>65.0</td>\n",
       "    </tr>\n",
       "    <tr>\n",
       "      <th>purchase</th>\n",
       "      <td>4563</td>\n",
       "      <td>33.0</td>\n",
       "    </tr>\n",
       "    <tr>\n",
       "      <th>product_cart</th>\n",
       "      <td>4394</td>\n",
       "      <td>32.0</td>\n",
       "    </tr>\n",
       "  </tbody>\n",
       "</table>\n",
       "</div>"
      ],
      "text/plain": [
       "              unique_users  total conversion (%)\n",
       "event_name                                      \n",
       "login                13636                 100.0\n",
       "product_page          8923                  65.0\n",
       "purchase              4563                  33.0\n",
       "product_cart          4394                  32.0"
      ]
     },
     "execution_count": 35,
     "metadata": {},
     "output_type": "execute_result"
    }
   ],
   "source": [
    "#conversion for complete_merge table\n",
    "user_event['total conversion (%)'] = ((user_event['unique_users']/user_event['unique_users'].max())*100).round()\n",
    "user_event.sort_values(by='unique_users', ascending=False)"
   ]
  },
  {
   "cell_type": "code",
   "execution_count": 36,
   "metadata": {},
   "outputs": [
    {
     "data": {
      "text/html": [
       "<div>\n",
       "<style scoped>\n",
       "    .dataframe tbody tr th:only-of-type {\n",
       "        vertical-align: middle;\n",
       "    }\n",
       "\n",
       "    .dataframe tbody tr th {\n",
       "        vertical-align: top;\n",
       "    }\n",
       "\n",
       "    .dataframe thead th {\n",
       "        text-align: right;\n",
       "    }\n",
       "</style>\n",
       "<table border=\"1\" class=\"dataframe\">\n",
       "  <thead>\n",
       "    <tr style=\"text-align: right;\">\n",
       "      <th></th>\n",
       "      <th>unique_users</th>\n",
       "      <th>total conversion (%)</th>\n",
       "    </tr>\n",
       "    <tr>\n",
       "      <th>event_name</th>\n",
       "      <th></th>\n",
       "      <th></th>\n",
       "    </tr>\n",
       "  </thead>\n",
       "  <tbody>\n",
       "    <tr>\n",
       "      <th>login</th>\n",
       "      <td>7757</td>\n",
       "      <td>100.0</td>\n",
       "    </tr>\n",
       "    <tr>\n",
       "      <th>product_page</th>\n",
       "      <td>5146</td>\n",
       "      <td>66.0</td>\n",
       "    </tr>\n",
       "    <tr>\n",
       "      <th>purchase</th>\n",
       "      <td>2654</td>\n",
       "      <td>34.0</td>\n",
       "    </tr>\n",
       "    <tr>\n",
       "      <th>product_cart</th>\n",
       "      <td>2453</td>\n",
       "      <td>32.0</td>\n",
       "    </tr>\n",
       "  </tbody>\n",
       "</table>\n",
       "</div>"
      ],
      "text/plain": [
       "              unique_users  total conversion (%)\n",
       "event_name                                      \n",
       "login                 7757                 100.0\n",
       "product_page          5146                  66.0\n",
       "purchase              2654                  34.0\n",
       "product_cart          2453                  32.0"
      ]
     },
     "execution_count": 36,
     "metadata": {},
     "output_type": "execute_result"
    }
   ],
   "source": [
    "#conversion for group A\n",
    "user_eventA['total conversion (%)'] = ((user_eventA['unique_users']/user_eventA['unique_users'].max())*100).round()\n",
    "user_eventA.sort_values(by='unique_users', ascending=False)"
   ]
  },
  {
   "cell_type": "code",
   "execution_count": 37,
   "metadata": {},
   "outputs": [
    {
     "data": {
      "text/html": [
       "<div>\n",
       "<style scoped>\n",
       "    .dataframe tbody tr th:only-of-type {\n",
       "        vertical-align: middle;\n",
       "    }\n",
       "\n",
       "    .dataframe tbody tr th {\n",
       "        vertical-align: top;\n",
       "    }\n",
       "\n",
       "    .dataframe thead th {\n",
       "        text-align: right;\n",
       "    }\n",
       "</style>\n",
       "<table border=\"1\" class=\"dataframe\">\n",
       "  <thead>\n",
       "    <tr style=\"text-align: right;\">\n",
       "      <th></th>\n",
       "      <th>unique_users</th>\n",
       "      <th>total conversion (%)</th>\n",
       "    </tr>\n",
       "    <tr>\n",
       "      <th>event_name</th>\n",
       "      <th></th>\n",
       "      <th></th>\n",
       "    </tr>\n",
       "  </thead>\n",
       "  <tbody>\n",
       "    <tr>\n",
       "      <th>login</th>\n",
       "      <td>5879</td>\n",
       "      <td>100.0</td>\n",
       "    </tr>\n",
       "    <tr>\n",
       "      <th>product_page</th>\n",
       "      <td>3777</td>\n",
       "      <td>64.0</td>\n",
       "    </tr>\n",
       "    <tr>\n",
       "      <th>product_cart</th>\n",
       "      <td>1941</td>\n",
       "      <td>33.0</td>\n",
       "    </tr>\n",
       "    <tr>\n",
       "      <th>purchase</th>\n",
       "      <td>1909</td>\n",
       "      <td>32.0</td>\n",
       "    </tr>\n",
       "  </tbody>\n",
       "</table>\n",
       "</div>"
      ],
      "text/plain": [
       "              unique_users  total conversion (%)\n",
       "event_name                                      \n",
       "login                 5879                 100.0\n",
       "product_page          3777                  64.0\n",
       "product_cart          1941                  33.0\n",
       "purchase              1909                  32.0"
      ]
     },
     "execution_count": 37,
     "metadata": {},
     "output_type": "execute_result"
    }
   ],
   "source": [
    "#conversion for group B\n",
    "user_eventB['total conversion (%)'] = ((user_eventB['unique_users']/user_eventB['unique_users'].max())*100).round()\n",
    "user_eventB.sort_values(by='unique_users', ascending=False)"
   ]
  },
  {
   "cell_type": "markdown",
   "metadata": {},
   "source": [
    "What share of the users go through all the events."
   ]
  },
  {
   "cell_type": "code",
   "execution_count": 38,
   "metadata": {},
   "outputs": [
    {
     "name": "stdout",
     "output_type": "stream",
     "text": [
      "The share of users that make it through all the events is 7.134477196069805% of the users.\n"
     ]
    }
   ],
   "source": [
    "#filtering users with all the events\n",
    "all_events_users = complete_merge.groupby('user_id').agg({'event_name':'nunique'})\n",
    "all_events_users.rename(columns={'event_name':'number_of_events'},inplace=True)\n",
    "all_events_users.reset_index()\n",
    "all_events_users = all_events_users[all_events_users['number_of_events']==4]\n",
    "#calculating share of users that are in all events\n",
    "share = (len(all_events_users)/len(complete_merge['user_id'].unique()))*100\n",
    "print(f\"The share of users that make it through all the events is {share}% of the users.\")"
   ]
  },
  {
   "cell_type": "markdown",
   "metadata": {},
   "source": [
    "Comment: For the entire complete_merge table and group A the product cart is less than the purchase event. For group B the purchase event is less than the product cart event. This trend is observed for the frequency of events, the number of unique users, the proportions and the converstion. The proportions for all three groups lies at 30% however the orders are different."
   ]
  },
  {
   "cell_type": "markdown",
   "metadata": {},
   "source": [
    "## Pre-Test Evaluation\n",
    "<div id='Evaluation'></div> <br>"
   ]
  },
  {
   "cell_type": "markdown",
   "metadata": {},
   "source": [
    "How many users are there in each group?"
   ]
  },
  {
   "cell_type": "code",
   "execution_count": 39,
   "metadata": {},
   "outputs": [
    {
     "data": {
      "text/html": [
       "<div>\n",
       "<style scoped>\n",
       "    .dataframe tbody tr th:only-of-type {\n",
       "        vertical-align: middle;\n",
       "    }\n",
       "\n",
       "    .dataframe tbody tr th {\n",
       "        vertical-align: top;\n",
       "    }\n",
       "\n",
       "    .dataframe thead th {\n",
       "        text-align: right;\n",
       "    }\n",
       "</style>\n",
       "<table border=\"1\" class=\"dataframe\">\n",
       "  <thead>\n",
       "    <tr style=\"text-align: right;\">\n",
       "      <th></th>\n",
       "      <th>user_id</th>\n",
       "    </tr>\n",
       "  </thead>\n",
       "  <tbody>\n",
       "    <tr>\n",
       "      <th>A</th>\n",
       "      <td>7758</td>\n",
       "    </tr>\n",
       "    <tr>\n",
       "      <th>B</th>\n",
       "      <td>5880</td>\n",
       "    </tr>\n",
       "    <tr>\n",
       "      <th>Total</th>\n",
       "      <td>13638</td>\n",
       "    </tr>\n",
       "  </tbody>\n",
       "</table>\n",
       "</div>"
      ],
      "text/plain": [
       "       user_id\n",
       "A         7758\n",
       "B         5880\n",
       "Total    13638"
      ]
     },
     "execution_count": 39,
     "metadata": {},
     "output_type": "execute_result"
    }
   ],
   "source": [
    "grouped =  complete_merge.groupby('group').agg({'user_id':'nunique'})\n",
    "total_row = pd.DataFrame({'user_id':[grouped['user_id'].sum()]}, index=['Total'])\n",
    "completeg = pd.concat([grouped,total_row])\n",
    "completeg"
   ]
  },
  {
   "cell_type": "code",
   "execution_count": 40,
   "metadata": {},
   "outputs": [
    {
     "data": {
      "text/html": [
       "<div>\n",
       "<style scoped>\n",
       "    .dataframe tbody tr th:only-of-type {\n",
       "        vertical-align: middle;\n",
       "    }\n",
       "\n",
       "    .dataframe tbody tr th {\n",
       "        vertical-align: top;\n",
       "    }\n",
       "\n",
       "    .dataframe thead th {\n",
       "        text-align: right;\n",
       "    }\n",
       "</style>\n",
       "<table border=\"1\" class=\"dataframe\">\n",
       "  <thead>\n",
       "    <tr style=\"text-align: right;\">\n",
       "      <th></th>\n",
       "      <th>group</th>\n",
       "      <th>event_name</th>\n",
       "      <th>user_id</th>\n",
       "    </tr>\n",
       "  </thead>\n",
       "  <tbody>\n",
       "    <tr>\n",
       "      <th>0</th>\n",
       "      <td>A</td>\n",
       "      <td>login</td>\n",
       "      <td>7757</td>\n",
       "    </tr>\n",
       "    <tr>\n",
       "      <th>4</th>\n",
       "      <td>B</td>\n",
       "      <td>login</td>\n",
       "      <td>5879</td>\n",
       "    </tr>\n",
       "    <tr>\n",
       "      <th>2</th>\n",
       "      <td>A</td>\n",
       "      <td>product_page</td>\n",
       "      <td>5146</td>\n",
       "    </tr>\n",
       "    <tr>\n",
       "      <th>6</th>\n",
       "      <td>B</td>\n",
       "      <td>product_page</td>\n",
       "      <td>3777</td>\n",
       "    </tr>\n",
       "    <tr>\n",
       "      <th>3</th>\n",
       "      <td>A</td>\n",
       "      <td>purchase</td>\n",
       "      <td>2654</td>\n",
       "    </tr>\n",
       "    <tr>\n",
       "      <th>1</th>\n",
       "      <td>A</td>\n",
       "      <td>product_cart</td>\n",
       "      <td>2453</td>\n",
       "    </tr>\n",
       "    <tr>\n",
       "      <th>5</th>\n",
       "      <td>B</td>\n",
       "      <td>product_cart</td>\n",
       "      <td>1941</td>\n",
       "    </tr>\n",
       "    <tr>\n",
       "      <th>7</th>\n",
       "      <td>B</td>\n",
       "      <td>purchase</td>\n",
       "      <td>1909</td>\n",
       "    </tr>\n",
       "  </tbody>\n",
       "</table>\n",
       "</div>"
      ],
      "text/plain": [
       "  group    event_name  user_id\n",
       "0     A         login     7757\n",
       "4     B         login     5879\n",
       "2     A  product_page     5146\n",
       "6     B  product_page     3777\n",
       "3     A      purchase     2654\n",
       "1     A  product_cart     2453\n",
       "5     B  product_cart     1941\n",
       "7     B      purchase     1909"
      ]
     },
     "execution_count": 40,
     "metadata": {},
     "output_type": "execute_result"
    }
   ],
   "source": [
    "#getting users performing the events\n",
    "users_per_event = complete_merge.groupby(['group','event_name']).agg({'user_id':'nunique'}).reset_index().sort_values(by='user_id',ascending=False)\n",
    "users_per_event"
   ]
  },
  {
   "cell_type": "code",
   "execution_count": 41,
   "metadata": {},
   "outputs": [
    {
     "data": {
      "text/html": [
       "<div>\n",
       "<style scoped>\n",
       "    .dataframe tbody tr th:only-of-type {\n",
       "        vertical-align: middle;\n",
       "    }\n",
       "\n",
       "    .dataframe tbody tr th {\n",
       "        vertical-align: top;\n",
       "    }\n",
       "\n",
       "    .dataframe thead th {\n",
       "        text-align: right;\n",
       "    }\n",
       "</style>\n",
       "<table border=\"1\" class=\"dataframe\">\n",
       "  <thead>\n",
       "    <tr style=\"text-align: right;\">\n",
       "      <th></th>\n",
       "      <th>group</th>\n",
       "      <th>event_name</th>\n",
       "      <th>performed</th>\n",
       "      <th>total_users</th>\n",
       "      <th>not_performed</th>\n",
       "      <th>proportion</th>\n",
       "    </tr>\n",
       "  </thead>\n",
       "  <tbody>\n",
       "    <tr>\n",
       "      <th>0</th>\n",
       "      <td>A</td>\n",
       "      <td>login</td>\n",
       "      <td>7757</td>\n",
       "      <td>7758</td>\n",
       "      <td>1</td>\n",
       "      <td>0.999871</td>\n",
       "    </tr>\n",
       "    <tr>\n",
       "      <th>1</th>\n",
       "      <td>A</td>\n",
       "      <td>product_page</td>\n",
       "      <td>5146</td>\n",
       "      <td>7758</td>\n",
       "      <td>2612</td>\n",
       "      <td>0.663315</td>\n",
       "    </tr>\n",
       "    <tr>\n",
       "      <th>2</th>\n",
       "      <td>A</td>\n",
       "      <td>purchase</td>\n",
       "      <td>2654</td>\n",
       "      <td>7758</td>\n",
       "      <td>5104</td>\n",
       "      <td>0.342098</td>\n",
       "    </tr>\n",
       "    <tr>\n",
       "      <th>3</th>\n",
       "      <td>A</td>\n",
       "      <td>product_cart</td>\n",
       "      <td>2453</td>\n",
       "      <td>7758</td>\n",
       "      <td>5305</td>\n",
       "      <td>0.316190</td>\n",
       "    </tr>\n",
       "    <tr>\n",
       "      <th>4</th>\n",
       "      <td>B</td>\n",
       "      <td>login</td>\n",
       "      <td>5879</td>\n",
       "      <td>5880</td>\n",
       "      <td>1</td>\n",
       "      <td>0.999830</td>\n",
       "    </tr>\n",
       "    <tr>\n",
       "      <th>5</th>\n",
       "      <td>B</td>\n",
       "      <td>product_page</td>\n",
       "      <td>3777</td>\n",
       "      <td>5880</td>\n",
       "      <td>2103</td>\n",
       "      <td>0.642347</td>\n",
       "    </tr>\n",
       "    <tr>\n",
       "      <th>6</th>\n",
       "      <td>B</td>\n",
       "      <td>product_cart</td>\n",
       "      <td>1941</td>\n",
       "      <td>5880</td>\n",
       "      <td>3939</td>\n",
       "      <td>0.330102</td>\n",
       "    </tr>\n",
       "    <tr>\n",
       "      <th>7</th>\n",
       "      <td>B</td>\n",
       "      <td>purchase</td>\n",
       "      <td>1909</td>\n",
       "      <td>5880</td>\n",
       "      <td>3971</td>\n",
       "      <td>0.324660</td>\n",
       "    </tr>\n",
       "  </tbody>\n",
       "</table>\n",
       "</div>"
      ],
      "text/plain": [
       "  group    event_name  performed  total_users  not_performed  proportion\n",
       "0     A         login       7757         7758              1    0.999871\n",
       "1     A  product_page       5146         7758           2612    0.663315\n",
       "2     A      purchase       2654         7758           5104    0.342098\n",
       "3     A  product_cart       2453         7758           5305    0.316190\n",
       "4     B         login       5879         5880              1    0.999830\n",
       "5     B  product_page       3777         5880           2103    0.642347\n",
       "6     B  product_cart       1941         5880           3939    0.330102\n",
       "7     B      purchase       1909         5880           3971    0.324660"
      ]
     },
     "execution_count": 41,
     "metadata": {},
     "output_type": "execute_result"
    }
   ],
   "source": [
    "#calculating proportion of users performing the respective events\n",
    "total_users_per_group = complete_merge.groupby('group').agg({'user_id':'nunique'})\n",
    "group_users = pd.merge(users_per_event,total_users_per_group, on='group')\n",
    "group_users['not_performed'] = group_users['user_id_y'] - group_users['user_id_x']\n",
    "group_users['proportion'] = group_users['user_id_x']/group_users['user_id_y']\n",
    "group_users.rename(columns={'user_id_x':'performed','user_id_y':'total_users'},inplace=True)\n",
    "group_users"
   ]
  },
  {
   "cell_type": "code",
   "execution_count": 42,
   "metadata": {
    "scrolled": true
   },
   "outputs": [
    {
     "data": {
      "text/html": [
       "<div>\n",
       "<style scoped>\n",
       "    .dataframe tbody tr th:only-of-type {\n",
       "        vertical-align: middle;\n",
       "    }\n",
       "\n",
       "    .dataframe tbody tr th {\n",
       "        vertical-align: top;\n",
       "    }\n",
       "\n",
       "    .dataframe thead th {\n",
       "        text-align: right;\n",
       "    }\n",
       "</style>\n",
       "<table border=\"1\" class=\"dataframe\">\n",
       "  <thead>\n",
       "    <tr style=\"text-align: right;\">\n",
       "      <th>event_name</th>\n",
       "      <th>group</th>\n",
       "      <th>user_id</th>\n",
       "      <th>login</th>\n",
       "      <th>product_cart</th>\n",
       "      <th>product_page</th>\n",
       "      <th>purchase</th>\n",
       "      <th>login_to_page_ratio</th>\n",
       "      <th>page_to_cart_ratio</th>\n",
       "      <th>cart_to_purchase_ratio</th>\n",
       "    </tr>\n",
       "  </thead>\n",
       "  <tbody>\n",
       "    <tr>\n",
       "      <th>0</th>\n",
       "      <td>A</td>\n",
       "      <td>0002CE61FF2C4011</td>\n",
       "      <td>4</td>\n",
       "      <td>4</td>\n",
       "      <td>4</td>\n",
       "      <td>0</td>\n",
       "      <td>1.0</td>\n",
       "      <td>1.0</td>\n",
       "      <td>0.0</td>\n",
       "    </tr>\n",
       "    <tr>\n",
       "      <th>1</th>\n",
       "      <td>A</td>\n",
       "      <td>0010A1C096941592</td>\n",
       "      <td>4</td>\n",
       "      <td>0</td>\n",
       "      <td>4</td>\n",
       "      <td>4</td>\n",
       "      <td>1.0</td>\n",
       "      <td>0.0</td>\n",
       "      <td>inf</td>\n",
       "    </tr>\n",
       "    <tr>\n",
       "      <th>2</th>\n",
       "      <td>A</td>\n",
       "      <td>002412F1EB3F6E38</td>\n",
       "      <td>3</td>\n",
       "      <td>0</td>\n",
       "      <td>3</td>\n",
       "      <td>0</td>\n",
       "      <td>1.0</td>\n",
       "      <td>0.0</td>\n",
       "      <td>NaN</td>\n",
       "    </tr>\n",
       "    <tr>\n",
       "      <th>3</th>\n",
       "      <td>A</td>\n",
       "      <td>002540BE89C930FB</td>\n",
       "      <td>3</td>\n",
       "      <td>3</td>\n",
       "      <td>3</td>\n",
       "      <td>0</td>\n",
       "      <td>1.0</td>\n",
       "      <td>1.0</td>\n",
       "      <td>0.0</td>\n",
       "    </tr>\n",
       "    <tr>\n",
       "      <th>4</th>\n",
       "      <td>A</td>\n",
       "      <td>003346BB64227D0C</td>\n",
       "      <td>3</td>\n",
       "      <td>0</td>\n",
       "      <td>0</td>\n",
       "      <td>0</td>\n",
       "      <td>0.0</td>\n",
       "      <td>NaN</td>\n",
       "      <td>NaN</td>\n",
       "    </tr>\n",
       "    <tr>\n",
       "      <th>...</th>\n",
       "      <td>...</td>\n",
       "      <td>...</td>\n",
       "      <td>...</td>\n",
       "      <td>...</td>\n",
       "      <td>...</td>\n",
       "      <td>...</td>\n",
       "      <td>...</td>\n",
       "      <td>...</td>\n",
       "      <td>...</td>\n",
       "    </tr>\n",
       "    <tr>\n",
       "      <th>13633</th>\n",
       "      <td>B</td>\n",
       "      <td>FFE5B14BD55C1C5C</td>\n",
       "      <td>1</td>\n",
       "      <td>1</td>\n",
       "      <td>0</td>\n",
       "      <td>0</td>\n",
       "      <td>0.0</td>\n",
       "      <td>inf</td>\n",
       "      <td>0.0</td>\n",
       "    </tr>\n",
       "    <tr>\n",
       "      <th>13634</th>\n",
       "      <td>B</td>\n",
       "      <td>FFE7FC140521F5F6</td>\n",
       "      <td>4</td>\n",
       "      <td>4</td>\n",
       "      <td>4</td>\n",
       "      <td>4</td>\n",
       "      <td>1.0</td>\n",
       "      <td>1.0</td>\n",
       "      <td>1.0</td>\n",
       "    </tr>\n",
       "    <tr>\n",
       "      <th>13635</th>\n",
       "      <td>B</td>\n",
       "      <td>FFEFC0E55C1CCD4F</td>\n",
       "      <td>4</td>\n",
       "      <td>0</td>\n",
       "      <td>0</td>\n",
       "      <td>0</td>\n",
       "      <td>0.0</td>\n",
       "      <td>NaN</td>\n",
       "      <td>NaN</td>\n",
       "    </tr>\n",
       "    <tr>\n",
       "      <th>13636</th>\n",
       "      <td>B</td>\n",
       "      <td>FFF28D02B1EACBE1</td>\n",
       "      <td>3</td>\n",
       "      <td>3</td>\n",
       "      <td>3</td>\n",
       "      <td>0</td>\n",
       "      <td>1.0</td>\n",
       "      <td>1.0</td>\n",
       "      <td>0.0</td>\n",
       "    </tr>\n",
       "    <tr>\n",
       "      <th>13637</th>\n",
       "      <td>B</td>\n",
       "      <td>FFF58BC33966EB51</td>\n",
       "      <td>3</td>\n",
       "      <td>0</td>\n",
       "      <td>0</td>\n",
       "      <td>0</td>\n",
       "      <td>0.0</td>\n",
       "      <td>NaN</td>\n",
       "      <td>NaN</td>\n",
       "    </tr>\n",
       "  </tbody>\n",
       "</table>\n",
       "<p>13638 rows × 9 columns</p>\n",
       "</div>"
      ],
      "text/plain": [
       "event_name group           user_id  login  product_cart  product_page  \\\n",
       "0              A  0002CE61FF2C4011      4             4             4   \n",
       "1              A  0010A1C096941592      4             0             4   \n",
       "2              A  002412F1EB3F6E38      3             0             3   \n",
       "3              A  002540BE89C930FB      3             3             3   \n",
       "4              A  003346BB64227D0C      3             0             0   \n",
       "...          ...               ...    ...           ...           ...   \n",
       "13633          B  FFE5B14BD55C1C5C      1             1             0   \n",
       "13634          B  FFE7FC140521F5F6      4             4             4   \n",
       "13635          B  FFEFC0E55C1CCD4F      4             0             0   \n",
       "13636          B  FFF28D02B1EACBE1      3             3             3   \n",
       "13637          B  FFF58BC33966EB51      3             0             0   \n",
       "\n",
       "event_name  purchase  login_to_page_ratio  page_to_cart_ratio  \\\n",
       "0                  0                  1.0                 1.0   \n",
       "1                  4                  1.0                 0.0   \n",
       "2                  0                  1.0                 0.0   \n",
       "3                  0                  1.0                 1.0   \n",
       "4                  0                  0.0                 NaN   \n",
       "...              ...                  ...                 ...   \n",
       "13633              0                  0.0                 inf   \n",
       "13634              4                  1.0                 1.0   \n",
       "13635              0                  0.0                 NaN   \n",
       "13636              0                  1.0                 1.0   \n",
       "13637              0                  0.0                 NaN   \n",
       "\n",
       "event_name  cart_to_purchase_ratio  \n",
       "0                              0.0  \n",
       "1                              inf  \n",
       "2                              NaN  \n",
       "3                              0.0  \n",
       "4                              NaN  \n",
       "...                            ...  \n",
       "13633                          0.0  \n",
       "13634                          1.0  \n",
       "13635                          NaN  \n",
       "13636                          0.0  \n",
       "13637                          NaN  \n",
       "\n",
       "[13638 rows x 9 columns]"
      ]
     },
     "execution_count": 42,
     "metadata": {},
     "output_type": "execute_result"
    }
   ],
   "source": [
    "#getting conversion proportions of each user\n",
    "conver_user = complete_merge.groupby(['group','user_id','event_name']).size().unstack(fill_value=0).reset_index()\n",
    "conver_user['login_to_page_ratio'] = conver_user['product_page']/conver_user['login']\n",
    "conver_user['page_to_cart_ratio'] = conver_user['product_cart']/conver_user['product_page']\n",
    "conver_user['cart_to_purchase_ratio'] = conver_user['purchase']/conver_user['product_cart']\n",
    "conver_user"
   ]
  },
  {
   "cell_type": "code",
   "execution_count": 43,
   "metadata": {},
   "outputs": [],
   "source": [
    "#creating chi-test function\n",
    "def chi_test_calculator(events,data):\n",
    "    for event in events:\n",
    "        table = data[data['event_name']==event]\n",
    "        cont_table = table.pivot(index='group',columns='event_name',values=['performed','not_performed','proportion'])\n",
    "        chi2,p,dof,ex = chi2_contingency(cont_table)\n",
    "        print(f\"For the event {event} the chi2={chi2} and the p-value={p}.\")"
   ]
  },
  {
   "cell_type": "code",
   "execution_count": 44,
   "metadata": {},
   "outputs": [],
   "source": [
    "events = ['login','product_page','purchase','product_cart']"
   ]
  },
  {
   "cell_type": "markdown",
   "metadata": {},
   "source": [
    "## A/B Test Analysis\n",
    "<div id='AB'></div> <br>"
   ]
  },
  {
   "cell_type": "markdown",
   "metadata": {},
   "source": [
    "Checking whether there is a statistically significant difference between the controlled group (A) and the test group (B)."
   ]
  },
  {
   "cell_type": "code",
   "execution_count": 45,
   "metadata": {},
   "outputs": [
    {
     "name": "stdout",
     "output_type": "stream",
     "text": [
      "For the event login the chi2=0.0772972878891153 and the p-value=0.9620886854533853.\n",
      "For the event product_page the chi2=6.521171779906801 and the p-value=0.038365913228275705.\n",
      "For the event purchase the chi2=4.577276062162697 and the p-value=0.10140447759266903.\n",
      "For the event product_cart the chi2=2.9812250444954356 and the p-value=0.22523465204331414.\n"
     ]
    }
   ],
   "source": [
    "#calculating chi test\n",
    "chi_test_calculator(events,group_users)"
   ]
  },
  {
   "cell_type": "markdown",
   "metadata": {},
   "source": [
    "Comment:\n",
    "\n",
    "Null hypothesis: There is a significant difference between the event between groups A and B.\n",
    "\n",
    "Alternative hypothesis: There is no significant difference between the event between groups A and B. \n",
    "\n",
    "Based on the chi test performed on all the events above the null hypothesis is rejected for all events as the p-values for all the events is larger than 0.05."
   ]
  },
  {
   "cell_type": "markdown",
   "metadata": {},
   "source": [
    "Using a z-test to check the statistical difference between the proportions."
   ]
  },
  {
   "cell_type": "code",
   "execution_count": 46,
   "metadata": {},
   "outputs": [],
   "source": [
    "#creating z test function\n",
    "def z_test_proportions(p_A,n_A,p_B,n_B):\n",
    "    x_A = p_A * n_A\n",
    "    x_B = p_B * n_B\n",
    "    p_pooled = (x_A + x_B)/(n_A + n_B)\n",
    "    standard_error = math.sqrt(p_pooled*(1 - p_pooled)*(1/n_A + 1/n_B))\n",
    "    z = (p_A - p_B)/ standard_error\n",
    "    p_value = 2*(1-norm.cdf(abs(z)))\n",
    "    return z, p_value"
   ]
  },
  {
   "cell_type": "code",
   "execution_count": 47,
   "metadata": {},
   "outputs": [
    {
     "data": {
      "text/html": [
       "<div>\n",
       "<style scoped>\n",
       "    .dataframe tbody tr th:only-of-type {\n",
       "        vertical-align: middle;\n",
       "    }\n",
       "\n",
       "    .dataframe tbody tr th {\n",
       "        vertical-align: top;\n",
       "    }\n",
       "\n",
       "    .dataframe thead th {\n",
       "        text-align: right;\n",
       "    }\n",
       "</style>\n",
       "<table border=\"1\" class=\"dataframe\">\n",
       "  <thead>\n",
       "    <tr style=\"text-align: right;\">\n",
       "      <th></th>\n",
       "      <th>event</th>\n",
       "      <th>z</th>\n",
       "      <th>p_value</th>\n",
       "    </tr>\n",
       "  </thead>\n",
       "  <tbody>\n",
       "    <tr>\n",
       "      <th>0</th>\n",
       "      <td>login</td>\n",
       "      <td>0.196630</td>\n",
       "      <td>0.844117</td>\n",
       "    </tr>\n",
       "    <tr>\n",
       "      <th>1</th>\n",
       "      <td>product_page</td>\n",
       "      <td>2.549804</td>\n",
       "      <td>0.010778</td>\n",
       "    </tr>\n",
       "    <tr>\n",
       "      <th>2</th>\n",
       "      <td>purchase</td>\n",
       "      <td>2.137481</td>\n",
       "      <td>0.032559</td>\n",
       "    </tr>\n",
       "    <tr>\n",
       "      <th>3</th>\n",
       "      <td>product_cart</td>\n",
       "      <td>-1.721781</td>\n",
       "      <td>0.085109</td>\n",
       "    </tr>\n",
       "  </tbody>\n",
       "</table>\n",
       "</div>"
      ],
      "text/plain": [
       "          event         z   p_value\n",
       "0         login  0.196630  0.844117\n",
       "1  product_page  2.549804  0.010778\n",
       "2      purchase  2.137481  0.032559\n",
       "3  product_cart -1.721781  0.085109"
      ]
     },
     "execution_count": 47,
     "metadata": {},
     "output_type": "execute_result"
    }
   ],
   "source": [
    "#splitting group_users into groups A and B\n",
    "groupA = group_users[group_users['group'] == 'A']\n",
    "groupB = group_users[group_users['group'] == 'B']\n",
    "\n",
    "#completing z-test for each event\n",
    "results = []\n",
    "for event in groupA['event_name'].unique():\n",
    "    row_A = groupA[groupA['event_name'] == event].iloc[0]\n",
    "    row_B = groupB[groupB['event_name'] == event].iloc[0]\n",
    "    \n",
    "    z, p_value = z_test_proportions(row_A['proportion'], row_A['total_users'], row_B['proportion'], row_B['total_users'])\n",
    "    results.append({'event': event, 'z': z, 'p_value': p_value})\n",
    "\n",
    "results_df = pd.DataFrame(results)\n",
    "results_df"
   ]
  },
  {
   "cell_type": "markdown",
   "metadata": {},
   "source": [
    "Null hypothesis: There is a significant difference between the proportions of the event betweenn groups A and B.\n",
    "\n",
    "Alternative hypothesis: There is no significant difference between the proportions of the event betweenn groups A and B."
   ]
  },
  {
   "cell_type": "markdown",
   "metadata": {},
   "source": [
    "- Login: There is no statistically significant difference between the proportions of users logging in between Group A and Group B as the p-value is greater than 0.05\n",
    "<br>\n",
    "- Product Page: There is a statistically significant difference between the proportions of users visiting the product page between Group A and Group B as the p-value is less than 0.05\n",
    "<br>\n",
    "- Purchase: There is a statistically significant difference between the proportions of users making purchases between Group A and Group B as the p-value is less than 0.05\n",
    "<br>\n",
    "- Product Cart: There is no statistically significant difference between the proportions of users logging in between Group A and Group B as the p-value is greater than 0.05"
   ]
  },
  {
   "cell_type": "markdown",
   "metadata": {},
   "source": [
    "Investigating whether there is a statistical significance by conducting a t-test for users converstion rations from product page to product cart and product cart to purchase."
   ]
  },
  {
   "cell_type": "code",
   "execution_count": 48,
   "metadata": {},
   "outputs": [
    {
     "name": "stdout",
     "output_type": "stream",
     "text": [
      "T-statistic: -1.7114945019704553 and P-value: 0.08702462495594591\n"
     ]
    }
   ],
   "source": [
    "#grouping page to cart ratio\n",
    "tgroup_A = conver_user[conver_user['group']=='A']['page_to_cart_ratio']\n",
    "tgroup_B = conver_user[conver_user['group']=='B']['page_to_cart_ratio']\n",
    "#perform the t-test\n",
    "t_stat, p_value = ttest_ind(tgroup_A, tgroup_B, nan_policy='omit')\n",
    "\n",
    "print(f\"T-statistic: {t_stat} and P-value: {p_value}\")"
   ]
  },
  {
   "cell_type": "markdown",
   "metadata": {},
   "source": [
    "Null hypothesis: There is a significant difference between the ratios of users moving from product page to product cart between groups A and B.\n",
    "\n",
    "Alternative hypothesis: There is no significant difference between the ratios of users moving from product page to product cart between groups A and B."
   ]
  },
  {
   "cell_type": "markdown",
   "metadata": {},
   "source": [
    "For the t-test above there is no statistical significance of users moving from product page to product cart as the p-value is slightly greater than 0.05."
   ]
  },
  {
   "cell_type": "code",
   "execution_count": 49,
   "metadata": {},
   "outputs": [
    {
     "name": "stdout",
     "output_type": "stream",
     "text": [
      "T-statistic: 0.502685242170954 and P-value: 0.6152107912368072\n"
     ]
    }
   ],
   "source": [
    "#grouping page to cart ratio\n",
    "tgroup_A = conver_user[conver_user['group']=='A']['cart_to_purchase_ratio']\n",
    "tgroup_B = conver_user[conver_user['group']=='B']['cart_to_purchase_ratio']\n",
    "#perform the t-test\n",
    "t_stat, p_value = ttest_ind(tgroup_A, tgroup_B, nan_policy='omit')\n",
    "\n",
    "print(f\"T-statistic: {t_stat} and P-value: {p_value}\")"
   ]
  },
  {
   "cell_type": "markdown",
   "metadata": {},
   "source": [
    "Null hypothesis: There is a significant difference between the ratios of users moving from product cart to purchase between groups A and B.\n",
    "\n",
    "Alternative hypothesis: There is no significant difference between the ratios of users moving from product cart to purchase between groups A and B."
   ]
  },
  {
   "cell_type": "markdown",
   "metadata": {},
   "source": [
    "For the t-test above there is no statistical significance of users moving from product cart to purchase as the p-value is greater than 0.05."
   ]
  },
  {
   "cell_type": "markdown",
   "metadata": {},
   "source": [
    "## Conclusions and Recommendations\n",
    "<div id='conrec'></div>"
   ]
  },
  {
   "cell_type": "markdown",
   "metadata": {},
   "source": [
    "The A/B test analysis was conducted to evaluate the impact of a new recommendation system on user conversion rates. The analysis involved comparing the existing payment funnel (control group A) with a new payment funnel integrated with the improved recommendation system (test group B). From the chi-square test and z-test it was observed that for the:<br>\n",
    "- login event there was no statisical significance between group A and B as the chi-square test yielded a p-value of 0.866 and the z-test yielded a value of 0.972. Both being greater than 0.05. <br>\n",
    "- product page event there was a statisical significance between group A and B as the chi-square test yielded a p-value of 0.062 and the z-test yielded a value of 0.018. Both being less than 0.05. <br>\n",
    "- purchase event there was a statisical significance between group A and B as the chi-square test yielded a p-value of 0.104 and the z-test yielded a value of 0.034. Though the chi-square test p-value was above 0.05 the p-value from the z-test which is less than 0.05 will conclude the hypothesis as being statistically significant. <br>\n",
    "- product cart event there was no statisical significance between group A and B as the chi-square test yielded a p-value of 0.262 and the z-test yielded a value of 0.102. Both being greater than 0.05. <br>\n",
    "<br>\n",
    "Given the improvement in user engagement on the product page and purchase page, it is recommended that the new system be implemented. As the analysis suggests that the new system drives interest and improves conversion rate. The marketing team should investigate why users are not adding their products to the cart in the new system. The markering team can look to improve the login event as this might improve post-login user journey."
   ]
  }
 ],
 "metadata": {
  "ExecuteTimeLog": [
   {
    "duration": 4972,
    "start_time": "2024-06-17T17:33:42.174Z"
   },
   {
    "duration": 1462,
    "start_time": "2024-06-17T17:43:38.742Z"
   },
   {
    "duration": 693,
    "start_time": "2024-06-17T17:44:03.505Z"
   },
   {
    "duration": 16,
    "start_time": "2024-06-17T17:44:10.880Z"
   },
   {
    "duration": 17,
    "start_time": "2024-06-17T17:44:19.131Z"
   },
   {
    "duration": 22,
    "start_time": "2024-06-17T17:44:31.569Z"
   },
   {
    "duration": 14,
    "start_time": "2024-06-17T17:44:39.742Z"
   },
   {
    "duration": 9,
    "start_time": "2024-06-17T18:35:55.670Z"
   },
   {
    "duration": 25,
    "start_time": "2024-06-17T18:36:06.287Z"
   },
   {
    "duration": 80,
    "start_time": "2024-06-17T18:40:52.465Z"
   },
   {
    "duration": 512,
    "start_time": "2024-06-17T19:05:57.458Z"
   },
   {
    "duration": 34,
    "start_time": "2024-06-17T19:10:57.008Z"
   },
   {
    "duration": 7,
    "start_time": "2024-06-17T19:18:15.390Z"
   },
   {
    "duration": 18,
    "start_time": "2024-06-17T19:18:23.663Z"
   },
   {
    "duration": 30,
    "start_time": "2024-06-17T19:20:07.772Z"
   },
   {
    "duration": 114,
    "start_time": "2024-06-17T19:25:05.471Z"
   },
   {
    "duration": 16,
    "start_time": "2024-06-17T19:29:01.097Z"
   },
   {
    "duration": 24,
    "start_time": "2024-06-17T19:33:44.675Z"
   },
   {
    "duration": 49,
    "start_time": "2024-06-17T19:33:51.811Z"
   },
   {
    "duration": 748,
    "start_time": "2024-06-17T19:36:05.151Z"
   },
   {
    "duration": 6,
    "start_time": "2024-06-17T19:38:27.670Z"
   },
   {
    "duration": 52,
    "start_time": "2024-06-17T19:38:34.678Z"
   },
   {
    "duration": 35,
    "start_time": "2024-06-17T19:44:18.465Z"
   },
   {
    "duration": 57,
    "start_time": "2024-06-17T19:44:40.529Z"
   },
   {
    "duration": 49,
    "start_time": "2024-06-17T19:46:03.208Z"
   },
   {
    "duration": 63,
    "start_time": "2024-06-17T19:50:01.683Z"
   },
   {
    "duration": 350,
    "start_time": "2024-06-18T09:33:49.099Z"
   },
   {
    "duration": 5301,
    "start_time": "2024-06-18T09:33:57.604Z"
   },
   {
    "duration": 691,
    "start_time": "2024-06-18T09:34:02.908Z"
   },
   {
    "duration": 32,
    "start_time": "2024-06-18T09:34:03.602Z"
   },
   {
    "duration": 105,
    "start_time": "2024-06-18T09:34:03.637Z"
   },
   {
    "duration": 433,
    "start_time": "2024-06-18T09:34:03.748Z"
   },
   {
    "duration": 41,
    "start_time": "2024-06-18T09:34:04.185Z"
   },
   {
    "duration": 18,
    "start_time": "2024-06-18T09:34:04.229Z"
   },
   {
    "duration": 63,
    "start_time": "2024-06-18T09:34:04.251Z"
   },
   {
    "duration": 156,
    "start_time": "2024-06-18T09:34:04.316Z"
   },
   {
    "duration": 60,
    "start_time": "2024-06-18T09:34:04.476Z"
   },
   {
    "duration": 36,
    "start_time": "2024-06-18T09:34:04.539Z"
   },
   {
    "duration": 70,
    "start_time": "2024-06-18T09:34:04.578Z"
   },
   {
    "duration": 58,
    "start_time": "2024-06-18T09:34:04.651Z"
   },
   {
    "duration": 5131,
    "start_time": "2024-06-18T18:58:19.629Z"
   },
   {
    "duration": 682,
    "start_time": "2024-06-18T18:58:24.764Z"
   },
   {
    "duration": 29,
    "start_time": "2024-06-18T18:58:25.448Z"
   },
   {
    "duration": 90,
    "start_time": "2024-06-18T18:58:25.481Z"
   },
   {
    "duration": 432,
    "start_time": "2024-06-18T18:58:25.575Z"
   },
   {
    "duration": 39,
    "start_time": "2024-06-18T18:58:26.010Z"
   },
   {
    "duration": 17,
    "start_time": "2024-06-18T18:58:26.052Z"
   },
   {
    "duration": 62,
    "start_time": "2024-06-18T18:58:26.073Z"
   },
   {
    "duration": 181,
    "start_time": "2024-06-18T18:58:26.138Z"
   },
   {
    "duration": 39,
    "start_time": "2024-06-18T18:58:26.332Z"
   },
   {
    "duration": 57,
    "start_time": "2024-06-18T18:58:26.373Z"
   },
   {
    "duration": 51,
    "start_time": "2024-06-18T18:58:26.433Z"
   },
   {
    "duration": 4,
    "start_time": "2024-06-18T18:58:26.486Z"
   },
   {
    "duration": 437,
    "start_time": "2024-06-18T19:04:47.719Z"
   },
   {
    "duration": 35,
    "start_time": "2024-06-18T19:05:19.836Z"
   },
   {
    "duration": 36,
    "start_time": "2024-06-18T19:06:20.341Z"
   },
   {
    "duration": 257,
    "start_time": "2024-06-18T19:06:48.249Z"
   },
   {
    "duration": 249,
    "start_time": "2024-06-18T19:42:14.069Z"
   },
   {
    "duration": 243,
    "start_time": "2024-06-18T19:42:25.674Z"
   },
   {
    "duration": 230,
    "start_time": "2024-06-18T19:42:33.336Z"
   },
   {
    "duration": 103,
    "start_time": "2024-06-18T19:45:55.063Z"
   },
   {
    "duration": 103,
    "start_time": "2024-06-18T19:48:09.794Z"
   },
   {
    "duration": 17,
    "start_time": "2024-06-18T20:04:01.700Z"
   },
   {
    "duration": 81,
    "start_time": "2024-06-18T20:04:46.792Z"
   },
   {
    "duration": 23,
    "start_time": "2024-06-18T20:08:18.757Z"
   },
   {
    "duration": 237,
    "start_time": "2024-06-18T20:08:28.067Z"
   },
   {
    "duration": 1295,
    "start_time": "2024-06-18T20:10:57.561Z"
   },
   {
    "duration": 630,
    "start_time": "2024-06-18T20:10:58.859Z"
   },
   {
    "duration": 39,
    "start_time": "2024-06-18T20:10:59.491Z"
   },
   {
    "duration": 77,
    "start_time": "2024-06-18T20:10:59.535Z"
   },
   {
    "duration": 425,
    "start_time": "2024-06-18T20:10:59.631Z"
   },
   {
    "duration": 33,
    "start_time": "2024-06-18T20:11:00.059Z"
   },
   {
    "duration": 42,
    "start_time": "2024-06-18T20:11:00.094Z"
   },
   {
    "duration": 31,
    "start_time": "2024-06-18T20:11:00.139Z"
   },
   {
    "duration": 180,
    "start_time": "2024-06-18T20:11:00.175Z"
   },
   {
    "duration": 39,
    "start_time": "2024-06-18T20:11:00.359Z"
   },
   {
    "duration": 55,
    "start_time": "2024-06-18T20:11:00.401Z"
   },
   {
    "duration": 51,
    "start_time": "2024-06-18T20:11:00.458Z"
   },
   {
    "duration": 260,
    "start_time": "2024-06-18T20:11:00.532Z"
   },
   {
    "duration": 198,
    "start_time": "2024-06-18T20:11:00.796Z"
   },
   {
    "duration": 97,
    "start_time": "2024-06-18T20:11:00.997Z"
   },
   {
    "duration": 16,
    "start_time": "2024-06-18T20:11:01.097Z"
   },
   {
    "duration": 258,
    "start_time": "2024-06-18T20:12:27.884Z"
   },
   {
    "duration": 259,
    "start_time": "2024-06-18T20:12:52.186Z"
   },
   {
    "duration": 102,
    "start_time": "2024-06-18T20:13:19.818Z"
   },
   {
    "duration": 1080,
    "start_time": "2024-06-18T20:13:35.275Z"
   },
   {
    "duration": 0,
    "start_time": "2024-06-18T20:13:36.358Z"
   },
   {
    "duration": 231,
    "start_time": "2024-06-18T20:14:17.199Z"
   },
   {
    "duration": 104,
    "start_time": "2024-06-18T20:14:24.711Z"
   },
   {
    "duration": 1306,
    "start_time": "2024-06-18T20:15:08.200Z"
   },
   {
    "duration": 81,
    "start_time": "2024-06-18T20:15:22.752Z"
   },
   {
    "duration": 64,
    "start_time": "2024-06-18T20:15:32.138Z"
   },
   {
    "duration": 23,
    "start_time": "2024-06-18T20:16:06.598Z"
   },
   {
    "duration": 9,
    "start_time": "2024-06-18T20:17:34.671Z"
   },
   {
    "duration": 16,
    "start_time": "2024-06-18T20:20:15.225Z"
   },
   {
    "duration": 530,
    "start_time": "2024-06-18T20:21:28.722Z"
   },
   {
    "duration": 27,
    "start_time": "2024-06-18T20:21:44.348Z"
   },
   {
    "duration": 31,
    "start_time": "2024-06-18T20:49:36.610Z"
   },
   {
    "duration": 6,
    "start_time": "2024-06-18T20:51:37.547Z"
   },
   {
    "duration": 951,
    "start_time": "2024-06-18T20:53:21.058Z"
   },
   {
    "duration": 2420,
    "start_time": "2024-06-18T20:54:08.894Z"
   },
   {
    "duration": 908,
    "start_time": "2024-06-18T20:54:29.110Z"
   },
   {
    "duration": 1025,
    "start_time": "2024-06-18T20:54:39.783Z"
   },
   {
    "duration": 942,
    "start_time": "2024-06-18T20:54:50.055Z"
   },
   {
    "duration": 31,
    "start_time": "2024-06-18T21:00:54.046Z"
   },
   {
    "duration": 28,
    "start_time": "2024-06-18T21:01:27.615Z"
   },
   {
    "duration": 35,
    "start_time": "2024-06-18T21:01:51.427Z"
   },
   {
    "duration": 26,
    "start_time": "2024-06-18T21:08:58.672Z"
   },
   {
    "duration": 27,
    "start_time": "2024-06-18T21:10:49.135Z"
   },
   {
    "duration": 32,
    "start_time": "2024-06-18T21:10:54.282Z"
   },
   {
    "duration": 59,
    "start_time": "2024-06-18T21:16:27.807Z"
   },
   {
    "duration": 59,
    "start_time": "2024-06-18T21:19:58.692Z"
   },
   {
    "duration": 67,
    "start_time": "2024-06-18T21:20:09.714Z"
   },
   {
    "duration": 37,
    "start_time": "2024-06-18T21:20:46.405Z"
   },
   {
    "duration": 37,
    "start_time": "2024-06-18T21:21:30.429Z"
   },
   {
    "duration": 44,
    "start_time": "2024-06-18T21:27:39.908Z"
   },
   {
    "duration": 61,
    "start_time": "2024-06-18T21:28:37.388Z"
   },
   {
    "duration": 51,
    "start_time": "2024-06-18T21:28:48.048Z"
   },
   {
    "duration": 56,
    "start_time": "2024-06-18T21:29:25.285Z"
   },
   {
    "duration": 41,
    "start_time": "2024-06-18T21:29:56.326Z"
   },
   {
    "duration": 51,
    "start_time": "2024-06-18T21:31:12.601Z"
   },
   {
    "duration": 39,
    "start_time": "2024-06-18T21:31:13.207Z"
   },
   {
    "duration": 36,
    "start_time": "2024-06-18T21:40:58.910Z"
   },
   {
    "duration": 36,
    "start_time": "2024-06-18T21:41:27.564Z"
   },
   {
    "duration": 44,
    "start_time": "2024-06-18T21:42:29.582Z"
   },
   {
    "duration": 38,
    "start_time": "2024-06-18T21:44:45.073Z"
   },
   {
    "duration": 27,
    "start_time": "2024-06-18T21:45:27.888Z"
   },
   {
    "duration": 15,
    "start_time": "2024-06-18T21:45:35.165Z"
   },
   {
    "duration": 16,
    "start_time": "2024-06-18T21:45:44.673Z"
   },
   {
    "duration": 16,
    "start_time": "2024-06-18T21:46:38.122Z"
   },
   {
    "duration": 18,
    "start_time": "2024-06-18T21:47:28.483Z"
   },
   {
    "duration": 16,
    "start_time": "2024-06-18T21:47:54.471Z"
   },
   {
    "duration": 18,
    "start_time": "2024-06-18T22:02:32.981Z"
   },
   {
    "duration": 12,
    "start_time": "2024-06-18T22:07:57.826Z"
   },
   {
    "duration": 11,
    "start_time": "2024-06-18T22:09:32.903Z"
   },
   {
    "duration": 13,
    "start_time": "2024-06-18T22:13:01.023Z"
   },
   {
    "duration": 14,
    "start_time": "2024-06-18T22:13:17.063Z"
   },
   {
    "duration": 12,
    "start_time": "2024-06-18T22:14:14.131Z"
   },
   {
    "duration": 28,
    "start_time": "2024-06-18T22:28:31.536Z"
   },
   {
    "duration": 6,
    "start_time": "2024-06-18T22:29:20.722Z"
   },
   {
    "duration": 84,
    "start_time": "2024-06-18T22:29:35.490Z"
   },
   {
    "duration": 93,
    "start_time": "2024-06-18T22:29:52.651Z"
   },
   {
    "duration": 82,
    "start_time": "2024-06-18T22:30:01.787Z"
   },
   {
    "duration": 102,
    "start_time": "2024-06-18T23:03:47.396Z"
   },
   {
    "duration": 52,
    "start_time": "2024-06-18T23:03:56.867Z"
   },
   {
    "duration": 56,
    "start_time": "2024-06-18T23:07:57.632Z"
   },
   {
    "duration": 37,
    "start_time": "2024-06-18T23:08:50.779Z"
   },
   {
    "duration": 1537,
    "start_time": "2024-06-18T23:09:28.034Z"
   },
   {
    "duration": 785,
    "start_time": "2024-06-18T23:09:29.576Z"
   },
   {
    "duration": 43,
    "start_time": "2024-06-18T23:09:30.366Z"
   },
   {
    "duration": 119,
    "start_time": "2024-06-18T23:09:30.414Z"
   },
   {
    "duration": 466,
    "start_time": "2024-06-18T23:09:30.537Z"
   },
   {
    "duration": 46,
    "start_time": "2024-06-18T23:09:31.006Z"
   },
   {
    "duration": 18,
    "start_time": "2024-06-18T23:09:31.054Z"
   },
   {
    "duration": 76,
    "start_time": "2024-06-18T23:09:31.077Z"
   },
   {
    "duration": 169,
    "start_time": "2024-06-18T23:09:31.169Z"
   },
   {
    "duration": 46,
    "start_time": "2024-06-18T23:09:31.346Z"
   },
   {
    "duration": 47,
    "start_time": "2024-06-18T23:09:31.399Z"
   },
   {
    "duration": 54,
    "start_time": "2024-06-18T23:09:31.453Z"
   },
   {
    "duration": 396,
    "start_time": "2024-06-18T23:09:31.511Z"
   },
   {
    "duration": 337,
    "start_time": "2024-06-18T23:09:31.911Z"
   },
   {
    "duration": 145,
    "start_time": "2024-06-18T23:09:32.253Z"
   },
   {
    "duration": 35,
    "start_time": "2024-06-18T23:09:32.400Z"
   },
   {
    "duration": 33,
    "start_time": "2024-06-18T23:09:32.438Z"
   },
   {
    "duration": 65,
    "start_time": "2024-06-18T23:09:32.474Z"
   },
   {
    "duration": 38,
    "start_time": "2024-06-18T23:09:32.541Z"
   },
   {
    "duration": 7,
    "start_time": "2024-06-18T23:09:32.582Z"
   },
   {
    "duration": 1249,
    "start_time": "2024-06-18T23:09:32.593Z"
   },
   {
    "duration": 34,
    "start_time": "2024-06-18T23:09:33.851Z"
   },
   {
    "duration": 64,
    "start_time": "2024-06-18T23:09:33.889Z"
   },
   {
    "duration": 50,
    "start_time": "2024-06-18T23:09:33.956Z"
   },
   {
    "duration": 52,
    "start_time": "2024-06-18T23:09:34.009Z"
   },
   {
    "duration": 68,
    "start_time": "2024-06-18T23:09:34.065Z"
   },
   {
    "duration": 76,
    "start_time": "2024-06-18T23:09:34.137Z"
   },
   {
    "duration": 51,
    "start_time": "2024-06-18T23:09:34.221Z"
   },
   {
    "duration": 23,
    "start_time": "2024-06-18T23:09:34.276Z"
   },
   {
    "duration": 39,
    "start_time": "2024-06-18T23:09:34.302Z"
   },
   {
    "duration": 25,
    "start_time": "2024-06-18T23:09:34.344Z"
   },
   {
    "duration": 40,
    "start_time": "2024-06-18T23:09:34.373Z"
   },
   {
    "duration": 51,
    "start_time": "2024-06-18T23:09:34.416Z"
   },
   {
    "duration": 34,
    "start_time": "2024-06-18T23:09:34.471Z"
   },
   {
    "duration": 107,
    "start_time": "2024-06-18T23:09:34.513Z"
   },
   {
    "duration": 54,
    "start_time": "2024-06-18T23:09:34.635Z"
   },
   {
    "duration": 1359,
    "start_time": "2024-06-18T23:14:21.694Z"
   },
   {
    "duration": 37,
    "start_time": "2024-06-18T23:14:44.447Z"
   },
   {
    "duration": 15,
    "start_time": "2024-06-18T23:15:04.623Z"
   },
   {
    "duration": 1389,
    "start_time": "2024-06-18T23:15:35.967Z"
   },
   {
    "duration": 701,
    "start_time": "2024-06-18T23:15:37.359Z"
   },
   {
    "duration": 37,
    "start_time": "2024-06-18T23:15:38.063Z"
   },
   {
    "duration": 98,
    "start_time": "2024-06-18T23:15:38.107Z"
   },
   {
    "duration": 513,
    "start_time": "2024-06-18T23:15:38.211Z"
   },
   {
    "duration": 33,
    "start_time": "2024-06-18T23:15:38.731Z"
   },
   {
    "duration": 14,
    "start_time": "2024-06-18T23:15:38.767Z"
   },
   {
    "duration": 45,
    "start_time": "2024-06-18T23:15:38.785Z"
   },
   {
    "duration": 42,
    "start_time": "2024-06-18T23:15:38.834Z"
   },
   {
    "duration": 190,
    "start_time": "2024-06-18T23:15:38.886Z"
   },
   {
    "duration": 44,
    "start_time": "2024-06-18T23:15:39.082Z"
   },
   {
    "duration": 38,
    "start_time": "2024-06-18T23:15:39.128Z"
   },
   {
    "duration": 72,
    "start_time": "2024-06-18T23:15:39.171Z"
   },
   {
    "duration": 288,
    "start_time": "2024-06-18T23:15:39.246Z"
   },
   {
    "duration": 306,
    "start_time": "2024-06-18T23:15:39.542Z"
   },
   {
    "duration": 125,
    "start_time": "2024-06-18T23:15:39.851Z"
   },
   {
    "duration": 22,
    "start_time": "2024-06-18T23:15:39.979Z"
   },
   {
    "duration": 43,
    "start_time": "2024-06-18T23:15:40.004Z"
   },
   {
    "duration": 43,
    "start_time": "2024-06-18T23:15:40.050Z"
   },
   {
    "duration": 67,
    "start_time": "2024-06-18T23:15:40.097Z"
   },
   {
    "duration": 8,
    "start_time": "2024-06-18T23:15:40.167Z"
   },
   {
    "duration": 1109,
    "start_time": "2024-06-18T23:15:40.178Z"
   },
   {
    "duration": 40,
    "start_time": "2024-06-18T23:15:41.290Z"
   },
   {
    "duration": 28,
    "start_time": "2024-06-18T23:15:41.334Z"
   },
   {
    "duration": 65,
    "start_time": "2024-06-18T23:15:41.365Z"
   },
   {
    "duration": 38,
    "start_time": "2024-06-18T23:15:41.434Z"
   },
   {
    "duration": 66,
    "start_time": "2024-06-18T23:15:41.476Z"
   },
   {
    "duration": 51,
    "start_time": "2024-06-18T23:15:41.550Z"
   },
   {
    "duration": 65,
    "start_time": "2024-06-18T23:15:41.604Z"
   },
   {
    "duration": 21,
    "start_time": "2024-06-18T23:15:41.672Z"
   },
   {
    "duration": 40,
    "start_time": "2024-06-18T23:15:41.696Z"
   },
   {
    "duration": 24,
    "start_time": "2024-06-18T23:15:41.741Z"
   },
   {
    "duration": 22,
    "start_time": "2024-06-18T23:15:41.769Z"
   },
   {
    "duration": 43,
    "start_time": "2024-06-18T23:15:41.795Z"
   },
   {
    "duration": 25,
    "start_time": "2024-06-18T23:15:41.842Z"
   },
   {
    "duration": 110,
    "start_time": "2024-06-18T23:15:41.875Z"
   },
   {
    "duration": 76,
    "start_time": "2024-06-18T23:15:41.988Z"
   },
   {
    "duration": 402,
    "start_time": "2024-06-18T23:49:14.097Z"
   },
   {
    "duration": 669,
    "start_time": "2024-06-18T23:49:31.208Z"
   },
   {
    "duration": 74,
    "start_time": "2024-06-18T23:50:32.946Z"
   },
   {
    "duration": 50,
    "start_time": "2024-06-18T23:50:43.714Z"
   },
   {
    "duration": 57,
    "start_time": "2024-06-18T23:50:55.256Z"
   },
   {
    "duration": 40,
    "start_time": "2024-06-18T23:53:59.455Z"
   },
   {
    "duration": 72,
    "start_time": "2024-06-18T23:54:10.030Z"
   },
   {
    "duration": 53,
    "start_time": "2024-06-18T23:54:13.788Z"
   },
   {
    "duration": 55,
    "start_time": "2024-06-18T23:57:32.401Z"
   },
   {
    "duration": 4,
    "start_time": "2024-06-19T00:04:05.848Z"
   },
   {
    "duration": 6,
    "start_time": "2024-06-19T00:04:35.319Z"
   },
   {
    "duration": 4,
    "start_time": "2024-06-19T00:05:38.745Z"
   },
   {
    "duration": 819,
    "start_time": "2024-06-19T00:07:04.675Z"
   },
   {
    "duration": 51,
    "start_time": "2024-06-19T00:07:33.076Z"
   },
   {
    "duration": 7,
    "start_time": "2024-06-19T00:07:33.515Z"
   },
   {
    "duration": 4,
    "start_time": "2024-06-19T00:07:34.211Z"
   },
   {
    "duration": 51,
    "start_time": "2024-06-19T00:07:37.068Z"
   },
   {
    "duration": 5,
    "start_time": "2024-06-19T00:07:58.613Z"
   },
   {
    "duration": 5,
    "start_time": "2024-06-19T00:08:00.935Z"
   },
   {
    "duration": 33,
    "start_time": "2024-06-19T00:08:02.227Z"
   },
   {
    "duration": 5,
    "start_time": "2024-06-19T00:34:31.618Z"
   },
   {
    "duration": 6,
    "start_time": "2024-06-19T00:49:06.577Z"
   },
   {
    "duration": 5,
    "start_time": "2024-06-19T00:54:26.416Z"
   },
   {
    "duration": 5,
    "start_time": "2024-06-19T00:55:39.563Z"
   },
   {
    "duration": 5,
    "start_time": "2024-06-19T00:57:02.306Z"
   },
   {
    "duration": 30,
    "start_time": "2024-06-19T00:57:35.179Z"
   },
   {
    "duration": 249,
    "start_time": "2024-06-19T01:00:25.015Z"
   },
   {
    "duration": 58,
    "start_time": "2024-06-19T01:02:08.513Z"
   },
   {
    "duration": 5,
    "start_time": "2024-06-19T01:06:30.744Z"
   },
   {
    "duration": 23,
    "start_time": "2024-06-19T01:07:49.575Z"
   },
   {
    "duration": 1319,
    "start_time": "2024-06-19T01:37:12.427Z"
   },
   {
    "duration": 652,
    "start_time": "2024-06-19T01:37:13.749Z"
   },
   {
    "duration": 33,
    "start_time": "2024-06-19T01:37:14.404Z"
   },
   {
    "duration": 104,
    "start_time": "2024-06-19T01:37:14.444Z"
   },
   {
    "duration": 428,
    "start_time": "2024-06-19T01:37:14.551Z"
   },
   {
    "duration": 49,
    "start_time": "2024-06-19T01:37:14.983Z"
   },
   {
    "duration": 18,
    "start_time": "2024-06-19T01:37:15.038Z"
   },
   {
    "duration": 34,
    "start_time": "2024-06-19T01:37:15.060Z"
   },
   {
    "duration": 205,
    "start_time": "2024-06-19T01:37:15.097Z"
   },
   {
    "duration": 60,
    "start_time": "2024-06-19T01:37:15.309Z"
   },
   {
    "duration": 63,
    "start_time": "2024-06-19T01:37:15.372Z"
   },
   {
    "duration": 53,
    "start_time": "2024-06-19T01:37:15.437Z"
   },
   {
    "duration": 281,
    "start_time": "2024-06-19T01:37:15.494Z"
   },
   {
    "duration": 268,
    "start_time": "2024-06-19T01:37:15.778Z"
   },
   {
    "duration": 125,
    "start_time": "2024-06-19T01:37:16.049Z"
   },
   {
    "duration": 18,
    "start_time": "2024-06-19T01:37:16.177Z"
   },
   {
    "duration": 46,
    "start_time": "2024-06-19T01:37:16.199Z"
   },
   {
    "duration": 40,
    "start_time": "2024-06-19T01:37:16.248Z"
   },
   {
    "duration": 57,
    "start_time": "2024-06-19T01:37:16.291Z"
   },
   {
    "duration": 6,
    "start_time": "2024-06-19T01:37:16.351Z"
   },
   {
    "duration": 1013,
    "start_time": "2024-06-19T01:37:16.361Z"
   },
   {
    "duration": 30,
    "start_time": "2024-06-19T01:37:17.379Z"
   },
   {
    "duration": 44,
    "start_time": "2024-06-19T01:37:17.412Z"
   },
   {
    "duration": 39,
    "start_time": "2024-06-19T01:37:17.461Z"
   },
   {
    "duration": 56,
    "start_time": "2024-06-19T01:37:17.504Z"
   },
   {
    "duration": 74,
    "start_time": "2024-06-19T01:37:17.563Z"
   },
   {
    "duration": 60,
    "start_time": "2024-06-19T01:37:17.640Z"
   },
   {
    "duration": 64,
    "start_time": "2024-06-19T01:37:17.709Z"
   },
   {
    "duration": 18,
    "start_time": "2024-06-19T01:37:17.776Z"
   },
   {
    "duration": 45,
    "start_time": "2024-06-19T01:37:17.798Z"
   },
   {
    "duration": 19,
    "start_time": "2024-06-19T01:37:17.846Z"
   },
   {
    "duration": 16,
    "start_time": "2024-06-19T01:37:17.868Z"
   },
   {
    "duration": 45,
    "start_time": "2024-06-19T01:37:17.887Z"
   },
   {
    "duration": 14,
    "start_time": "2024-06-19T01:37:17.936Z"
   },
   {
    "duration": 114,
    "start_time": "2024-06-19T01:37:17.953Z"
   },
   {
    "duration": 44,
    "start_time": "2024-06-19T01:37:18.071Z"
   },
   {
    "duration": 58,
    "start_time": "2024-06-19T01:37:18.132Z"
   },
   {
    "duration": 70,
    "start_time": "2024-06-19T01:37:18.194Z"
   },
   {
    "duration": 8,
    "start_time": "2024-06-19T01:37:18.267Z"
   },
   {
    "duration": 4,
    "start_time": "2024-06-19T01:37:18.277Z"
   },
   {
    "duration": 52,
    "start_time": "2024-06-19T01:37:18.284Z"
   },
   {
    "duration": 6,
    "start_time": "2024-06-19T01:37:18.339Z"
   },
   {
    "duration": 25,
    "start_time": "2024-06-19T01:37:18.348Z"
   },
   {
    "duration": 306,
    "start_time": "2024-06-19T07:14:00.887Z"
   },
   {
    "duration": 5000,
    "start_time": "2024-06-19T07:14:19.063Z"
   },
   {
    "duration": 896,
    "start_time": "2024-06-19T07:14:24.066Z"
   },
   {
    "duration": 33,
    "start_time": "2024-06-19T07:14:24.965Z"
   },
   {
    "duration": 98,
    "start_time": "2024-06-19T07:14:25.003Z"
   },
   {
    "duration": 450,
    "start_time": "2024-06-19T07:14:25.104Z"
   },
   {
    "duration": 35,
    "start_time": "2024-06-19T07:14:25.557Z"
   },
   {
    "duration": 41,
    "start_time": "2024-06-19T07:14:25.596Z"
   },
   {
    "duration": 40,
    "start_time": "2024-06-19T07:14:25.641Z"
   },
   {
    "duration": 220,
    "start_time": "2024-06-19T07:14:25.684Z"
   },
   {
    "duration": 54,
    "start_time": "2024-06-19T07:14:25.910Z"
   },
   {
    "duration": 35,
    "start_time": "2024-06-19T07:14:25.967Z"
   },
   {
    "duration": 70,
    "start_time": "2024-06-19T07:14:26.005Z"
   },
   {
    "duration": 307,
    "start_time": "2024-06-19T07:14:26.079Z"
   },
   {
    "duration": 270,
    "start_time": "2024-06-19T07:14:26.390Z"
   },
   {
    "duration": 1007,
    "start_time": "2024-06-19T07:14:26.667Z"
   },
   {
    "duration": 273,
    "start_time": "2024-06-19T07:18:53.857Z"
   },
   {
    "duration": 242,
    "start_time": "2024-06-19T07:19:11.987Z"
   },
   {
    "duration": 208,
    "start_time": "2024-06-19T07:19:20.099Z"
   },
   {
    "duration": 207,
    "start_time": "2024-06-19T07:19:30.042Z"
   },
   {
    "duration": 4,
    "start_time": "2024-06-19T07:19:35.809Z"
   },
   {
    "duration": 1354,
    "start_time": "2024-06-19T07:26:00.723Z"
   },
   {
    "duration": 669,
    "start_time": "2024-06-19T07:26:02.080Z"
   },
   {
    "duration": 27,
    "start_time": "2024-06-19T07:26:02.752Z"
   },
   {
    "duration": 97,
    "start_time": "2024-06-19T07:26:02.783Z"
   },
   {
    "duration": 424,
    "start_time": "2024-06-19T07:26:02.883Z"
   },
   {
    "duration": 40,
    "start_time": "2024-06-19T07:26:03.310Z"
   },
   {
    "duration": 20,
    "start_time": "2024-06-19T07:26:03.353Z"
   },
   {
    "duration": 62,
    "start_time": "2024-06-19T07:26:03.377Z"
   },
   {
    "duration": 162,
    "start_time": "2024-06-19T07:26:03.443Z"
   },
   {
    "duration": 51,
    "start_time": "2024-06-19T07:26:03.611Z"
   },
   {
    "duration": 34,
    "start_time": "2024-06-19T07:26:03.665Z"
   },
   {
    "duration": 75,
    "start_time": "2024-06-19T07:26:03.702Z"
   },
   {
    "duration": 272,
    "start_time": "2024-06-19T07:26:03.779Z"
   },
   {
    "duration": 241,
    "start_time": "2024-06-19T07:26:04.054Z"
   },
   {
    "duration": 110,
    "start_time": "2024-06-19T07:26:04.298Z"
   },
   {
    "duration": 31,
    "start_time": "2024-06-19T07:26:04.411Z"
   },
   {
    "duration": 29,
    "start_time": "2024-06-19T07:26:04.445Z"
   },
   {
    "duration": 77,
    "start_time": "2024-06-19T07:26:04.478Z"
   },
   {
    "duration": 31,
    "start_time": "2024-06-19T07:26:04.559Z"
   },
   {
    "duration": 36,
    "start_time": "2024-06-19T07:26:04.594Z"
   },
   {
    "duration": 925,
    "start_time": "2024-06-19T07:26:04.633Z"
   },
   {
    "duration": 28,
    "start_time": "2024-06-19T07:26:05.561Z"
   },
   {
    "duration": 52,
    "start_time": "2024-06-19T07:26:05.593Z"
   },
   {
    "duration": 51,
    "start_time": "2024-06-19T07:26:05.650Z"
   },
   {
    "duration": 49,
    "start_time": "2024-06-19T07:26:05.705Z"
   },
   {
    "duration": 45,
    "start_time": "2024-06-19T07:26:05.757Z"
   },
   {
    "duration": 67,
    "start_time": "2024-06-19T07:26:05.804Z"
   },
   {
    "duration": 62,
    "start_time": "2024-06-19T07:26:05.880Z"
   },
   {
    "duration": 16,
    "start_time": "2024-06-19T07:26:05.945Z"
   },
   {
    "duration": 18,
    "start_time": "2024-06-19T07:26:05.966Z"
   },
   {
    "duration": 46,
    "start_time": "2024-06-19T07:26:05.986Z"
   },
   {
    "duration": 14,
    "start_time": "2024-06-19T07:26:06.036Z"
   },
   {
    "duration": 13,
    "start_time": "2024-06-19T07:26:06.052Z"
   },
   {
    "duration": 14,
    "start_time": "2024-06-19T07:26:06.069Z"
   },
   {
    "duration": 121,
    "start_time": "2024-06-19T07:26:06.086Z"
   },
   {
    "duration": 57,
    "start_time": "2024-06-19T07:26:06.211Z"
   },
   {
    "duration": 71,
    "start_time": "2024-06-19T07:26:06.271Z"
   },
   {
    "duration": 51,
    "start_time": "2024-06-19T07:26:06.344Z"
   },
   {
    "duration": 6,
    "start_time": "2024-06-19T07:26:06.398Z"
   },
   {
    "duration": 5,
    "start_time": "2024-06-19T07:26:06.430Z"
   },
   {
    "duration": 23,
    "start_time": "2024-06-19T07:26:06.438Z"
   },
   {
    "duration": 6,
    "start_time": "2024-06-19T07:26:06.464Z"
   },
   {
    "duration": 59,
    "start_time": "2024-06-19T07:26:06.473Z"
   },
   {
    "duration": 415,
    "start_time": "2024-06-19T09:42:23.687Z"
   },
   {
    "duration": 4882,
    "start_time": "2024-06-19T09:42:31.070Z"
   },
   {
    "duration": 684,
    "start_time": "2024-06-19T09:42:35.956Z"
   },
   {
    "duration": 33,
    "start_time": "2024-06-19T09:42:36.643Z"
   },
   {
    "duration": 92,
    "start_time": "2024-06-19T09:42:36.684Z"
   },
   {
    "duration": 432,
    "start_time": "2024-06-19T09:42:36.779Z"
   },
   {
    "duration": 32,
    "start_time": "2024-06-19T09:42:37.222Z"
   },
   {
    "duration": 152,
    "start_time": "2024-06-19T09:42:37.257Z"
   },
   {
    "duration": 11,
    "start_time": "2024-06-19T09:43:24.187Z"
   },
   {
    "duration": 42,
    "start_time": "2024-06-19T09:56:55.983Z"
   },
   {
    "duration": 328,
    "start_time": "2024-06-19T10:47:12.732Z"
   },
   {
    "duration": 5338,
    "start_time": "2024-06-19T10:47:22.042Z"
   },
   {
    "duration": 720,
    "start_time": "2024-06-19T10:47:27.384Z"
   },
   {
    "duration": 36,
    "start_time": "2024-06-19T10:47:28.107Z"
   },
   {
    "duration": 96,
    "start_time": "2024-06-19T10:47:28.147Z"
   },
   {
    "duration": 448,
    "start_time": "2024-06-19T10:47:28.246Z"
   },
   {
    "duration": 58,
    "start_time": "2024-06-19T10:47:28.697Z"
   },
   {
    "duration": 10,
    "start_time": "2024-06-19T10:47:28.758Z"
   },
   {
    "duration": 25,
    "start_time": "2024-06-19T10:47:28.772Z"
   },
   {
    "duration": 126,
    "start_time": "2024-06-19T10:51:05.694Z"
   },
   {
    "duration": 12,
    "start_time": "2024-06-19T10:52:17.070Z"
   },
   {
    "duration": 20,
    "start_time": "2024-06-19T10:52:25.561Z"
   },
   {
    "duration": 10,
    "start_time": "2024-06-19T10:52:45.192Z"
   },
   {
    "duration": 23,
    "start_time": "2024-06-19T10:52:51.807Z"
   },
   {
    "duration": 23,
    "start_time": "2024-06-19T10:53:09.920Z"
   },
   {
    "duration": 25,
    "start_time": "2024-06-19T10:54:32.947Z"
   },
   {
    "duration": 22,
    "start_time": "2024-06-19T10:54:45.832Z"
   },
   {
    "duration": 5,
    "start_time": "2024-06-19T10:55:19.692Z"
   },
   {
    "duration": 588,
    "start_time": "2024-06-19T10:55:19.700Z"
   },
   {
    "duration": 39,
    "start_time": "2024-06-19T10:55:20.291Z"
   },
   {
    "duration": 72,
    "start_time": "2024-06-19T10:55:20.333Z"
   },
   {
    "duration": 411,
    "start_time": "2024-06-19T10:55:20.409Z"
   },
   {
    "duration": 35,
    "start_time": "2024-06-19T10:55:20.825Z"
   },
   {
    "duration": 13,
    "start_time": "2024-06-19T10:55:20.864Z"
   },
   {
    "duration": 52,
    "start_time": "2024-06-19T10:55:20.880Z"
   },
   {
    "duration": 28,
    "start_time": "2024-06-19T10:55:26.365Z"
   },
   {
    "duration": 18,
    "start_time": "2024-06-19T10:55:30.762Z"
   },
   {
    "duration": 21,
    "start_time": "2024-06-19T10:55:41.238Z"
   },
   {
    "duration": 19,
    "start_time": "2024-06-19T10:57:49.566Z"
   },
   {
    "duration": 1298,
    "start_time": "2024-06-19T10:58:53.936Z"
   },
   {
    "duration": 621,
    "start_time": "2024-06-19T10:58:55.237Z"
   },
   {
    "duration": 48,
    "start_time": "2024-06-19T10:58:55.861Z"
   },
   {
    "duration": 115,
    "start_time": "2024-06-19T10:58:55.934Z"
   },
   {
    "duration": 438,
    "start_time": "2024-06-19T10:58:56.052Z"
   },
   {
    "duration": 49,
    "start_time": "2024-06-19T10:58:56.493Z"
   },
   {
    "duration": 9,
    "start_time": "2024-06-19T10:58:56.545Z"
   },
   {
    "duration": 26,
    "start_time": "2024-06-19T10:58:56.560Z"
   },
   {
    "duration": 56,
    "start_time": "2024-06-19T10:58:56.589Z"
   },
   {
    "duration": 20,
    "start_time": "2024-06-19T10:58:56.652Z"
   },
   {
    "duration": 57,
    "start_time": "2024-06-19T10:58:56.675Z"
   },
   {
    "duration": 164,
    "start_time": "2024-06-19T10:58:56.736Z"
   },
   {
    "duration": 59,
    "start_time": "2024-06-19T10:58:56.903Z"
   },
   {
    "duration": 44,
    "start_time": "2024-06-19T10:58:56.965Z"
   },
   {
    "duration": 73,
    "start_time": "2024-06-19T10:58:57.011Z"
   },
   {
    "duration": 272,
    "start_time": "2024-06-19T10:58:57.087Z"
   },
   {
    "duration": 259,
    "start_time": "2024-06-19T10:58:57.362Z"
   },
   {
    "duration": 129,
    "start_time": "2024-06-19T10:58:57.624Z"
   },
   {
    "duration": 19,
    "start_time": "2024-06-19T10:58:57.756Z"
   },
   {
    "duration": 27,
    "start_time": "2024-06-19T10:58:57.777Z"
   },
   {
    "duration": 59,
    "start_time": "2024-06-19T10:58:57.806Z"
   },
   {
    "duration": 28,
    "start_time": "2024-06-19T10:58:57.871Z"
   },
   {
    "duration": 7,
    "start_time": "2024-06-19T10:58:57.930Z"
   },
   {
    "duration": 936,
    "start_time": "2024-06-19T10:58:57.940Z"
   },
   {
    "duration": 25,
    "start_time": "2024-06-19T10:58:58.880Z"
   },
   {
    "duration": 46,
    "start_time": "2024-06-19T10:58:58.907Z"
   },
   {
    "duration": 36,
    "start_time": "2024-06-19T10:58:58.956Z"
   },
   {
    "duration": 39,
    "start_time": "2024-06-19T10:58:59.031Z"
   },
   {
    "duration": 71,
    "start_time": "2024-06-19T10:58:59.074Z"
   },
   {
    "duration": 46,
    "start_time": "2024-06-19T10:58:59.150Z"
   },
   {
    "duration": 70,
    "start_time": "2024-06-19T10:58:59.199Z"
   },
   {
    "duration": 18,
    "start_time": "2024-06-19T10:58:59.273Z"
   },
   {
    "duration": 38,
    "start_time": "2024-06-19T10:58:59.294Z"
   },
   {
    "duration": 17,
    "start_time": "2024-06-19T10:58:59.336Z"
   },
   {
    "duration": 14,
    "start_time": "2024-06-19T10:58:59.356Z"
   },
   {
    "duration": 15,
    "start_time": "2024-06-19T10:58:59.373Z"
   },
   {
    "duration": 49,
    "start_time": "2024-06-19T10:58:59.391Z"
   },
   {
    "duration": 107,
    "start_time": "2024-06-19T10:58:59.443Z"
   },
   {
    "duration": 44,
    "start_time": "2024-06-19T10:58:59.553Z"
   },
   {
    "duration": 74,
    "start_time": "2024-06-19T10:58:59.602Z"
   },
   {
    "duration": 66,
    "start_time": "2024-06-19T10:58:59.681Z"
   },
   {
    "duration": 11,
    "start_time": "2024-06-19T10:58:59.751Z"
   },
   {
    "duration": 4,
    "start_time": "2024-06-19T10:58:59.765Z"
   },
   {
    "duration": 26,
    "start_time": "2024-06-19T10:58:59.773Z"
   },
   {
    "duration": 34,
    "start_time": "2024-06-19T10:58:59.801Z"
   },
   {
    "duration": 29,
    "start_time": "2024-06-19T10:58:59.842Z"
   },
   {
    "duration": 1258,
    "start_time": "2024-06-19T11:01:12.011Z"
   },
   {
    "duration": 606,
    "start_time": "2024-06-19T11:01:13.273Z"
   },
   {
    "duration": 28,
    "start_time": "2024-06-19T11:01:13.882Z"
   },
   {
    "duration": 88,
    "start_time": "2024-06-19T11:01:13.912Z"
   },
   {
    "duration": 436,
    "start_time": "2024-06-19T11:01:14.007Z"
   },
   {
    "duration": 32,
    "start_time": "2024-06-19T11:01:14.447Z"
   },
   {
    "duration": 9,
    "start_time": "2024-06-19T11:01:14.482Z"
   },
   {
    "duration": 59,
    "start_time": "2024-06-19T11:01:14.494Z"
   },
   {
    "duration": 19,
    "start_time": "2024-06-19T11:01:14.556Z"
   },
   {
    "duration": 17,
    "start_time": "2024-06-19T11:01:14.578Z"
   },
   {
    "duration": 30,
    "start_time": "2024-06-19T11:01:14.632Z"
   },
   {
    "duration": 172,
    "start_time": "2024-06-19T11:01:14.665Z"
   },
   {
    "duration": 39,
    "start_time": "2024-06-19T11:01:14.839Z"
   },
   {
    "duration": 58,
    "start_time": "2024-06-19T11:01:14.885Z"
   },
   {
    "duration": 49,
    "start_time": "2024-06-19T11:01:14.946Z"
   },
   {
    "duration": 274,
    "start_time": "2024-06-19T11:01:14.998Z"
   },
   {
    "duration": 267,
    "start_time": "2024-06-19T11:01:15.276Z"
   },
   {
    "duration": 116,
    "start_time": "2024-06-19T11:01:15.546Z"
   },
   {
    "duration": 17,
    "start_time": "2024-06-19T11:01:15.665Z"
   },
   {
    "duration": 50,
    "start_time": "2024-06-19T11:01:15.685Z"
   },
   {
    "duration": 39,
    "start_time": "2024-06-19T11:01:15.737Z"
   },
   {
    "duration": 28,
    "start_time": "2024-06-19T11:01:15.779Z"
   },
   {
    "duration": 7,
    "start_time": "2024-06-19T11:01:15.831Z"
   },
   {
    "duration": 923,
    "start_time": "2024-06-19T11:01:15.841Z"
   },
   {
    "duration": 25,
    "start_time": "2024-06-19T11:01:16.767Z"
   },
   {
    "duration": 46,
    "start_time": "2024-06-19T11:01:16.794Z"
   },
   {
    "duration": 35,
    "start_time": "2024-06-19T11:01:16.843Z"
   },
   {
    "duration": 60,
    "start_time": "2024-06-19T11:01:16.881Z"
   },
   {
    "duration": 43,
    "start_time": "2024-06-19T11:01:16.944Z"
   },
   {
    "duration": 63,
    "start_time": "2024-06-19T11:01:16.990Z"
   },
   {
    "duration": 38,
    "start_time": "2024-06-19T11:01:17.056Z"
   },
   {
    "duration": 38,
    "start_time": "2024-06-19T11:01:17.097Z"
   },
   {
    "duration": 16,
    "start_time": "2024-06-19T11:01:17.138Z"
   },
   {
    "duration": 17,
    "start_time": "2024-06-19T11:01:17.157Z"
   },
   {
    "duration": 13,
    "start_time": "2024-06-19T11:01:17.176Z"
   },
   {
    "duration": 14,
    "start_time": "2024-06-19T11:01:17.232Z"
   },
   {
    "duration": 13,
    "start_time": "2024-06-19T11:01:17.249Z"
   },
   {
    "duration": 114,
    "start_time": "2024-06-19T11:01:17.265Z"
   },
   {
    "duration": 49,
    "start_time": "2024-06-19T11:01:17.382Z"
   },
   {
    "duration": 59,
    "start_time": "2024-06-19T11:01:17.435Z"
   },
   {
    "duration": 64,
    "start_time": "2024-06-19T11:01:17.503Z"
   },
   {
    "duration": 6,
    "start_time": "2024-06-19T11:01:17.569Z"
   },
   {
    "duration": 4,
    "start_time": "2024-06-19T11:01:17.578Z"
   },
   {
    "duration": 63,
    "start_time": "2024-06-19T11:01:17.585Z"
   },
   {
    "duration": 5,
    "start_time": "2024-06-19T11:01:17.651Z"
   },
   {
    "duration": 25,
    "start_time": "2024-06-19T11:01:17.659Z"
   },
   {
    "duration": 6,
    "start_time": "2024-06-19T11:22:29.942Z"
   },
   {
    "duration": 74,
    "start_time": "2024-06-19T11:23:01.952Z"
   },
   {
    "duration": 80,
    "start_time": "2024-06-19T11:24:01.478Z"
   },
   {
    "duration": 81,
    "start_time": "2024-06-19T11:24:25.654Z"
   },
   {
    "duration": 86,
    "start_time": "2024-06-19T11:32:54.685Z"
   },
   {
    "duration": 1225,
    "start_time": "2024-06-19T11:43:15.927Z"
   },
   {
    "duration": 97,
    "start_time": "2024-06-19T11:43:28.237Z"
   },
   {
    "duration": 81,
    "start_time": "2024-06-19T11:45:15.718Z"
   },
   {
    "duration": 77,
    "start_time": "2024-06-19T11:45:49.613Z"
   },
   {
    "duration": 83,
    "start_time": "2024-06-19T11:47:34.434Z"
   },
   {
    "duration": 18,
    "start_time": "2024-06-19T11:47:45.477Z"
   },
   {
    "duration": 27,
    "start_time": "2024-06-19T11:48:04.205Z"
   },
   {
    "duration": 29,
    "start_time": "2024-06-19T11:48:05.535Z"
   },
   {
    "duration": 86,
    "start_time": "2024-06-19T11:53:18.735Z"
   },
   {
    "duration": 27,
    "start_time": "2024-06-19T11:53:34.229Z"
   },
   {
    "duration": 82,
    "start_time": "2024-06-19T11:53:46.674Z"
   },
   {
    "duration": 30,
    "start_time": "2024-06-19T11:55:43.673Z"
   },
   {
    "duration": 93,
    "start_time": "2024-06-19T11:57:29.016Z"
   },
   {
    "duration": 91,
    "start_time": "2024-06-19T11:59:14.408Z"
   },
   {
    "duration": 103,
    "start_time": "2024-06-19T12:00:01.902Z"
   },
   {
    "duration": 83,
    "start_time": "2024-06-19T12:09:59.236Z"
   },
   {
    "duration": 95,
    "start_time": "2024-06-19T12:10:33.750Z"
   },
   {
    "duration": 12,
    "start_time": "2024-06-19T12:10:51.823Z"
   },
   {
    "duration": 6,
    "start_time": "2024-06-19T12:12:03.856Z"
   },
   {
    "duration": 12,
    "start_time": "2024-06-19T12:17:13.094Z"
   },
   {
    "duration": 14,
    "start_time": "2024-06-19T12:17:13.941Z"
   },
   {
    "duration": 16,
    "start_time": "2024-06-19T12:17:53.153Z"
   },
   {
    "duration": 15,
    "start_time": "2024-06-19T12:18:04.351Z"
   },
   {
    "duration": 1391,
    "start_time": "2024-06-19T12:33:45.269Z"
   },
   {
    "duration": 709,
    "start_time": "2024-06-19T12:33:46.664Z"
   },
   {
    "duration": 31,
    "start_time": "2024-06-19T12:33:47.378Z"
   },
   {
    "duration": 120,
    "start_time": "2024-06-19T12:33:47.412Z"
   },
   {
    "duration": 466,
    "start_time": "2024-06-19T12:33:47.539Z"
   },
   {
    "duration": 48,
    "start_time": "2024-06-19T12:33:48.008Z"
   },
   {
    "duration": 11,
    "start_time": "2024-06-19T12:33:48.060Z"
   },
   {
    "duration": 28,
    "start_time": "2024-06-19T12:33:48.074Z"
   },
   {
    "duration": 21,
    "start_time": "2024-06-19T12:33:48.130Z"
   },
   {
    "duration": 22,
    "start_time": "2024-06-19T12:33:48.154Z"
   },
   {
    "duration": 72,
    "start_time": "2024-06-19T12:33:48.179Z"
   },
   {
    "duration": 193,
    "start_time": "2024-06-19T12:33:48.254Z"
   },
   {
    "duration": 51,
    "start_time": "2024-06-19T12:33:48.453Z"
   },
   {
    "duration": 47,
    "start_time": "2024-06-19T12:33:48.533Z"
   },
   {
    "duration": 64,
    "start_time": "2024-06-19T12:33:48.584Z"
   },
   {
    "duration": 272,
    "start_time": "2024-06-19T12:33:48.654Z"
   },
   {
    "duration": 298,
    "start_time": "2024-06-19T12:33:48.932Z"
   },
   {
    "duration": 139,
    "start_time": "2024-06-19T12:33:49.234Z"
   },
   {
    "duration": 19,
    "start_time": "2024-06-19T12:33:49.376Z"
   },
   {
    "duration": 47,
    "start_time": "2024-06-19T12:33:49.398Z"
   },
   {
    "duration": 42,
    "start_time": "2024-06-19T12:33:49.449Z"
   },
   {
    "duration": 56,
    "start_time": "2024-06-19T12:33:49.497Z"
   },
   {
    "duration": 8,
    "start_time": "2024-06-19T12:33:49.557Z"
   },
   {
    "duration": 1013,
    "start_time": "2024-06-19T12:33:49.568Z"
   },
   {
    "duration": 45,
    "start_time": "2024-06-19T12:33:50.585Z"
   },
   {
    "duration": 29,
    "start_time": "2024-06-19T12:33:50.633Z"
   },
   {
    "duration": 39,
    "start_time": "2024-06-19T12:33:50.666Z"
   },
   {
    "duration": 40,
    "start_time": "2024-06-19T12:33:50.732Z"
   },
   {
    "duration": 77,
    "start_time": "2024-06-19T12:33:50.776Z"
   },
   {
    "duration": 53,
    "start_time": "2024-06-19T12:33:50.856Z"
   },
   {
    "duration": 44,
    "start_time": "2024-06-19T12:33:50.930Z"
   },
   {
    "duration": 20,
    "start_time": "2024-06-19T12:33:50.979Z"
   },
   {
    "duration": 42,
    "start_time": "2024-06-19T12:33:51.003Z"
   },
   {
    "duration": 18,
    "start_time": "2024-06-19T12:33:51.048Z"
   },
   {
    "duration": 16,
    "start_time": "2024-06-19T12:33:51.072Z"
   },
   {
    "duration": 41,
    "start_time": "2024-06-19T12:33:51.092Z"
   },
   {
    "duration": 14,
    "start_time": "2024-06-19T12:33:51.136Z"
   },
   {
    "duration": 122,
    "start_time": "2024-06-19T12:33:51.154Z"
   },
   {
    "duration": 62,
    "start_time": "2024-06-19T12:33:51.280Z"
   },
   {
    "duration": 58,
    "start_time": "2024-06-19T12:33:51.347Z"
   },
   {
    "duration": 61,
    "start_time": "2024-06-19T12:33:51.430Z"
   },
   {
    "duration": 113,
    "start_time": "2024-06-19T12:33:51.495Z"
   },
   {
    "duration": 6,
    "start_time": "2024-06-19T12:33:51.611Z"
   },
   {
    "duration": 4,
    "start_time": "2024-06-19T12:33:51.633Z"
   },
   {
    "duration": 29,
    "start_time": "2024-06-19T12:33:51.640Z"
   },
   {
    "duration": 6,
    "start_time": "2024-06-19T12:33:51.675Z"
   },
   {
    "duration": 64,
    "start_time": "2024-06-19T12:33:51.684Z"
   },
   {
    "duration": 22,
    "start_time": "2024-06-19T12:33:51.755Z"
   },
   {
    "duration": 31,
    "start_time": "2024-06-19T12:33:51.787Z"
   },
   {
    "duration": 308,
    "start_time": "2024-06-20T13:15:43.188Z"
   },
   {
    "duration": 5024,
    "start_time": "2024-06-20T13:15:50.670Z"
   },
   {
    "duration": 708,
    "start_time": "2024-06-20T13:15:55.697Z"
   },
   {
    "duration": 30,
    "start_time": "2024-06-20T13:15:56.408Z"
   },
   {
    "duration": 91,
    "start_time": "2024-06-20T13:15:56.441Z"
   },
   {
    "duration": 424,
    "start_time": "2024-06-20T13:15:56.537Z"
   },
   {
    "duration": 32,
    "start_time": "2024-06-20T13:15:56.964Z"
   },
   {
    "duration": 30,
    "start_time": "2024-06-20T13:15:56.999Z"
   },
   {
    "duration": 25,
    "start_time": "2024-06-20T13:15:57.031Z"
   },
   {
    "duration": 19,
    "start_time": "2024-06-20T13:15:57.059Z"
   },
   {
    "duration": 56,
    "start_time": "2024-06-20T13:15:57.081Z"
   },
   {
    "duration": 33,
    "start_time": "2024-06-20T13:15:57.140Z"
   },
   {
    "duration": 195,
    "start_time": "2024-06-20T13:15:57.177Z"
   },
   {
    "duration": 50,
    "start_time": "2024-06-20T13:15:57.376Z"
   },
   {
    "duration": 35,
    "start_time": "2024-06-20T13:15:57.432Z"
   },
   {
    "duration": 70,
    "start_time": "2024-06-20T13:15:57.470Z"
   },
   {
    "duration": 268,
    "start_time": "2024-06-20T13:15:57.543Z"
   },
   {
    "duration": 247,
    "start_time": "2024-06-20T13:15:57.813Z"
   },
   {
    "duration": 117,
    "start_time": "2024-06-20T13:15:58.063Z"
   },
   {
    "duration": 2045,
    "start_time": "2024-06-20T13:15:58.182Z"
   },
   {
    "duration": 932,
    "start_time": "2024-06-20T13:28:53.607Z"
   },
   {
    "duration": 54224,
    "start_time": "2024-06-20T13:29:33.161Z"
   },
   {
    "duration": 1340,
    "start_time": "2024-06-20T13:50:56.907Z"
   },
   {
    "duration": 620,
    "start_time": "2024-06-20T13:50:58.250Z"
   },
   {
    "duration": 29,
    "start_time": "2024-06-20T13:50:58.873Z"
   },
   {
    "duration": 85,
    "start_time": "2024-06-20T13:50:58.906Z"
   },
   {
    "duration": 433,
    "start_time": "2024-06-20T13:50:58.993Z"
   },
   {
    "duration": 39,
    "start_time": "2024-06-20T13:50:59.429Z"
   },
   {
    "duration": 11,
    "start_time": "2024-06-20T13:50:59.472Z"
   },
   {
    "duration": 64,
    "start_time": "2024-06-20T13:50:59.487Z"
   },
   {
    "duration": 23,
    "start_time": "2024-06-20T13:50:59.554Z"
   },
   {
    "duration": 47,
    "start_time": "2024-06-20T13:50:59.583Z"
   },
   {
    "duration": 44,
    "start_time": "2024-06-20T13:50:59.633Z"
   },
   {
    "duration": 211,
    "start_time": "2024-06-20T13:50:59.681Z"
   },
   {
    "duration": 59,
    "start_time": "2024-06-20T13:50:59.896Z"
   },
   {
    "duration": 35,
    "start_time": "2024-06-20T13:50:59.959Z"
   },
   {
    "duration": 70,
    "start_time": "2024-06-20T13:50:59.997Z"
   },
   {
    "duration": 280,
    "start_time": "2024-06-20T13:51:00.070Z"
   },
   {
    "duration": 263,
    "start_time": "2024-06-20T13:51:00.352Z"
   },
   {
    "duration": 133,
    "start_time": "2024-06-20T13:51:00.624Z"
   },
   {
    "duration": 17,
    "start_time": "2024-06-20T13:51:00.760Z"
   },
   {
    "duration": 52,
    "start_time": "2024-06-20T13:51:00.780Z"
   },
   {
    "duration": 40,
    "start_time": "2024-06-20T13:51:00.836Z"
   },
   {
    "duration": 48,
    "start_time": "2024-06-20T13:51:00.879Z"
   },
   {
    "duration": 6,
    "start_time": "2024-06-20T13:51:00.930Z"
   },
   {
    "duration": 968,
    "start_time": "2024-06-20T13:51:00.939Z"
   },
   {
    "duration": 31,
    "start_time": "2024-06-20T13:51:01.910Z"
   },
   {
    "duration": 26,
    "start_time": "2024-06-20T13:51:01.944Z"
   },
   {
    "duration": 65,
    "start_time": "2024-06-20T13:51:01.973Z"
   },
   {
    "duration": 33,
    "start_time": "2024-06-20T13:51:02.046Z"
   },
   {
    "duration": 68,
    "start_time": "2024-06-20T13:51:02.083Z"
   },
   {
    "duration": 44,
    "start_time": "2024-06-20T13:51:02.154Z"
   },
   {
    "duration": 56,
    "start_time": "2024-06-20T13:51:02.201Z"
   },
   {
    "duration": 17,
    "start_time": "2024-06-20T13:51:02.260Z"
   },
   {
    "duration": 45,
    "start_time": "2024-06-20T13:51:02.280Z"
   },
   {
    "duration": 17,
    "start_time": "2024-06-20T13:51:02.327Z"
   },
   {
    "duration": 13,
    "start_time": "2024-06-20T13:51:02.347Z"
   },
   {
    "duration": 13,
    "start_time": "2024-06-20T13:51:02.363Z"
   },
   {
    "duration": 53,
    "start_time": "2024-06-20T13:51:02.379Z"
   },
   {
    "duration": 104,
    "start_time": "2024-06-20T13:51:02.435Z"
   },
   {
    "duration": 43,
    "start_time": "2024-06-20T13:51:02.542Z"
   },
   {
    "duration": 75,
    "start_time": "2024-06-20T13:51:02.588Z"
   },
   {
    "duration": 61,
    "start_time": "2024-06-20T13:51:02.666Z"
   },
   {
    "duration": 107,
    "start_time": "2024-06-20T13:51:02.730Z"
   },
   {
    "duration": 6,
    "start_time": "2024-06-20T13:51:02.841Z"
   },
   {
    "duration": 6,
    "start_time": "2024-06-20T13:51:02.850Z"
   },
   {
    "duration": 68,
    "start_time": "2024-06-20T13:51:02.860Z"
   },
   {
    "duration": 7,
    "start_time": "2024-06-20T13:51:02.933Z"
   },
   {
    "duration": 25,
    "start_time": "2024-06-20T13:51:02.943Z"
   },
   {
    "duration": 15,
    "start_time": "2024-06-20T13:51:02.971Z"
   },
   {
    "duration": 14,
    "start_time": "2024-06-20T13:51:03.023Z"
   }
  ],
  "kernelspec": {
   "display_name": "Python 3 (ipykernel)",
   "language": "python",
   "name": "python3"
  },
  "language_info": {
   "codemirror_mode": {
    "name": "ipython",
    "version": 3
   },
   "file_extension": ".py",
   "mimetype": "text/x-python",
   "name": "python",
   "nbconvert_exporter": "python",
   "pygments_lexer": "ipython3",
   "version": "3.12.1"
  },
  "toc": {
   "base_numbering": 1,
   "nav_menu": {},
   "number_sections": true,
   "sideBar": true,
   "skip_h1_title": true,
   "title_cell": "Table of Contents",
   "title_sidebar": "Contents",
   "toc_cell": false,
   "toc_position": {},
   "toc_section_display": true,
   "toc_window_display": false
  }
 },
 "nbformat": 4,
 "nbformat_minor": 4
}
